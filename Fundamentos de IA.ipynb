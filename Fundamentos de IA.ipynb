{
  "cells": [
    {
      "cell_type": "markdown",
      "metadata": {
        "id": "view-in-github",
        "colab_type": "text"
      },
      "source": [
        "<a href=\"https://colab.research.google.com/github/igomezv/HerramientasComputacionales/blob/main/Fundamentos%20de%20IA.ipynb\" target=\"_parent\"><img src=\"https://colab.research.google.com/assets/colab-badge.svg\" alt=\"Open In Colab\"/></a>"
      ]
    },
    {
      "cell_type": "markdown",
      "id": "764ec5a4",
      "metadata": {
        "id": "764ec5a4"
      },
      "source": [
        "# Fundamentos de IA\n",
        "\n",
        "- Introducción a la IA\n",
        "- Tipos de IA\n",
        "- Campos de aplicación de la IA\n",
        "- Introducción al aprendizaje automático\n",
        "    - Historia de la IA\n",
        "    - Aprendizaje del perceptron\n",
        "    - ¿Dónde encontrar datos para entrenar?\n",
        "\n",
        "\n",
        "## Introducción a la Inteligencia Artificial\n",
        "\n",
        "![](https://raw.githubusercontent.com/igomezv/DataScienceIntermedio/main/img/kasparov.jpeg)\n",
        "Fuente de la imagen: britannica.com\n",
        "\n",
        "![](https://raw.githubusercontent.com/igomezv/DataScienceIntermedio/main/img/alphago.png)\n",
        "Fuente de la imagen: qz.com/877721\n",
        "\n",
        "\n",
        "### Qué es la Inteligencia Artificial?\n",
        "\n",
        "    \"Es la ciencia y la ingeniería de fabricar máquinas inteligentes, especialmente programas informáticos inteligentes. Está relacionado con la tarea similar de usar computadoras para comprender la inteligencia humana, pero la IA no tiene que limitarse a métodos que son biológicamente observables\".\n",
        "\n",
        "John McCarthy (2004) What is artificial intelligence.\n",
        "\n",
        "![](https://raw.githubusercontent.com/igomezv/DataScienceIntermedio/main/img/VennIA2.png)\n",
        "Fuente de la imagen: Gonzalez Viejo, et al (2019). Emerging technologies based on artificial intelligence to assess quality and consumer preference of beverages. Beverages. 5.\n",
        "\n",
        "![](https://raw.githubusercontent.com/igomezv/DataScienceIntermedio/main/img/vennIA.png)\n",
        "Fuente de la imagen: Gmggroup.org\n",
        "\n",
        "## Tipos de IA\n",
        "Fuente de las siguientes 3 figuras: https://learnetutorials.com/artificial-intelligence/types-of-artificial-intelligence\n",
        "\n",
        "![](https://raw.githubusercontent.com/igomezv/DataScienceIntermedio/main/img/types-ai.png)\n",
        "\n",
        "![](https://raw.githubusercontent.com/igomezv/DataScienceIntermedio/main/img/types-ai1.png)\n",
        "\n",
        "![](https://raw.githubusercontent.com/igomezv/DataScienceIntermedio/main/img/types-ai2.png)\n",
        "\n",
        "## Campos de aplicación de la IA\n",
        "\n",
        "![](https://raw.githubusercontent.com/igomezv/DataScienceIntermedio/main/img/ia_apps1.jpg)\n",
        "Fuente de la imagen: europarl.europa.eu\n",
        "\n",
        "![](https://raw.githubusercontent.com/igomezv/DataScienceIntermedio/main/img/ia_apps2.jpg)\n",
        "Fuente de la imagen: https://contaduriapublica.org.mx/2019/08/01/inteligencia-artificial/\n",
        "\n",
        "## Introducción al aprendizaje automático\n",
        "\n",
        "### Un poco de historia\n",
        "\n",
        "\n",
        "![](https://raw.githubusercontent.com/igomezv/MACS_2021_ML_basics_neural_networks/main/figures/timeline.png)\n",
        "\n",
        "\n",
        "### 1943. Modelo lógico para una neurona de McCulloch-Pitts\n",
        "\n",
        "![](https://images.computerhistory.org/timeline/timeline_computers_1939.hewlettpackard.jpg)\n",
        "\n",
        "![](https://raw.githubusercontent.com/igomezv/MACS_2021_neural_networks/main/figures/ANN.png)\n",
        "\n",
        "Compuertas lógicas:\n",
        "\n",
        "![](https://raw.githubusercontent.com/igomezv/MACS_2021_ML_basics_neural_networks/main/figures/compuertas.png)\n"
      ]
    },
    {
      "cell_type": "code",
      "execution_count": null,
      "id": "6144e613",
      "metadata": {
        "id": "6144e613"
      },
      "outputs": [],
      "source": [
        "import numpy as np\n",
        "import pandas as pd\n",
        "import matplotlib.pyplot as plt\n",
        "import seaborn as sns"
      ]
    },
    {
      "cell_type": "code",
      "execution_count": null,
      "id": "07e415a6",
      "metadata": {
        "id": "07e415a6"
      },
      "outputs": [],
      "source": [
        "def fn_activacion(mensaje, pesos, umbral):\n",
        "    x = mensaje\n",
        "    sum_ = np.inner(pesos, x)\n",
        "\n",
        "    if sum_ >= umbral:\n",
        "        return 1\n",
        "    else:\n",
        "        return 0\n",
        "\n",
        "def neurona(senal_entrada, etiquetas_entrada,\n",
        "            etiqueta_salida, pesos = [1,1], umbral = 1):\n",
        "    pesos = np.array(pesos)\n",
        "    umbral = umbral\n",
        "\n",
        "    tabla_logica = pd.DataFrame(senal_entrada, columns = etiquetas_entrada)\n",
        "    senal_salida = []\n",
        "\n",
        "    for senal in senal_entrada:\n",
        "        signal = fn_activacion(senal, pesos, umbral)\n",
        "        senal_salida.append(signal)\n",
        "\n",
        "    tabla_logica[etiqueta_salida] = pd.Series(senal_salida)\n",
        "\n",
        "    return tabla_logica"
      ]
    },
    {
      "cell_type": "code",
      "execution_count": null,
      "id": "70a9eacf",
      "metadata": {
        "id": "70a9eacf",
        "outputId": "12415975-fbe5-4d70-ccaa-3b02bf01afd3"
      },
      "outputs": [
        {
          "name": "stdout",
          "output_type": "stream",
          "text": [
            "   x1  x2  y\n",
            "0   0   0  0\n",
            "1   0   1  1\n",
            "2   1   0  1\n",
            "3   1   1  1\n"
          ]
        }
      ],
      "source": [
        "entradas = np.array([[0,0], [0,1], [1,0], [1,1]])\n",
        "etiquetas_in = ['x1', 'x2']\n",
        "etiquetas_out = 'y'\n",
        "\n",
        "OR = neurona(entradas, etiquetas_in, etiquetas_out, pesos = [1,1], umbral = 1)\n",
        "\n",
        "print(OR)"
      ]
    },
    {
      "cell_type": "code",
      "execution_count": null,
      "id": "4ad8bbe5",
      "metadata": {
        "id": "4ad8bbe5",
        "outputId": "dd191c59-b9ab-4f3c-a131-602e83f60c9e"
      },
      "outputs": [
        {
          "name": "stdout",
          "output_type": "stream",
          "text": [
            "   x1  x2  y\n",
            "0   0   0  1\n",
            "1   0   1  1\n",
            "2   1   0  1\n",
            "3   1   1  0\n"
          ]
        }
      ],
      "source": [
        "entradas = np.array([[0,0], [0,1], [1,0], [1,1]])\n",
        "etiquetas_in = ['x1', 'x2']\n",
        "etiquetas_out = 'y'\n",
        "\n",
        "NAND = neurona(entradas, etiquetas_in, etiquetas_out, pesos = [-1,-1], umbral = -1)\n",
        "\n",
        "print(NAND)"
      ]
    },
    {
      "cell_type": "code",
      "execution_count": null,
      "id": "bf69c603",
      "metadata": {
        "id": "bf69c603",
        "outputId": "3abab185-5e85-40a1-f33c-e22783f4f49b"
      },
      "outputs": [
        {
          "name": "stdout",
          "output_type": "stream",
          "text": [
            "   x1  x2  y\n",
            "0   0   0  1\n",
            "1   0   1  0\n",
            "2   1   0  0\n",
            "3   1   1  0\n"
          ]
        }
      ],
      "source": [
        "entradas = np.array([[0,0], [0,1], [1,0], [1,1]])\n",
        "etiquetas_in = ['x1', 'x2']\n",
        "etiquetas_out = 'y'\n",
        "\n",
        "NOR = neurona(entradas, etiquetas_in, etiquetas_out, pesos = [-1,-1], umbral = 0)\n",
        "\n",
        "print(NOR)"
      ]
    },
    {
      "cell_type": "markdown",
      "id": "7d8edf17",
      "metadata": {
        "id": "7d8edf17"
      },
      "source": [
        "### -> Ejercicio 1 (opcional)\n",
        "\n",
        "Encuentra la configuración correcta del modelo neuronal de McCulloch-Pitts para las copuertas lógicas XNOR y AND"
      ]
    },
    {
      "cell_type": "markdown",
      "id": "7112bbbe",
      "metadata": {
        "id": "7112bbbe"
      },
      "source": [
        "# 1957 Perceptron\n",
        "\n",
        "![](https://news.cornell.edu/sites/default/files/styles/story_thumbnail_xlarge/public/2019-09/0925_rosenblatt_main.jpg?itok=SE0aS7ds)\n",
        "\n",
        "![](https://raw.githubusercontent.com/igomezv/MACS_2021_neural_networks/main/figures/perceptron_rule.png)"
      ]
    },
    {
      "cell_type": "code",
      "execution_count": null,
      "id": "f90d3466",
      "metadata": {
        "id": "f90d3466"
      },
      "outputs": [],
      "source": [
        "class Perceptron:\n",
        "    def __init__(self, alpha = 0.01, umbral = 0, intercepto = True, epocas = 10):\n",
        "        self.alpha = alpha\n",
        "        self.umbral = umbral\n",
        "        self.intercepto = intercepto\n",
        "        self.epocas = epocas\n",
        "\n",
        "\n",
        "    def aprender(self, X, y):\n",
        "        \"\"\"\n",
        "        Algoritnmo de aprendizaje del Perceptron para aprender los pesos del clasificador.\n",
        "\n",
        "        Parametros\n",
        "        ----------\n",
        "        X : array-like, shape = [N, m]\n",
        "            Entradas de entrenamiento.\n",
        "        y : array-like, shape = [N, 1]\n",
        "            Etiquetas de entrenamiento.\n",
        "        \"\"\"\n",
        "\n",
        "        N = X.shape[0]\n",
        "\n",
        "        if self.intercepto:\n",
        "            X = np.concatenate((np.ones([N,1]), X), axis = 1)\n",
        "\n",
        "        m = X.shape[1]\n",
        "\n",
        "        self.w_ = self.inicializar(m)\n",
        "        self.errores_ = []\n",
        "\n",
        "        for ep in range(self.epocas):\n",
        "            errores = 0\n",
        "            print(\"Epoca {}/{}\".format(ep+1, self.epocas), end='\\r')\n",
        "\n",
        "            for x_n, y_n in zip(X,y):\n",
        "                x_n = x_n.reshape((m, 1))\n",
        "                update = self.alpha*(y_n - self.predecir(x_n))*x_n\n",
        "                self.w_ += update\n",
        "                errores += np.sum(update != 0.0)/(m)\n",
        "\n",
        "            self.errores_.append(errores)\n",
        "\n",
        "\n",
        "\n",
        "    def inicializar(self, m):\n",
        "        \"\"\"Inicializar vector con pesos igual a cero\"\"\"\n",
        "        return np.zeros([m, 1])\n",
        "\n",
        "\n",
        "    def predecir(self, x):\n",
        "            \"\"\"Función de activación Heaviside\"\"\"\n",
        "            return np.where(np.dot(self.w_.T, x) >= self.umbral, 1, -1)"
      ]
    },
    {
      "cell_type": "code",
      "execution_count": null,
      "id": "79895f2b",
      "metadata": {
        "id": "79895f2b",
        "outputId": "3acff22a-ff9a-45bf-8fff-a45e35a3cd43"
      },
      "outputs": [
        {
          "name": "stdout",
          "output_type": "stream",
          "text": [
            "Epoca 1/10\r",
            "Epoca 2/10\r",
            "Epoca 3/10\r",
            "Epoca 4/10\r",
            "Epoca 5/10\r",
            "Epoca 6/10\r",
            "Epoca 7/10\r",
            "Epoca 8/10\r",
            "Epoca 9/10\r",
            "Epoca 10/10\r"
          ]
        },
        {
          "data": {
            "image/png": "[encoded data removed]",
            "text/plain": [
              "<Figure size 640x480 with 1 Axes>"
            ]
          },
          "metadata": {},
          "output_type": "display_data"
        }
      ],
      "source": [
        "OR = np.array([[0,0,0], [0,1,1], [1,0,1], [1,1,1]])\n",
        "\n",
        "OR_pcptrn = Perceptron(alpha=0.1, umbral=0.5, intercepto = False, epocas=10)\n",
        "OR_pcptrn.aprender(X = OR[:,0:2], y = OR[:,2:])\n",
        "\n",
        "# OR Gate Decision Boundery\n",
        "plt.scatter(OR[1:,0], OR[1:,1], color='black', marker = 'o')\n",
        "plt.scatter(OR[0,0], OR[0,1], color='white', edgecolor = 'black', marker='o')\n",
        "\n",
        "xx = np.linspace(0.0, 0.5)\n",
        "w = OR_pcptrn.w_\n",
        "a = 0.5\n",
        "b = -w[0]/w[1]\n",
        "yy = a + b*xx\n",
        "\n",
        "plt.plot(xx, yy, '--', color = 'black')\n",
        "\n",
        "plt.show()\n"
      ]
    },
    {
      "cell_type": "code",
      "execution_count": null,
      "id": "b389fb81",
      "metadata": {
        "id": "b389fb81",
        "outputId": "00b7b53b-de9b-43d0-b252-7baf58672ec5"
      },
      "outputs": [
        {
          "name": "stdout",
          "output_type": "stream",
          "text": [
            "Epoca 1/10\r",
            "Epoca 2/10\r",
            "Epoca 3/10\r",
            "Epoca 4/10\r",
            "Epoca 5/10\r",
            "Epoca 6/10\r",
            "Epoca 7/10\r",
            "Epoca 8/10\r",
            "Epoca 9/10\r",
            "Epoca 10/10\r"
          ]
        },
        {
          "data": {
            "image/png": "[encoded data removed]",
            "text/plain": [
              "<Figure size 640x480 with 1 Axes>"
            ]
          },
          "metadata": {},
          "output_type": "display_data"
        }
      ],
      "source": [
        "AND = np.array([[0,0,0], [0,1,0], [1,0,0], [1,1,1]])\n",
        "\n",
        "AND_pcptrn = Perceptron(alpha=0.1, umbral=1.5, intercepto = False, epocas=10)\n",
        "AND_pcptrn.aprender(X = AND[:,0:2], y = AND[:,2:])\n",
        "\n",
        "# OR Gate Decision Boundery\n",
        "plt.scatter(AND[3,0], AND[3,1], color='black', marker = 'o')\n",
        "plt.scatter(AND[:3,0], AND[:3,1], color='white', edgecolor = 'black', marker='o')\n",
        "\n",
        "xx = np.linspace(0.5, 1)\n",
        "w = AND_pcptrn.w_\n",
        "a = 1.5\n",
        "b = -w[0]/w[1]\n",
        "yy = a + b*xx\n",
        "\n",
        "plt.plot(xx, yy, '--', color = 'black')\n",
        "\n",
        "plt.show()"
      ]
    },
    {
      "cell_type": "markdown",
      "id": "977b8669",
      "metadata": {
        "id": "977b8669"
      },
      "source": [
        "### Ejercicio: Usar el perceptron para hacer la clasificacion binaria de: https://archive.ics.uci.edu/ml/machine-learning-databases/breast-cancer-wisconsin/ Por simplicidad, solamente considerar dos atributos."
      ]
    },
    {
      "cell_type": "code",
      "execution_count": null,
      "id": "12a06572",
      "metadata": {
        "scrolled": true,
        "id": "12a06572",
        "outputId": "2e98b0c4-b34f-4f1f-d7b3-a36de7124dc4"
      },
      "outputs": [
        {
          "data": {
            "text/html": [
              "<div>\n",
              "<style scoped>\n",
              "    .dataframe tbody tr th:only-of-type {\n",
              "        vertical-align: middle;\n",
              "    }\n",
              "\n",
              "    .dataframe tbody tr th {\n",
              "        vertical-align: top;\n",
              "    }\n",
              "\n",
              "    .dataframe thead th {\n",
              "        text-align: right;\n",
              "    }\n",
              "</style>\n",
              "<table border=\"1\" class=\"dataframe\">\n",
              "  <thead>\n",
              "    <tr style=\"text-align: right;\">\n",
              "      <th></th>\n",
              "      <th>clumb-thick</th>\n",
              "      <th>ucellsize</th>\n",
              "      <th>ucellshape</th>\n",
              "      <th>margadh</th>\n",
              "      <th>singlepcellsize</th>\n",
              "      <th>barenuclei</th>\n",
              "      <th>blandchr</th>\n",
              "      <th>normalnucleoli</th>\n",
              "      <th>mitoses</th>\n",
              "      <th>class</th>\n",
              "    </tr>\n",
              "  </thead>\n",
              "  <tbody>\n",
              "    <tr>\n",
              "      <th>1000025</th>\n",
              "      <td>5</td>\n",
              "      <td>1</td>\n",
              "      <td>1</td>\n",
              "      <td>1</td>\n",
              "      <td>2</td>\n",
              "      <td>1</td>\n",
              "      <td>3</td>\n",
              "      <td>1</td>\n",
              "      <td>1</td>\n",
              "      <td>2</td>\n",
              "    </tr>\n",
              "    <tr>\n",
              "      <th>1002945</th>\n",
              "      <td>5</td>\n",
              "      <td>4</td>\n",
              "      <td>4</td>\n",
              "      <td>5</td>\n",
              "      <td>7</td>\n",
              "      <td>10</td>\n",
              "      <td>3</td>\n",
              "      <td>2</td>\n",
              "      <td>1</td>\n",
              "      <td>2</td>\n",
              "    </tr>\n",
              "    <tr>\n",
              "      <th>1015425</th>\n",
              "      <td>3</td>\n",
              "      <td>1</td>\n",
              "      <td>1</td>\n",
              "      <td>1</td>\n",
              "      <td>2</td>\n",
              "      <td>2</td>\n",
              "      <td>3</td>\n",
              "      <td>1</td>\n",
              "      <td>1</td>\n",
              "      <td>2</td>\n",
              "    </tr>\n",
              "    <tr>\n",
              "      <th>1016277</th>\n",
              "      <td>6</td>\n",
              "      <td>8</td>\n",
              "      <td>8</td>\n",
              "      <td>1</td>\n",
              "      <td>3</td>\n",
              "      <td>4</td>\n",
              "      <td>3</td>\n",
              "      <td>7</td>\n",
              "      <td>1</td>\n",
              "      <td>2</td>\n",
              "    </tr>\n",
              "    <tr>\n",
              "      <th>1017023</th>\n",
              "      <td>4</td>\n",
              "      <td>1</td>\n",
              "      <td>1</td>\n",
              "      <td>3</td>\n",
              "      <td>2</td>\n",
              "      <td>1</td>\n",
              "      <td>3</td>\n",
              "      <td>1</td>\n",
              "      <td>1</td>\n",
              "      <td>2</td>\n",
              "    </tr>\n",
              "  </tbody>\n",
              "</table>\n",
              "</div>"
            ],
            "text/plain": [
              "         clumb-thick  ucellsize  ucellshape  margadh  singlepcellsize  \\\n",
              "1000025            5          1           1        1                2   \n",
              "1002945            5          4           4        5                7   \n",
              "1015425            3          1           1        1                2   \n",
              "1016277            6          8           8        1                3   \n",
              "1017023            4          1           1        3                2   \n",
              "\n",
              "        barenuclei  blandchr  normalnucleoli  mitoses  class  \n",
              "1000025          1         3               1        1      2  \n",
              "1002945         10         3               2        1      2  \n",
              "1015425          2         3               1        1      2  \n",
              "1016277          4         3               7        1      2  \n",
              "1017023          1         3               1        1      2  "
            ]
          },
          "execution_count": 9,
          "metadata": {},
          "output_type": "execute_result"
        }
      ],
      "source": [
        "file = 'https://raw.githubusercontent.com/igomezv/DataScienceIntermedio/main/datasets/binary_cancer/breast-cancer-wisconsin.data'\n",
        "data_bcancer = pd.read_csv(file)\n",
        "data_bcancer.head()"
      ]
    },
    {
      "cell_type": "markdown",
      "id": "858e36a3",
      "metadata": {
        "id": "858e36a3"
      },
      "source": [
        "Solucion: Buscar las variables menos correlacionadas, es decir, las mas alejadas de 1."
      ]
    },
    {
      "cell_type": "code",
      "execution_count": null,
      "id": "9a186b67",
      "metadata": {
        "id": "9a186b67",
        "outputId": "dd18fa59-7f3f-4a96-fbc5-615105cbf3dd"
      },
      "outputs": [
        {
          "name": "stderr",
          "output_type": "stream",
          "text": [
            "/tmp/ipykernel_26646/2379217958.py:1: FutureWarning: The default value of numeric_only in DataFrame.corr is deprecated. In a future version, it will default to False. Select only valid columns or specify the value of numeric_only to silence this warning.\n",
            "  data_bcancer.corr()\n"
          ]
        },
        {
          "data": {
            "text/html": [
              "<div>\n",
              "<style scoped>\n",
              "    .dataframe tbody tr th:only-of-type {\n",
              "        vertical-align: middle;\n",
              "    }\n",
              "\n",
              "    .dataframe tbody tr th {\n",
              "        vertical-align: top;\n",
              "    }\n",
              "\n",
              "    .dataframe thead th {\n",
              "        text-align: right;\n",
              "    }\n",
              "</style>\n",
              "<table border=\"1\" class=\"dataframe\">\n",
              "  <thead>\n",
              "    <tr style=\"text-align: right;\">\n",
              "      <th></th>\n",
              "      <th>clumb-thick</th>\n",
              "      <th>ucellsize</th>\n",
              "      <th>ucellshape</th>\n",
              "      <th>margadh</th>\n",
              "      <th>singlepcellsize</th>\n",
              "      <th>blandchr</th>\n",
              "      <th>normalnucleoli</th>\n",
              "      <th>mitoses</th>\n",
              "      <th>class</th>\n",
              "    </tr>\n",
              "  </thead>\n",
              "  <tbody>\n",
              "    <tr>\n",
              "      <th>clumb-thick</th>\n",
              "      <td>1.000000</td>\n",
              "      <td>0.644913</td>\n",
              "      <td>0.654589</td>\n",
              "      <td>0.486356</td>\n",
              "      <td>0.521816</td>\n",
              "      <td>0.558428</td>\n",
              "      <td>0.535835</td>\n",
              "      <td>0.350034</td>\n",
              "      <td>0.716001</td>\n",
              "    </tr>\n",
              "    <tr>\n",
              "      <th>ucellsize</th>\n",
              "      <td>0.644913</td>\n",
              "      <td>1.000000</td>\n",
              "      <td>0.906882</td>\n",
              "      <td>0.705582</td>\n",
              "      <td>0.751799</td>\n",
              "      <td>0.755721</td>\n",
              "      <td>0.722865</td>\n",
              "      <td>0.458693</td>\n",
              "      <td>0.817904</td>\n",
              "    </tr>\n",
              "    <tr>\n",
              "      <th>ucellshape</th>\n",
              "      <td>0.654589</td>\n",
              "      <td>0.906882</td>\n",
              "      <td>1.000000</td>\n",
              "      <td>0.683079</td>\n",
              "      <td>0.719668</td>\n",
              "      <td>0.735948</td>\n",
              "      <td>0.719446</td>\n",
              "      <td>0.438911</td>\n",
              "      <td>0.818934</td>\n",
              "    </tr>\n",
              "    <tr>\n",
              "      <th>margadh</th>\n",
              "      <td>0.486356</td>\n",
              "      <td>0.705582</td>\n",
              "      <td>0.683079</td>\n",
              "      <td>1.000000</td>\n",
              "      <td>0.599599</td>\n",
              "      <td>0.666715</td>\n",
              "      <td>0.603352</td>\n",
              "      <td>0.417633</td>\n",
              "      <td>0.696800</td>\n",
              "    </tr>\n",
              "    <tr>\n",
              "      <th>singlepcellsize</th>\n",
              "      <td>0.521816</td>\n",
              "      <td>0.751799</td>\n",
              "      <td>0.719668</td>\n",
              "      <td>0.599599</td>\n",
              "      <td>1.000000</td>\n",
              "      <td>0.616102</td>\n",
              "      <td>0.628881</td>\n",
              "      <td>0.479101</td>\n",
              "      <td>0.682785</td>\n",
              "    </tr>\n",
              "    <tr>\n",
              "      <th>blandchr</th>\n",
              "      <td>0.558428</td>\n",
              "      <td>0.755721</td>\n",
              "      <td>0.735948</td>\n",
              "      <td>0.666715</td>\n",
              "      <td>0.616102</td>\n",
              "      <td>1.000000</td>\n",
              "      <td>0.665878</td>\n",
              "      <td>0.344169</td>\n",
              "      <td>0.756616</td>\n",
              "    </tr>\n",
              "    <tr>\n",
              "      <th>normalnucleoli</th>\n",
              "      <td>0.535835</td>\n",
              "      <td>0.722865</td>\n",
              "      <td>0.719446</td>\n",
              "      <td>0.603352</td>\n",
              "      <td>0.628881</td>\n",
              "      <td>0.665878</td>\n",
              "      <td>1.000000</td>\n",
              "      <td>0.428336</td>\n",
              "      <td>0.712244</td>\n",
              "    </tr>\n",
              "    <tr>\n",
              "      <th>mitoses</th>\n",
              "      <td>0.350034</td>\n",
              "      <td>0.458693</td>\n",
              "      <td>0.438911</td>\n",
              "      <td>0.417633</td>\n",
              "      <td>0.479101</td>\n",
              "      <td>0.344169</td>\n",
              "      <td>0.428336</td>\n",
              "      <td>1.000000</td>\n",
              "      <td>0.423170</td>\n",
              "    </tr>\n",
              "    <tr>\n",
              "      <th>class</th>\n",
              "      <td>0.716001</td>\n",
              "      <td>0.817904</td>\n",
              "      <td>0.818934</td>\n",
              "      <td>0.696800</td>\n",
              "      <td>0.682785</td>\n",
              "      <td>0.756616</td>\n",
              "      <td>0.712244</td>\n",
              "      <td>0.423170</td>\n",
              "      <td>1.000000</td>\n",
              "    </tr>\n",
              "  </tbody>\n",
              "</table>\n",
              "</div>"
            ],
            "text/plain": [
              "                 clumb-thick  ucellsize  ucellshape   margadh  \\\n",
              "clumb-thick         1.000000   0.644913    0.654589  0.486356   \n",
              "ucellsize           0.644913   1.000000    0.906882  0.705582   \n",
              "ucellshape          0.654589   0.906882    1.000000  0.683079   \n",
              "margadh             0.486356   0.705582    0.683079  1.000000   \n",
              "singlepcellsize     0.521816   0.751799    0.719668  0.599599   \n",
              "blandchr            0.558428   0.755721    0.735948  0.666715   \n",
              "normalnucleoli      0.535835   0.722865    0.719446  0.603352   \n",
              "mitoses             0.350034   0.458693    0.438911  0.417633   \n",
              "class               0.716001   0.817904    0.818934  0.696800   \n",
              "\n",
              "                 singlepcellsize  blandchr  normalnucleoli   mitoses     class  \n",
              "clumb-thick             0.521816  0.558428        0.535835  0.350034  0.716001  \n",
              "ucellsize               0.751799  0.755721        0.722865  0.458693  0.817904  \n",
              "ucellshape              0.719668  0.735948        0.719446  0.438911  0.818934  \n",
              "margadh                 0.599599  0.666715        0.603352  0.417633  0.696800  \n",
              "singlepcellsize         1.000000  0.616102        0.628881  0.479101  0.682785  \n",
              "blandchr                0.616102  1.000000        0.665878  0.344169  0.756616  \n",
              "normalnucleoli          0.628881  0.665878        1.000000  0.428336  0.712244  \n",
              "mitoses                 0.479101  0.344169        0.428336  1.000000  0.423170  \n",
              "class                   0.682785  0.756616        0.712244  0.423170  1.000000  "
            ]
          },
          "execution_count": 10,
          "metadata": {},
          "output_type": "execute_result"
        }
      ],
      "source": [
        "data_bcancer.corr()"
      ]
    },
    {
      "cell_type": "code",
      "execution_count": null,
      "id": "153a6734",
      "metadata": {
        "id": "153a6734",
        "outputId": "dde66409-4027-4921-88b0-e0267f695622"
      },
      "outputs": [
        {
          "name": "stderr",
          "output_type": "stream",
          "text": [
            "/tmp/ipykernel_26646/1336524906.py:1: FutureWarning: The default value of numeric_only in DataFrame.corr is deprecated. In a future version, it will default to False. Select only valid columns or specify the value of numeric_only to silence this warning.\n",
            "  np.min(data_bcancer.corr())\n",
            "/home/isidro/.local/lib/python3.10/site-packages/numpy/core/fromnumeric.py:84: FutureWarning: In a future version, DataFrame.min(axis=None) will return a scalar min over the entire DataFrame. To retain the old behavior, use 'frame.min(axis=0)' or just 'frame.min()'\n",
            "  return reduction(axis=axis, out=out, **passkwargs)\n"
          ]
        },
        {
          "data": {
            "text/plain": [
              "clumb-thick        0.350034\n",
              "ucellsize          0.458693\n",
              "ucellshape         0.438911\n",
              "margadh            0.417633\n",
              "singlepcellsize    0.479101\n",
              "blandchr           0.344169\n",
              "normalnucleoli     0.428336\n",
              "mitoses            0.344169\n",
              "class              0.423170\n",
              "dtype: float64"
            ]
          },
          "execution_count": 11,
          "metadata": {},
          "output_type": "execute_result"
        }
      ],
      "source": [
        "np.min(data_bcancer.corr())"
      ]
    },
    {
      "cell_type": "markdown",
      "id": "d5bc5463",
      "metadata": {
        "id": "d5bc5463"
      },
      "source": [
        "Es blandchr con mitoses: 0.344169"
      ]
    },
    {
      "cell_type": "code",
      "execution_count": null,
      "id": "b801489e",
      "metadata": {
        "id": "b801489e",
        "outputId": "0480288c-ed25-49c1-ebda-f725c6b1a39b"
      },
      "outputs": [
        {
          "data": {
            "text/html": [
              "<div>\n",
              "<style scoped>\n",
              "    .dataframe tbody tr th:only-of-type {\n",
              "        vertical-align: middle;\n",
              "    }\n",
              "\n",
              "    .dataframe tbody tr th {\n",
              "        vertical-align: top;\n",
              "    }\n",
              "\n",
              "    .dataframe thead th {\n",
              "        text-align: right;\n",
              "    }\n",
              "</style>\n",
              "<table border=\"1\" class=\"dataframe\">\n",
              "  <thead>\n",
              "    <tr style=\"text-align: right;\">\n",
              "      <th></th>\n",
              "      <th>blandchr</th>\n",
              "      <th>mitoses</th>\n",
              "      <th>class</th>\n",
              "    </tr>\n",
              "  </thead>\n",
              "  <tbody>\n",
              "    <tr>\n",
              "      <th>1000025</th>\n",
              "      <td>3</td>\n",
              "      <td>1</td>\n",
              "      <td>2</td>\n",
              "    </tr>\n",
              "    <tr>\n",
              "      <th>1002945</th>\n",
              "      <td>3</td>\n",
              "      <td>1</td>\n",
              "      <td>2</td>\n",
              "    </tr>\n",
              "    <tr>\n",
              "      <th>1015425</th>\n",
              "      <td>3</td>\n",
              "      <td>1</td>\n",
              "      <td>2</td>\n",
              "    </tr>\n",
              "    <tr>\n",
              "      <th>1016277</th>\n",
              "      <td>3</td>\n",
              "      <td>1</td>\n",
              "      <td>2</td>\n",
              "    </tr>\n",
              "    <tr>\n",
              "      <th>1017023</th>\n",
              "      <td>3</td>\n",
              "      <td>1</td>\n",
              "      <td>2</td>\n",
              "    </tr>\n",
              "    <tr>\n",
              "      <th>...</th>\n",
              "      <td>...</td>\n",
              "      <td>...</td>\n",
              "      <td>...</td>\n",
              "    </tr>\n",
              "    <tr>\n",
              "      <th>776715</th>\n",
              "      <td>1</td>\n",
              "      <td>1</td>\n",
              "      <td>2</td>\n",
              "    </tr>\n",
              "    <tr>\n",
              "      <th>841769</th>\n",
              "      <td>1</td>\n",
              "      <td>1</td>\n",
              "      <td>2</td>\n",
              "    </tr>\n",
              "    <tr>\n",
              "      <th>888820</th>\n",
              "      <td>8</td>\n",
              "      <td>2</td>\n",
              "      <td>4</td>\n",
              "    </tr>\n",
              "    <tr>\n",
              "      <th>897471</th>\n",
              "      <td>10</td>\n",
              "      <td>1</td>\n",
              "      <td>4</td>\n",
              "    </tr>\n",
              "    <tr>\n",
              "      <th>897471</th>\n",
              "      <td>10</td>\n",
              "      <td>1</td>\n",
              "      <td>4</td>\n",
              "    </tr>\n",
              "  </tbody>\n",
              "</table>\n",
              "<p>699 rows × 3 columns</p>\n",
              "</div>"
            ],
            "text/plain": [
              "         blandchr  mitoses  class\n",
              "1000025         3        1      2\n",
              "1002945         3        1      2\n",
              "1015425         3        1      2\n",
              "1016277         3        1      2\n",
              "1017023         3        1      2\n",
              "...           ...      ...    ...\n",
              "776715          1        1      2\n",
              "841769          1        1      2\n",
              "888820          8        2      4\n",
              "897471         10        1      4\n",
              "897471         10        1      4\n",
              "\n",
              "[699 rows x 3 columns]"
            ]
          },
          "execution_count": 12,
          "metadata": {},
          "output_type": "execute_result"
        }
      ],
      "source": [
        "data_bcancer_filter = data_bcancer[['blandchr', 'mitoses', 'class']]\n",
        "data_bcancer_filter"
      ]
    },
    {
      "cell_type": "code",
      "execution_count": null,
      "id": "6c4f92df",
      "metadata": {
        "id": "6c4f92df",
        "outputId": "07a4814f-6050-45d5-e6ab-dca91ea70c7f"
      },
      "outputs": [
        {
          "data": {
            "text/plain": [
              "((699, 2), (699, 1))"
            ]
          },
          "execution_count": 13,
          "metadata": {},
          "output_type": "execute_result"
        }
      ],
      "source": [
        "X = data_bcancer_filter.values[:,:2]\n",
        "Y = data_bcancer_filter.values[:, 2].reshape(-1,1)\n",
        "np.shape(X), np.shape(Y)"
      ]
    },
    {
      "cell_type": "code",
      "execution_count": null,
      "id": "88d7e8e2",
      "metadata": {
        "id": "88d7e8e2"
      },
      "outputs": [],
      "source": [
        "from sklearn.preprocessing import MinMaxScaler\n",
        "scalerx = MinMaxScaler(feature_range=(-1,1))\n",
        "scalerx.fit(X)\n",
        "X = scalerx.transform(X)"
      ]
    },
    {
      "cell_type": "markdown",
      "id": "63a4c2bd",
      "metadata": {
        "id": "63a4c2bd"
      },
      "source": [
        "#### Como el la funcion escalon pasa de -1 a 1, las clases de Y hay que convertirlas de 2 a 4 a-1 y 1 respectivamente"
      ]
    },
    {
      "cell_type": "code",
      "execution_count": null,
      "id": "618d7475",
      "metadata": {
        "id": "618d7475"
      },
      "outputs": [],
      "source": [
        "Y = np.where(Y == 2, -1, 1)"
      ]
    },
    {
      "cell_type": "markdown",
      "id": "390841ac",
      "metadata": {
        "id": "390841ac"
      },
      "source": [
        "Si nos fijamos en la suma ponderada, tenemos que la salida de la neurona antes de pasar por la funcion de activacion, es:\n",
        "\n",
        "$$w_1x_1+w_2x_2+w_3$$,\n",
        "\n",
        "donde $w_3$ es el bias; igualamos a cero, que es nuestro umbral:\n",
        "\n",
        "$$w_1x_1+w_2x_2+w_3=0$$\n",
        "\n",
        "Lo que queremos graficar es $x_1$ vs $x_2$, asi que despejamos $x_2$:\n",
        "\n",
        "$$x_2 = -\\frac{w_1}{w_2}x - \\frac{w_3}{w_2}$$\n",
        "\n",
        "Dado que en python los indices inician en 0 $w_1$ es w[0],  $w_2$ es w[1] y  $w_3$ es w[2]."
      ]
    },
    {
      "cell_type": "code",
      "execution_count": null,
      "id": "339685b2",
      "metadata": {
        "id": "339685b2"
      },
      "outputs": [],
      "source": [
        "pereceptron_cancer = Perceptron(alpha=1e-4, umbral=0, intercepto=True, epocas=100)"
      ]
    },
    {
      "cell_type": "code",
      "execution_count": null,
      "id": "cd5ccef0",
      "metadata": {
        "id": "cd5ccef0",
        "outputId": "4c5eea5b-f60e-4c27-fe7f-62f2d2399478"
      },
      "outputs": [
        {
          "name": "stdout",
          "output_type": "stream",
          "text": [
            "[[0.0006    ]\n",
            " [0.00086667]\n",
            " [0.00028889]]\n",
            "[-0.69230769] [-0.33333333]\n"
          ]
        },
        {
          "data": {
            "image/png": "[encoded data removed]",
            "text/plain": [
              "<Figure size 640x480 with 1 Axes>"
            ]
          },
          "metadata": {},
          "output_type": "display_data"
        }
      ],
      "source": [
        "\n",
        "\n",
        "# usacmos los datos estandarizados para entrenar\n",
        "pereceptron_cancer.aprender(X = X, y = Y)\n",
        "\n",
        "\n",
        "# mascara OR para colorear diferentes clases\n",
        "color= ['red' if l == -1 else 'green' for l in Y]\n",
        "\n",
        "plt.scatter(X[:,0], X[:,1], label='cancer dataset', color=color, marker = 'o')\n",
        "\n",
        "xx1 = np.linspace(min(X[:,0]), max(X[:,0]))\n",
        "w = pereceptron_cancer.w_\n",
        "print(w)\n",
        "m = -w[0]/w[1]\n",
        "b = -w[2]/w[1]\n",
        "print(m,b)\n",
        "xx2 = m*xx1+b\n",
        "\n",
        "plt.plot(xx1, xx2, '--', color = 'black')\n",
        "\n",
        "plt.show()"
      ]
    },
    {
      "cell_type": "markdown",
      "id": "4a2f4741",
      "metadata": {
        "id": "4a2f4741"
      },
      "source": [
        "## Introducción al Aprendizaje Automático\n",
        "\n",
        "![](https://raw.githubusercontent.com/igomezv/DataScienceIntermedio/main/img/ML_grafo.jpg)\n",
        "Fuente de la imagen: medium.com\n",
        "\n",
        "![](https://raw.githubusercontent.com/igomezv/DataScienceIntermedio/main/img/ML_tipos.png)\n",
        "Fuente de la imagen: mlearninglab.com\n",
        "\n",
        "\n",
        "![](https://raw.githubusercontent.com/igomezv/DataScienceIntermedio/main/img/ML_pipeline.png)\n",
        "Fuente de la imagen: Western Digital\n",
        "\n",
        "\n",
        "### Separacion del conjunto de datos\n",
        "\n",
        "Si se tienen pocos datos:\n",
        "![](https://raw.githubusercontent.com/igomezv/DataScienceIntermedio/main/img/split_data.png)\n",
        "\n",
        "Si hay datos suficientes:\n",
        "![](https://raw.githubusercontent.com/igomezv/DataScienceIntermedio/main/img/split_data2.png)\n",
        "\n",
        "Fuente de las figuras: https://vitalflux.com/hold-out-method-for-training-machine-learning-model/\n",
        "\n",
        "## Actividad, leer la base de datos usada anteriormente, revolver aleatoreamente sus valores y dividir en tres conjuntos, uno con el 70% y los otros dos con 15% cada uno."
      ]
    },
    {
      "cell_type": "code",
      "execution_count": null,
      "id": "67f8938b",
      "metadata": {
        "id": "67f8938b",
        "outputId": "ffb190e4-1e1a-4dd4-d4fe-78519f955346"
      },
      "outputs": [
        {
          "data": {
            "text/html": [
              "<div>\n",
              "<style scoped>\n",
              "    .dataframe tbody tr th:only-of-type {\n",
              "        vertical-align: middle;\n",
              "    }\n",
              "\n",
              "    .dataframe tbody tr th {\n",
              "        vertical-align: top;\n",
              "    }\n",
              "\n",
              "    .dataframe thead th {\n",
              "        text-align: right;\n",
              "    }\n",
              "</style>\n",
              "<table border=\"1\" class=\"dataframe\">\n",
              "  <thead>\n",
              "    <tr style=\"text-align: right;\">\n",
              "      <th></th>\n",
              "      <th>clumb-thick</th>\n",
              "      <th>ucellsize</th>\n",
              "      <th>ucellshape</th>\n",
              "      <th>margadh</th>\n",
              "      <th>singlepcellsize</th>\n",
              "      <th>barenuclei</th>\n",
              "      <th>blandchr</th>\n",
              "      <th>normalnucleoli</th>\n",
              "      <th>mitoses</th>\n",
              "      <th>class</th>\n",
              "    </tr>\n",
              "  </thead>\n",
              "  <tbody>\n",
              "    <tr>\n",
              "      <th>1000025</th>\n",
              "      <td>5</td>\n",
              "      <td>1</td>\n",
              "      <td>1</td>\n",
              "      <td>1</td>\n",
              "      <td>2</td>\n",
              "      <td>1</td>\n",
              "      <td>3</td>\n",
              "      <td>1</td>\n",
              "      <td>1</td>\n",
              "      <td>2</td>\n",
              "    </tr>\n",
              "    <tr>\n",
              "      <th>1002945</th>\n",
              "      <td>5</td>\n",
              "      <td>4</td>\n",
              "      <td>4</td>\n",
              "      <td>5</td>\n",
              "      <td>7</td>\n",
              "      <td>10</td>\n",
              "      <td>3</td>\n",
              "      <td>2</td>\n",
              "      <td>1</td>\n",
              "      <td>2</td>\n",
              "    </tr>\n",
              "    <tr>\n",
              "      <th>1015425</th>\n",
              "      <td>3</td>\n",
              "      <td>1</td>\n",
              "      <td>1</td>\n",
              "      <td>1</td>\n",
              "      <td>2</td>\n",
              "      <td>2</td>\n",
              "      <td>3</td>\n",
              "      <td>1</td>\n",
              "      <td>1</td>\n",
              "      <td>2</td>\n",
              "    </tr>\n",
              "    <tr>\n",
              "      <th>1016277</th>\n",
              "      <td>6</td>\n",
              "      <td>8</td>\n",
              "      <td>8</td>\n",
              "      <td>1</td>\n",
              "      <td>3</td>\n",
              "      <td>4</td>\n",
              "      <td>3</td>\n",
              "      <td>7</td>\n",
              "      <td>1</td>\n",
              "      <td>2</td>\n",
              "    </tr>\n",
              "    <tr>\n",
              "      <th>1017023</th>\n",
              "      <td>4</td>\n",
              "      <td>1</td>\n",
              "      <td>1</td>\n",
              "      <td>3</td>\n",
              "      <td>2</td>\n",
              "      <td>1</td>\n",
              "      <td>3</td>\n",
              "      <td>1</td>\n",
              "      <td>1</td>\n",
              "      <td>2</td>\n",
              "    </tr>\n",
              "  </tbody>\n",
              "</table>\n",
              "</div>"
            ],
            "text/plain": [
              "         clumb-thick  ucellsize  ucellshape  margadh  singlepcellsize  \\\n",
              "1000025            5          1           1        1                2   \n",
              "1002945            5          4           4        5                7   \n",
              "1015425            3          1           1        1                2   \n",
              "1016277            6          8           8        1                3   \n",
              "1017023            4          1           1        3                2   \n",
              "\n",
              "        barenuclei  blandchr  normalnucleoli  mitoses  class  \n",
              "1000025          1         3               1        1      2  \n",
              "1002945         10         3               2        1      2  \n",
              "1015425          2         3               1        1      2  \n",
              "1016277          4         3               7        1      2  \n",
              "1017023          1         3               1        1      2  "
            ]
          },
          "execution_count": 18,
          "metadata": {},
          "output_type": "execute_result"
        }
      ],
      "source": [
        "data_bcancer.head()"
      ]
    },
    {
      "cell_type": "code",
      "execution_count": null,
      "id": "c85efcbd",
      "metadata": {
        "id": "c85efcbd",
        "outputId": "dbcec4c2-b3f3-43d8-c1b6-48ba4b2de6ee"
      },
      "outputs": [
        {
          "data": {
            "text/plain": [
              "((524, 9), (88, 9), (87, 9), (524,), (88,), (87,))"
            ]
          },
          "execution_count": 19,
          "metadata": {},
          "output_type": "execute_result"
        }
      ],
      "source": [
        "from sklearn.model_selection import train_test_split\n",
        "## Primero separamos el conjunto de entrenamiento con 75% y otro temporal con el 25%\n",
        "data_train, data_temp = train_test_split(data_bcancer.values, train_size=0.75, shuffle=True)\n",
        "## El temporal lo partimos en dos partes iguales para obtener conjuntos de validacion y de prueba\n",
        "data_val, data_test = train_test_split(data_temp, test_size=0.5, shuffle=True)\n",
        "## Separamos X y Y para cada nuevo conjunto\n",
        "X_train, Y_train = data_train[:,:-1], data_train[:,-1]\n",
        "X_val, Y_val = data_val[:,:-1], data_val[:,-1]\n",
        "X_test, Y_test = data_test[:,:-1], data_test[:,-1]\n",
        "## Verificamos tamanos\n",
        "np.shape(X_train), np.shape(X_test), np.shape(X_val), np.shape(Y_train), np.shape(Y_test), np.shape(Y_val)"
      ]
    },
    {
      "cell_type": "markdown",
      "id": "51db6a06",
      "metadata": {
        "id": "51db6a06"
      },
      "source": [
        "Intentemos usar nuestros datos para un modelo sencillo con sklearn"
      ]
    },
    {
      "cell_type": "code",
      "execution_count": null,
      "id": "625ff65e",
      "metadata": {
        "id": "625ff65e",
        "outputId": "0655b237-0e27-4e18-970a-1b3d0987355a"
      },
      "outputs": [
        {
          "ename": "ValueError",
          "evalue": "could not convert string to float: '?'",
          "output_type": "error",
          "traceback": [
            "\u001b[0;31m---------------------------------------------------------------------------\u001b[0m",
            "\u001b[0;31mValueError\u001b[0m                                Traceback (most recent call last)",
            "Cell \u001b[0;32mIn[20], line 3\u001b[0m\n\u001b[1;32m      1\u001b[0m \u001b[38;5;28;01mfrom\u001b[39;00m \u001b[38;5;21;01msklearn\u001b[39;00m\u001b[38;5;21;01m.\u001b[39;00m\u001b[38;5;21;01mlinear_model\u001b[39;00m \u001b[38;5;28;01mimport\u001b[39;00m Perceptron\n\u001b[1;32m      2\u001b[0m clf \u001b[38;5;241m=\u001b[39m Perceptron(tol\u001b[38;5;241m=\u001b[39m\u001b[38;5;241m0.001\u001b[39m, random_state\u001b[38;5;241m=\u001b[39m\u001b[38;5;241m0\u001b[39m)\n\u001b[0;32m----> 3\u001b[0m \u001b[43mclf\u001b[49m\u001b[38;5;241;43m.\u001b[39;49m\u001b[43mfit\u001b[49m\u001b[43m(\u001b[49m\u001b[43mX_train\u001b[49m\u001b[43m,\u001b[49m\u001b[43m \u001b[49m\u001b[43mY_train\u001b[49m\u001b[43m)\u001b[49m\n",
            "File \u001b[0;32m~/.local/lib/python3.10/site-packages/sklearn/linear_model/_stochastic_gradient.py:894\u001b[0m, in \u001b[0;36mBaseSGDClassifier.fit\u001b[0;34m(self, X, y, coef_init, intercept_init, sample_weight)\u001b[0m\n\u001b[1;32m    891\u001b[0m \u001b[38;5;28mself\u001b[39m\u001b[38;5;241m.\u001b[39m_validate_params()\n\u001b[1;32m    892\u001b[0m \u001b[38;5;28mself\u001b[39m\u001b[38;5;241m.\u001b[39m_more_validate_params()\n\u001b[0;32m--> 894\u001b[0m \u001b[38;5;28;01mreturn\u001b[39;00m \u001b[38;5;28;43mself\u001b[39;49m\u001b[38;5;241;43m.\u001b[39;49m\u001b[43m_fit\u001b[49m\u001b[43m(\u001b[49m\n\u001b[1;32m    895\u001b[0m \u001b[43m    \u001b[49m\u001b[43mX\u001b[49m\u001b[43m,\u001b[49m\n\u001b[1;32m    896\u001b[0m \u001b[43m    \u001b[49m\u001b[43my\u001b[49m\u001b[43m,\u001b[49m\n\u001b[1;32m    897\u001b[0m \u001b[43m    \u001b[49m\u001b[43malpha\u001b[49m\u001b[38;5;241;43m=\u001b[39;49m\u001b[38;5;28;43mself\u001b[39;49m\u001b[38;5;241;43m.\u001b[39;49m\u001b[43malpha\u001b[49m\u001b[43m,\u001b[49m\n\u001b[1;32m    898\u001b[0m \u001b[43m    \u001b[49m\u001b[43mC\u001b[49m\u001b[38;5;241;43m=\u001b[39;49m\u001b[38;5;241;43m1.0\u001b[39;49m\u001b[43m,\u001b[49m\n\u001b[1;32m    899\u001b[0m \u001b[43m    \u001b[49m\u001b[43mloss\u001b[49m\u001b[38;5;241;43m=\u001b[39;49m\u001b[38;5;28;43mself\u001b[39;49m\u001b[38;5;241;43m.\u001b[39;49m\u001b[43mloss\u001b[49m\u001b[43m,\u001b[49m\n\u001b[1;32m    900\u001b[0m \u001b[43m    \u001b[49m\u001b[43mlearning_rate\u001b[49m\u001b[38;5;241;43m=\u001b[39;49m\u001b[38;5;28;43mself\u001b[39;49m\u001b[38;5;241;43m.\u001b[39;49m\u001b[43mlearning_rate\u001b[49m\u001b[43m,\u001b[49m\n\u001b[1;32m    901\u001b[0m \u001b[43m    \u001b[49m\u001b[43mcoef_init\u001b[49m\u001b[38;5;241;43m=\u001b[39;49m\u001b[43mcoef_init\u001b[49m\u001b[43m,\u001b[49m\n\u001b[1;32m    902\u001b[0m \u001b[43m    \u001b[49m\u001b[43mintercept_init\u001b[49m\u001b[38;5;241;43m=\u001b[39;49m\u001b[43mintercept_init\u001b[49m\u001b[43m,\u001b[49m\n\u001b[1;32m    903\u001b[0m \u001b[43m    \u001b[49m\u001b[43msample_weight\u001b[49m\u001b[38;5;241;43m=\u001b[39;49m\u001b[43msample_weight\u001b[49m\u001b[43m,\u001b[49m\n\u001b[1;32m    904\u001b[0m \u001b[43m\u001b[49m\u001b[43m)\u001b[49m\n",
            "File \u001b[0;32m~/.local/lib/python3.10/site-packages/sklearn/linear_model/_stochastic_gradient.py:683\u001b[0m, in \u001b[0;36mBaseSGDClassifier._fit\u001b[0;34m(self, X, y, alpha, C, loss, learning_rate, coef_init, intercept_init, sample_weight)\u001b[0m\n\u001b[1;32m    680\u001b[0m \u001b[38;5;66;03m# Clear iteration count for multiple call to fit.\u001b[39;00m\n\u001b[1;32m    681\u001b[0m \u001b[38;5;28mself\u001b[39m\u001b[38;5;241m.\u001b[39mt_ \u001b[38;5;241m=\u001b[39m \u001b[38;5;241m1.0\u001b[39m\n\u001b[0;32m--> 683\u001b[0m \u001b[38;5;28;43mself\u001b[39;49m\u001b[38;5;241;43m.\u001b[39;49m\u001b[43m_partial_fit\u001b[49m\u001b[43m(\u001b[49m\n\u001b[1;32m    684\u001b[0m \u001b[43m    \u001b[49m\u001b[43mX\u001b[49m\u001b[43m,\u001b[49m\n\u001b[1;32m    685\u001b[0m \u001b[43m    \u001b[49m\u001b[43my\u001b[49m\u001b[43m,\u001b[49m\n\u001b[1;32m    686\u001b[0m \u001b[43m    \u001b[49m\u001b[43malpha\u001b[49m\u001b[43m,\u001b[49m\n\u001b[1;32m    687\u001b[0m \u001b[43m    \u001b[49m\u001b[43mC\u001b[49m\u001b[43m,\u001b[49m\n\u001b[1;32m    688\u001b[0m \u001b[43m    \u001b[49m\u001b[43mloss\u001b[49m\u001b[43m,\u001b[49m\n\u001b[1;32m    689\u001b[0m \u001b[43m    \u001b[49m\u001b[43mlearning_rate\u001b[49m\u001b[43m,\u001b[49m\n\u001b[1;32m    690\u001b[0m \u001b[43m    \u001b[49m\u001b[38;5;28;43mself\u001b[39;49m\u001b[38;5;241;43m.\u001b[39;49m\u001b[43mmax_iter\u001b[49m\u001b[43m,\u001b[49m\n\u001b[1;32m    691\u001b[0m \u001b[43m    \u001b[49m\u001b[43mclasses\u001b[49m\u001b[43m,\u001b[49m\n\u001b[1;32m    692\u001b[0m \u001b[43m    \u001b[49m\u001b[43msample_weight\u001b[49m\u001b[43m,\u001b[49m\n\u001b[1;32m    693\u001b[0m \u001b[43m    \u001b[49m\u001b[43mcoef_init\u001b[49m\u001b[43m,\u001b[49m\n\u001b[1;32m    694\u001b[0m \u001b[43m    \u001b[49m\u001b[43mintercept_init\u001b[49m\u001b[43m,\u001b[49m\n\u001b[1;32m    695\u001b[0m \u001b[43m\u001b[49m\u001b[43m)\u001b[49m\n\u001b[1;32m    697\u001b[0m \u001b[38;5;28;01mif\u001b[39;00m (\n\u001b[1;32m    698\u001b[0m     \u001b[38;5;28mself\u001b[39m\u001b[38;5;241m.\u001b[39mtol \u001b[38;5;129;01mis\u001b[39;00m \u001b[38;5;129;01mnot\u001b[39;00m \u001b[38;5;28;01mNone\u001b[39;00m\n\u001b[1;32m    699\u001b[0m     \u001b[38;5;129;01mand\u001b[39;00m \u001b[38;5;28mself\u001b[39m\u001b[38;5;241m.\u001b[39mtol \u001b[38;5;241m>\u001b[39m \u001b[38;5;241m-\u001b[39mnp\u001b[38;5;241m.\u001b[39minf\n\u001b[1;32m    700\u001b[0m     \u001b[38;5;129;01mand\u001b[39;00m \u001b[38;5;28mself\u001b[39m\u001b[38;5;241m.\u001b[39mn_iter_ \u001b[38;5;241m==\u001b[39m \u001b[38;5;28mself\u001b[39m\u001b[38;5;241m.\u001b[39mmax_iter\n\u001b[1;32m    701\u001b[0m ):\n\u001b[1;32m    702\u001b[0m     warnings\u001b[38;5;241m.\u001b[39mwarn(\n\u001b[1;32m    703\u001b[0m         \u001b[38;5;124m\"\u001b[39m\u001b[38;5;124mMaximum number of iteration reached before \u001b[39m\u001b[38;5;124m\"\u001b[39m\n\u001b[1;32m    704\u001b[0m         \u001b[38;5;124m\"\u001b[39m\u001b[38;5;124mconvergence. Consider increasing max_iter to \u001b[39m\u001b[38;5;124m\"\u001b[39m\n\u001b[1;32m    705\u001b[0m         \u001b[38;5;124m\"\u001b[39m\u001b[38;5;124mimprove the fit.\u001b[39m\u001b[38;5;124m\"\u001b[39m,\n\u001b[1;32m    706\u001b[0m         ConvergenceWarning,\n\u001b[1;32m    707\u001b[0m     )\n",
            "File \u001b[0;32m~/.local/lib/python3.10/site-packages/sklearn/linear_model/_stochastic_gradient.py:579\u001b[0m, in \u001b[0;36mBaseSGDClassifier._partial_fit\u001b[0;34m(self, X, y, alpha, C, loss, learning_rate, max_iter, classes, sample_weight, coef_init, intercept_init)\u001b[0m\n\u001b[1;32m    564\u001b[0m \u001b[38;5;28;01mdef\u001b[39;00m \u001b[38;5;21m_partial_fit\u001b[39m(\n\u001b[1;32m    565\u001b[0m     \u001b[38;5;28mself\u001b[39m,\n\u001b[1;32m    566\u001b[0m     X,\n\u001b[0;32m   (...)\u001b[0m\n\u001b[1;32m    576\u001b[0m     intercept_init,\n\u001b[1;32m    577\u001b[0m ):\n\u001b[1;32m    578\u001b[0m     first_call \u001b[38;5;241m=\u001b[39m \u001b[38;5;129;01mnot\u001b[39;00m \u001b[38;5;28mhasattr\u001b[39m(\u001b[38;5;28mself\u001b[39m, \u001b[38;5;124m\"\u001b[39m\u001b[38;5;124mclasses_\u001b[39m\u001b[38;5;124m\"\u001b[39m)\n\u001b[0;32m--> 579\u001b[0m     X, y \u001b[38;5;241m=\u001b[39m \u001b[38;5;28;43mself\u001b[39;49m\u001b[38;5;241;43m.\u001b[39;49m\u001b[43m_validate_data\u001b[49m\u001b[43m(\u001b[49m\n\u001b[1;32m    580\u001b[0m \u001b[43m        \u001b[49m\u001b[43mX\u001b[49m\u001b[43m,\u001b[49m\n\u001b[1;32m    581\u001b[0m \u001b[43m        \u001b[49m\u001b[43my\u001b[49m\u001b[43m,\u001b[49m\n\u001b[1;32m    582\u001b[0m \u001b[43m        \u001b[49m\u001b[43maccept_sparse\u001b[49m\u001b[38;5;241;43m=\u001b[39;49m\u001b[38;5;124;43m\"\u001b[39;49m\u001b[38;5;124;43mcsr\u001b[39;49m\u001b[38;5;124;43m\"\u001b[39;49m\u001b[43m,\u001b[49m\n\u001b[1;32m    583\u001b[0m \u001b[43m        \u001b[49m\u001b[43mdtype\u001b[49m\u001b[38;5;241;43m=\u001b[39;49m\u001b[43mnp\u001b[49m\u001b[38;5;241;43m.\u001b[39;49m\u001b[43mfloat64\u001b[49m\u001b[43m,\u001b[49m\n\u001b[1;32m    584\u001b[0m \u001b[43m        \u001b[49m\u001b[43morder\u001b[49m\u001b[38;5;241;43m=\u001b[39;49m\u001b[38;5;124;43m\"\u001b[39;49m\u001b[38;5;124;43mC\u001b[39;49m\u001b[38;5;124;43m\"\u001b[39;49m\u001b[43m,\u001b[49m\n\u001b[1;32m    585\u001b[0m \u001b[43m        \u001b[49m\u001b[43maccept_large_sparse\u001b[49m\u001b[38;5;241;43m=\u001b[39;49m\u001b[38;5;28;43;01mFalse\u001b[39;49;00m\u001b[43m,\u001b[49m\n\u001b[1;32m    586\u001b[0m \u001b[43m        \u001b[49m\u001b[43mreset\u001b[49m\u001b[38;5;241;43m=\u001b[39;49m\u001b[43mfirst_call\u001b[49m\u001b[43m,\u001b[49m\n\u001b[1;32m    587\u001b[0m \u001b[43m    \u001b[49m\u001b[43m)\u001b[49m\n\u001b[1;32m    589\u001b[0m     n_samples, n_features \u001b[38;5;241m=\u001b[39m X\u001b[38;5;241m.\u001b[39mshape\n\u001b[1;32m    591\u001b[0m     _check_partial_fit_first_call(\u001b[38;5;28mself\u001b[39m, classes)\n",
            "File \u001b[0;32m~/.local/lib/python3.10/site-packages/sklearn/base.py:565\u001b[0m, in \u001b[0;36mBaseEstimator._validate_data\u001b[0;34m(self, X, y, reset, validate_separately, **check_params)\u001b[0m\n\u001b[1;32m    563\u001b[0m         y \u001b[38;5;241m=\u001b[39m check_array(y, input_name\u001b[38;5;241m=\u001b[39m\u001b[38;5;124m\"\u001b[39m\u001b[38;5;124my\u001b[39m\u001b[38;5;124m\"\u001b[39m, \u001b[38;5;241m*\u001b[39m\u001b[38;5;241m*\u001b[39mcheck_y_params)\n\u001b[1;32m    564\u001b[0m     \u001b[38;5;28;01melse\u001b[39;00m:\n\u001b[0;32m--> 565\u001b[0m         X, y \u001b[38;5;241m=\u001b[39m \u001b[43mcheck_X_y\u001b[49m\u001b[43m(\u001b[49m\u001b[43mX\u001b[49m\u001b[43m,\u001b[49m\u001b[43m \u001b[49m\u001b[43my\u001b[49m\u001b[43m,\u001b[49m\u001b[43m \u001b[49m\u001b[38;5;241;43m*\u001b[39;49m\u001b[38;5;241;43m*\u001b[39;49m\u001b[43mcheck_params\u001b[49m\u001b[43m)\u001b[49m\n\u001b[1;32m    566\u001b[0m     out \u001b[38;5;241m=\u001b[39m X, y\n\u001b[1;32m    568\u001b[0m \u001b[38;5;28;01mif\u001b[39;00m \u001b[38;5;129;01mnot\u001b[39;00m no_val_X \u001b[38;5;129;01mand\u001b[39;00m check_params\u001b[38;5;241m.\u001b[39mget(\u001b[38;5;124m\"\u001b[39m\u001b[38;5;124mensure_2d\u001b[39m\u001b[38;5;124m\"\u001b[39m, \u001b[38;5;28;01mTrue\u001b[39;00m):\n",
            "File \u001b[0;32m~/.local/lib/python3.10/site-packages/sklearn/utils/validation.py:1106\u001b[0m, in \u001b[0;36mcheck_X_y\u001b[0;34m(X, y, accept_sparse, accept_large_sparse, dtype, order, copy, force_all_finite, ensure_2d, allow_nd, multi_output, ensure_min_samples, ensure_min_features, y_numeric, estimator)\u001b[0m\n\u001b[1;32m   1101\u001b[0m         estimator_name \u001b[38;5;241m=\u001b[39m _check_estimator_name(estimator)\n\u001b[1;32m   1102\u001b[0m     \u001b[38;5;28;01mraise\u001b[39;00m \u001b[38;5;167;01mValueError\u001b[39;00m(\n\u001b[1;32m   1103\u001b[0m         \u001b[38;5;124mf\u001b[39m\u001b[38;5;124m\"\u001b[39m\u001b[38;5;132;01m{\u001b[39;00mestimator_name\u001b[38;5;132;01m}\u001b[39;00m\u001b[38;5;124m requires y to be passed, but the target y is None\u001b[39m\u001b[38;5;124m\"\u001b[39m\n\u001b[1;32m   1104\u001b[0m     )\n\u001b[0;32m-> 1106\u001b[0m X \u001b[38;5;241m=\u001b[39m \u001b[43mcheck_array\u001b[49m\u001b[43m(\u001b[49m\n\u001b[1;32m   1107\u001b[0m \u001b[43m    \u001b[49m\u001b[43mX\u001b[49m\u001b[43m,\u001b[49m\n\u001b[1;32m   1108\u001b[0m \u001b[43m    \u001b[49m\u001b[43maccept_sparse\u001b[49m\u001b[38;5;241;43m=\u001b[39;49m\u001b[43maccept_sparse\u001b[49m\u001b[43m,\u001b[49m\n\u001b[1;32m   1109\u001b[0m \u001b[43m    \u001b[49m\u001b[43maccept_large_sparse\u001b[49m\u001b[38;5;241;43m=\u001b[39;49m\u001b[43maccept_large_sparse\u001b[49m\u001b[43m,\u001b[49m\n\u001b[1;32m   1110\u001b[0m \u001b[43m    \u001b[49m\u001b[43mdtype\u001b[49m\u001b[38;5;241;43m=\u001b[39;49m\u001b[43mdtype\u001b[49m\u001b[43m,\u001b[49m\n\u001b[1;32m   1111\u001b[0m \u001b[43m    \u001b[49m\u001b[43morder\u001b[49m\u001b[38;5;241;43m=\u001b[39;49m\u001b[43morder\u001b[49m\u001b[43m,\u001b[49m\n\u001b[1;32m   1112\u001b[0m \u001b[43m    \u001b[49m\u001b[43mcopy\u001b[49m\u001b[38;5;241;43m=\u001b[39;49m\u001b[43mcopy\u001b[49m\u001b[43m,\u001b[49m\n\u001b[1;32m   1113\u001b[0m \u001b[43m    \u001b[49m\u001b[43mforce_all_finite\u001b[49m\u001b[38;5;241;43m=\u001b[39;49m\u001b[43mforce_all_finite\u001b[49m\u001b[43m,\u001b[49m\n\u001b[1;32m   1114\u001b[0m \u001b[43m    \u001b[49m\u001b[43mensure_2d\u001b[49m\u001b[38;5;241;43m=\u001b[39;49m\u001b[43mensure_2d\u001b[49m\u001b[43m,\u001b[49m\n\u001b[1;32m   1115\u001b[0m \u001b[43m    \u001b[49m\u001b[43mallow_nd\u001b[49m\u001b[38;5;241;43m=\u001b[39;49m\u001b[43mallow_nd\u001b[49m\u001b[43m,\u001b[49m\n\u001b[1;32m   1116\u001b[0m \u001b[43m    \u001b[49m\u001b[43mensure_min_samples\u001b[49m\u001b[38;5;241;43m=\u001b[39;49m\u001b[43mensure_min_samples\u001b[49m\u001b[43m,\u001b[49m\n\u001b[1;32m   1117\u001b[0m \u001b[43m    \u001b[49m\u001b[43mensure_min_features\u001b[49m\u001b[38;5;241;43m=\u001b[39;49m\u001b[43mensure_min_features\u001b[49m\u001b[43m,\u001b[49m\n\u001b[1;32m   1118\u001b[0m \u001b[43m    \u001b[49m\u001b[43mestimator\u001b[49m\u001b[38;5;241;43m=\u001b[39;49m\u001b[43mestimator\u001b[49m\u001b[43m,\u001b[49m\n\u001b[1;32m   1119\u001b[0m \u001b[43m    \u001b[49m\u001b[43minput_name\u001b[49m\u001b[38;5;241;43m=\u001b[39;49m\u001b[38;5;124;43m\"\u001b[39;49m\u001b[38;5;124;43mX\u001b[39;49m\u001b[38;5;124;43m\"\u001b[39;49m\u001b[43m,\u001b[49m\n\u001b[1;32m   1120\u001b[0m \u001b[43m\u001b[49m\u001b[43m)\u001b[49m\n\u001b[1;32m   1122\u001b[0m y \u001b[38;5;241m=\u001b[39m _check_y(y, multi_output\u001b[38;5;241m=\u001b[39mmulti_output, y_numeric\u001b[38;5;241m=\u001b[39my_numeric, estimator\u001b[38;5;241m=\u001b[39mestimator)\n\u001b[1;32m   1124\u001b[0m check_consistent_length(X, y)\n",
            "File \u001b[0;32m~/.local/lib/python3.10/site-packages/sklearn/utils/validation.py:879\u001b[0m, in \u001b[0;36mcheck_array\u001b[0;34m(array, accept_sparse, accept_large_sparse, dtype, order, copy, force_all_finite, ensure_2d, allow_nd, ensure_min_samples, ensure_min_features, estimator, input_name)\u001b[0m\n\u001b[1;32m    877\u001b[0m         array \u001b[38;5;241m=\u001b[39m xp\u001b[38;5;241m.\u001b[39mastype(array, dtype, copy\u001b[38;5;241m=\u001b[39m\u001b[38;5;28;01mFalse\u001b[39;00m)\n\u001b[1;32m    878\u001b[0m     \u001b[38;5;28;01melse\u001b[39;00m:\n\u001b[0;32m--> 879\u001b[0m         array \u001b[38;5;241m=\u001b[39m \u001b[43m_asarray_with_order\u001b[49m\u001b[43m(\u001b[49m\u001b[43marray\u001b[49m\u001b[43m,\u001b[49m\u001b[43m \u001b[49m\u001b[43morder\u001b[49m\u001b[38;5;241;43m=\u001b[39;49m\u001b[43morder\u001b[49m\u001b[43m,\u001b[49m\u001b[43m \u001b[49m\u001b[43mdtype\u001b[49m\u001b[38;5;241;43m=\u001b[39;49m\u001b[43mdtype\u001b[49m\u001b[43m,\u001b[49m\u001b[43m \u001b[49m\u001b[43mxp\u001b[49m\u001b[38;5;241;43m=\u001b[39;49m\u001b[43mxp\u001b[49m\u001b[43m)\u001b[49m\n\u001b[1;32m    880\u001b[0m \u001b[38;5;28;01mexcept\u001b[39;00m ComplexWarning \u001b[38;5;28;01mas\u001b[39;00m complex_warning:\n\u001b[1;32m    881\u001b[0m     \u001b[38;5;28;01mraise\u001b[39;00m \u001b[38;5;167;01mValueError\u001b[39;00m(\n\u001b[1;32m    882\u001b[0m         \u001b[38;5;124m\"\u001b[39m\u001b[38;5;124mComplex data not supported\u001b[39m\u001b[38;5;130;01m\\n\u001b[39;00m\u001b[38;5;132;01m{}\u001b[39;00m\u001b[38;5;130;01m\\n\u001b[39;00m\u001b[38;5;124m\"\u001b[39m\u001b[38;5;241m.\u001b[39mformat(array)\n\u001b[1;32m    883\u001b[0m     ) \u001b[38;5;28;01mfrom\u001b[39;00m \u001b[38;5;21;01mcomplex_warning\u001b[39;00m\n",
            "File \u001b[0;32m~/.local/lib/python3.10/site-packages/sklearn/utils/_array_api.py:185\u001b[0m, in \u001b[0;36m_asarray_with_order\u001b[0;34m(array, dtype, order, copy, xp)\u001b[0m\n\u001b[1;32m    182\u001b[0m     xp, _ \u001b[38;5;241m=\u001b[39m get_namespace(array)\n\u001b[1;32m    183\u001b[0m \u001b[38;5;28;01mif\u001b[39;00m xp\u001b[38;5;241m.\u001b[39m\u001b[38;5;18m__name__\u001b[39m \u001b[38;5;129;01min\u001b[39;00m {\u001b[38;5;124m\"\u001b[39m\u001b[38;5;124mnumpy\u001b[39m\u001b[38;5;124m\"\u001b[39m, \u001b[38;5;124m\"\u001b[39m\u001b[38;5;124mnumpy.array_api\u001b[39m\u001b[38;5;124m\"\u001b[39m}:\n\u001b[1;32m    184\u001b[0m     \u001b[38;5;66;03m# Use NumPy API to support order\u001b[39;00m\n\u001b[0;32m--> 185\u001b[0m     array \u001b[38;5;241m=\u001b[39m \u001b[43mnumpy\u001b[49m\u001b[38;5;241;43m.\u001b[39;49m\u001b[43masarray\u001b[49m\u001b[43m(\u001b[49m\u001b[43marray\u001b[49m\u001b[43m,\u001b[49m\u001b[43m \u001b[49m\u001b[43morder\u001b[49m\u001b[38;5;241;43m=\u001b[39;49m\u001b[43morder\u001b[49m\u001b[43m,\u001b[49m\u001b[43m \u001b[49m\u001b[43mdtype\u001b[49m\u001b[38;5;241;43m=\u001b[39;49m\u001b[43mdtype\u001b[49m\u001b[43m)\u001b[49m\n\u001b[1;32m    186\u001b[0m     \u001b[38;5;28;01mreturn\u001b[39;00m xp\u001b[38;5;241m.\u001b[39masarray(array, copy\u001b[38;5;241m=\u001b[39mcopy)\n\u001b[1;32m    187\u001b[0m \u001b[38;5;28;01melse\u001b[39;00m:\n",
            "\u001b[0;31mValueError\u001b[0m: could not convert string to float: '?'"
          ]
        }
      ],
      "source": [
        "from sklearn.linear_model import Perceptron\n",
        "clf = Perceptron(tol=0.001, random_state=0)\n",
        "clf.fit(X_train, Y_train)"
      ]
    },
    {
      "cell_type": "markdown",
      "id": "f280dc62",
      "metadata": {
        "id": "f280dc62"
      },
      "source": [
        "Por qué marca error? Parece que nuestra base de datos tiene un \"?\". Hay que detectarlo y quitarlo como en la primera clase."
      ]
    },
    {
      "cell_type": "code",
      "execution_count": null,
      "id": "6cd8422e",
      "metadata": {
        "scrolled": true,
        "id": "6cd8422e",
        "outputId": "9b5e24af-4f3d-42b5-8982-46f6167d9771"
      },
      "outputs": [
        {
          "data": {
            "text/html": [
              "<div>\n",
              "<style scoped>\n",
              "    .dataframe tbody tr th:only-of-type {\n",
              "        vertical-align: middle;\n",
              "    }\n",
              "\n",
              "    .dataframe tbody tr th {\n",
              "        vertical-align: top;\n",
              "    }\n",
              "\n",
              "    .dataframe thead th {\n",
              "        text-align: right;\n",
              "    }\n",
              "</style>\n",
              "<table border=\"1\" class=\"dataframe\">\n",
              "  <thead>\n",
              "    <tr style=\"text-align: right;\">\n",
              "      <th></th>\n",
              "      <th>clumb-thick</th>\n",
              "      <th>ucellsize</th>\n",
              "      <th>ucellshape</th>\n",
              "      <th>margadh</th>\n",
              "      <th>singlepcellsize</th>\n",
              "      <th>barenuclei</th>\n",
              "      <th>blandchr</th>\n",
              "      <th>normalnucleoli</th>\n",
              "      <th>mitoses</th>\n",
              "      <th>class</th>\n",
              "    </tr>\n",
              "  </thead>\n",
              "  <tbody>\n",
              "    <tr>\n",
              "      <th>1000025</th>\n",
              "      <td>5</td>\n",
              "      <td>1</td>\n",
              "      <td>1</td>\n",
              "      <td>1</td>\n",
              "      <td>2</td>\n",
              "      <td>1.0</td>\n",
              "      <td>3</td>\n",
              "      <td>1</td>\n",
              "      <td>1</td>\n",
              "      <td>2</td>\n",
              "    </tr>\n",
              "    <tr>\n",
              "      <th>1002945</th>\n",
              "      <td>5</td>\n",
              "      <td>4</td>\n",
              "      <td>4</td>\n",
              "      <td>5</td>\n",
              "      <td>7</td>\n",
              "      <td>10.0</td>\n",
              "      <td>3</td>\n",
              "      <td>2</td>\n",
              "      <td>1</td>\n",
              "      <td>2</td>\n",
              "    </tr>\n",
              "    <tr>\n",
              "      <th>1015425</th>\n",
              "      <td>3</td>\n",
              "      <td>1</td>\n",
              "      <td>1</td>\n",
              "      <td>1</td>\n",
              "      <td>2</td>\n",
              "      <td>2.0</td>\n",
              "      <td>3</td>\n",
              "      <td>1</td>\n",
              "      <td>1</td>\n",
              "      <td>2</td>\n",
              "    </tr>\n",
              "    <tr>\n",
              "      <th>1016277</th>\n",
              "      <td>6</td>\n",
              "      <td>8</td>\n",
              "      <td>8</td>\n",
              "      <td>1</td>\n",
              "      <td>3</td>\n",
              "      <td>4.0</td>\n",
              "      <td>3</td>\n",
              "      <td>7</td>\n",
              "      <td>1</td>\n",
              "      <td>2</td>\n",
              "    </tr>\n",
              "    <tr>\n",
              "      <th>1017023</th>\n",
              "      <td>4</td>\n",
              "      <td>1</td>\n",
              "      <td>1</td>\n",
              "      <td>3</td>\n",
              "      <td>2</td>\n",
              "      <td>1.0</td>\n",
              "      <td>3</td>\n",
              "      <td>1</td>\n",
              "      <td>1</td>\n",
              "      <td>2</td>\n",
              "    </tr>\n",
              "  </tbody>\n",
              "</table>\n",
              "</div>"
            ],
            "text/plain": [
              "         clumb-thick  ucellsize  ucellshape  margadh  singlepcellsize  \\\n",
              "1000025            5          1           1        1                2   \n",
              "1002945            5          4           4        5                7   \n",
              "1015425            3          1           1        1                2   \n",
              "1016277            6          8           8        1                3   \n",
              "1017023            4          1           1        3                2   \n",
              "\n",
              "         barenuclei  blandchr  normalnucleoli  mitoses  class  \n",
              "1000025         1.0         3               1        1      2  \n",
              "1002945        10.0         3               2        1      2  \n",
              "1015425         2.0         3               1        1      2  \n",
              "1016277         4.0         3               7        1      2  \n",
              "1017023         1.0         3               1        1      2  "
            ]
          },
          "execution_count": 21,
          "metadata": {},
          "output_type": "execute_result"
        }
      ],
      "source": [
        "cols = data_bcancer.columns\n",
        "\n",
        "df_clean = data_bcancer[cols].apply(pd.to_numeric, errors='coerce').fillna(0)\n",
        "df_clean.head(5)"
      ]
    },
    {
      "cell_type": "markdown",
      "id": "dae9fe6f",
      "metadata": {
        "id": "dae9fe6f"
      },
      "source": [
        "Volvemos a separar nuestro dataset"
      ]
    },
    {
      "cell_type": "code",
      "execution_count": null,
      "id": "b5164101",
      "metadata": {
        "id": "b5164101",
        "outputId": "71aeeeea-b361-4b49-e105-064924dd5c80"
      },
      "outputs": [
        {
          "data": {
            "text/plain": [
              "((524, 9), (88, 9), (87, 9), (524,), (88,), (87,))"
            ]
          },
          "execution_count": 22,
          "metadata": {},
          "output_type": "execute_result"
        }
      ],
      "source": [
        "## Primero separamos el conjunto de entrenamiento con 75% y otro temporal con el 25%\n",
        "data_train, data_temp = train_test_split(df_clean.values, train_size=0.75, shuffle=True)\n",
        "## El temporal lo partimos en dos partes iguales para obtener conjuntos de validacion y de prueba\n",
        "data_val, data_test = train_test_split(data_temp, test_size=0.5, shuffle=True)\n",
        "## Separamos X y Y para cada nuevo conjunto\n",
        "X_train, Y_train = data_train[:,:-1], data_train[:,-1]\n",
        "X_val, Y_val = data_val[:,:-1], data_val[:,-1]\n",
        "X_test, Y_test = data_test[:,:-1], data_test[:,-1]\n",
        "## Verificamos tamanos\n",
        "np.shape(X_train), np.shape(X_test), np.shape(X_val), np.shape(Y_train), np.shape(Y_test), np.shape(Y_val)"
      ]
    },
    {
      "cell_type": "markdown",
      "id": "29a08dea",
      "metadata": {
        "id": "29a08dea"
      },
      "source": [
        "Volvemos a probar"
      ]
    },
    {
      "cell_type": "code",
      "execution_count": null,
      "id": "3c83fefe",
      "metadata": {
        "id": "3c83fefe",
        "outputId": "ef3028b8-88bd-47c4-a308-4c2315e675f0"
      },
      "outputs": [
        {
          "data": {
            "text/html": [
              "<style>#sk-container-id-1 {color: black;background-color: white;}#sk-container-id-1 pre{padding: 0;}#sk-container-id-1 div.sk-toggleable {background-color: white;}#sk-container-id-1 label.sk-toggleable__label {cursor: pointer;display: block;width: 100%;margin-bottom: 0;padding: 0.3em;box-sizing: border-box;text-align: center;}#sk-container-id-1 label.sk-toggleable__label-arrow:before {content: \"▸\";float: left;margin-right: 0.25em;color: #696969;}#sk-container-id-1 label.sk-toggleable__label-arrow:hover:before {color: black;}#sk-container-id-1 div.sk-estimator:hover label.sk-toggleable__label-arrow:before {color: black;}#sk-container-id-1 div.sk-toggleable__content {max-height: 0;max-width: 0;overflow: hidden;text-align: left;background-color: #f0f8ff;}#sk-container-id-1 div.sk-toggleable__content pre {margin: 0.2em;color: black;border-radius: 0.25em;background-color: #f0f8ff;}#sk-container-id-1 input.sk-toggleable__control:checked~div.sk-toggleable__content {max-height: 200px;max-width: 100%;overflow: auto;}#sk-container-id-1 input.sk-toggleable__control:checked~label.sk-toggleable__label-arrow:before {content: \"▾\";}#sk-container-id-1 div.sk-estimator input.sk-toggleable__control:checked~label.sk-toggleable__label {background-color: #d4ebff;}#sk-container-id-1 div.sk-label input.sk-toggleable__control:checked~label.sk-toggleable__label {background-color: #d4ebff;}#sk-container-id-1 input.sk-hidden--visually {border: 0;clip: rect(1px 1px 1px 1px);clip: rect(1px, 1px, 1px, 1px);height: 1px;margin: -1px;overflow: hidden;padding: 0;position: absolute;width: 1px;}#sk-container-id-1 div.sk-estimator {font-family: monospace;background-color: #f0f8ff;border: 1px dotted black;border-radius: 0.25em;box-sizing: border-box;margin-bottom: 0.5em;}#sk-container-id-1 div.sk-estimator:hover {background-color: #d4ebff;}#sk-container-id-1 div.sk-parallel-item::after {content: \"\";width: 100%;border-bottom: 1px solid gray;flex-grow: 1;}#sk-container-id-1 div.sk-label:hover label.sk-toggleable__label {background-color: #d4ebff;}#sk-container-id-1 div.sk-serial::before {content: \"\";position: absolute;border-left: 1px solid gray;box-sizing: border-box;top: 0;bottom: 0;left: 50%;z-index: 0;}#sk-container-id-1 div.sk-serial {display: flex;flex-direction: column;align-items: center;background-color: white;padding-right: 0.2em;padding-left: 0.2em;position: relative;}#sk-container-id-1 div.sk-item {position: relative;z-index: 1;}#sk-container-id-1 div.sk-parallel {display: flex;align-items: stretch;justify-content: center;background-color: white;position: relative;}#sk-container-id-1 div.sk-item::before, #sk-container-id-1 div.sk-parallel-item::before {content: \"\";position: absolute;border-left: 1px solid gray;box-sizing: border-box;top: 0;bottom: 0;left: 50%;z-index: -1;}#sk-container-id-1 div.sk-parallel-item {display: flex;flex-direction: column;z-index: 1;position: relative;background-color: white;}#sk-container-id-1 div.sk-parallel-item:first-child::after {align-self: flex-end;width: 50%;}#sk-container-id-1 div.sk-parallel-item:last-child::after {align-self: flex-start;width: 50%;}#sk-container-id-1 div.sk-parallel-item:only-child::after {width: 0;}#sk-container-id-1 div.sk-dashed-wrapped {border: 1px dashed gray;margin: 0 0.4em 0.5em 0.4em;box-sizing: border-box;padding-bottom: 0.4em;background-color: white;}#sk-container-id-1 div.sk-label label {font-family: monospace;font-weight: bold;display: inline-block;line-height: 1.2em;}#sk-container-id-1 div.sk-label-container {text-align: center;}#sk-container-id-1 div.sk-container {/* jupyter's `normalize.less` sets `[hidden] { display: none; }` but bootstrap.min.css set `[hidden] { display: none !important; }` so we also need the `!important` here to be able to override the default hidden behavior on the sphinx rendered scikit-learn.org. See: https://github.com/scikit-learn/scikit-learn/issues/21755 */display: inline-block !important;position: relative;}#sk-container-id-1 div.sk-text-repr-fallback {display: none;}</style><div id=\"sk-container-id-1\" class=\"sk-top-container\"><div class=\"sk-text-repr-fallback\"><pre>Perceptron()</pre><b>In a Jupyter environment, please rerun this cell to show the HTML representation or trust the notebook. <br />On GitHub, the HTML representation is unable to render, please try loading this page with nbviewer.org.</b></div><div class=\"sk-container\" hidden><div class=\"sk-item\"><div class=\"sk-estimator sk-toggleable\"><input class=\"sk-toggleable__control sk-hidden--visually\" id=\"sk-estimator-id-1\" type=\"checkbox\" checked><label for=\"sk-estimator-id-1\" class=\"sk-toggleable__label sk-toggleable__label-arrow\">Perceptron</label><div class=\"sk-toggleable__content\"><pre>Perceptron()</pre></div></div></div></div></div>"
            ],
            "text/plain": [
              "Perceptron()"
            ]
          },
          "execution_count": 23,
          "metadata": {},
          "output_type": "execute_result"
        }
      ],
      "source": [
        "clf = Perceptron(tol=0.001, random_state=0)\n",
        "clf.fit(X_train, Y_train)"
      ]
    },
    {
      "cell_type": "markdown",
      "id": "7e74c9a0",
      "metadata": {
        "id": "7e74c9a0"
      },
      "source": [
        "Probamos su metrica, en este caso su exactitud:"
      ]
    },
    {
      "cell_type": "code",
      "execution_count": null,
      "id": "d94588b0",
      "metadata": {
        "id": "d94588b0",
        "outputId": "0467bb5f-d05d-40a2-f56f-2bf7e3897749"
      },
      "outputs": [
        {
          "data": {
            "text/plain": [
              "0.9204545454545454"
            ]
          },
          "execution_count": 24,
          "metadata": {},
          "output_type": "execute_result"
        }
      ],
      "source": [
        "clf.score(X_test, Y_test)"
      ]
    },
    {
      "cell_type": "code",
      "execution_count": null,
      "id": "b007880d",
      "metadata": {
        "id": "b007880d",
        "outputId": "fdee2faa-873e-45d3-8a49-a00820b5ded6"
      },
      "outputs": [
        {
          "data": {
            "text/plain": [
              "array([2.])"
            ]
          },
          "execution_count": 25,
          "metadata": {},
          "output_type": "execute_result"
        }
      ],
      "source": [
        "clf.predict(np.array([3,1,1,1,2,2.0,3,1,0]).reshape(1,-1))"
      ]
    },
    {
      "cell_type": "markdown",
      "id": "c83ee694",
      "metadata": {
        "id": "c83ee694"
      },
      "source": [
        "\n",
        "## Referencias\n",
        "\n",
        "- McCulloch, W. S., & Pitts, W. (1943). A logical calculus of the ideas immanent in nervous activity. The bulletin of mathematical biophysics, 5(4), 115-133.\n",
        "\n",
        "- Rosenblatt, F. (1958). The perceptron: a probabilistic model for information storage and organization in the brain. Psychological review, 65(6), 386.\n",
        "\n",
        "- https://jontysinai.github.io/jekyll/update/2017/09/24/the-mcp-neuron.html\n",
        "\n",
        "- https://sebastianraschka.com/Articles/2015_singlelayer_neurons.html\n",
        "\n",
        " https://vitalflux.com/hold-out-method-for-training-machine-learning-model/"
      ]
    },
    {
      "cell_type": "code",
      "execution_count": null,
      "id": "a75b3f8f",
      "metadata": {
        "id": "a75b3f8f"
      },
      "outputs": [],
      "source": []
    }
  ],
  "metadata": {
    "kernelspec": {
      "display_name": "Python 3 (ipykernel)",
      "language": "python",
      "name": "python3"
    },
    "language_info": {
      "codemirror_mode": {
        "name": "ipython",
        "version": 3
      },
      "file_extension": ".py",
      "mimetype": "text/x-python",
      "name": "python",
      "nbconvert_exporter": "python",
      "pygments_lexer": "ipython3",
      "version": "3.10.9"
    },
    "colab": {
      "provenance": [],
      "include_colab_link": true
    }
  },
  "nbformat": 4,
  "nbformat_minor": 5
}