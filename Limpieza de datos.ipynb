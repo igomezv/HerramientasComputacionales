{
  "cells": [
    {
      "cell_type": "markdown",
      "metadata": {
        "id": "view-in-github",
        "colab_type": "text"
      },
      "source": [
        "<a href=\"https://colab.research.google.com/github/igomezv/HerramientasComputacionales/blob/main/Limpieza%20de%20datos.ipynb\" target=\"_parent\"><img src=\"https://colab.research.google.com/assets/colab-badge.svg\" alt=\"Open In Colab\"/></a>"
      ]
    },
    {
      "cell_type": "markdown",
      "id": "1f49c5db",
      "metadata": {
        "id": "1f49c5db"
      },
      "source": [
        "## Contenido\n",
        "1.1. Problema de calidad de los datos.\n",
        "\n",
        "1.2. Conversiones de datos.\n",
        "\n",
        "1.3. Filtrado de datos.\n",
        "\n",
        "1.4. Selección de variables.\n",
        "\n",
        "## Introducción\n",
        "\n",
        "![](https://raw.githubusercontent.com/igomezv/CienciaDatosIntermedio/main/img/ML_flow1.png)\n",
        "Fuente de la imagen: medium.com\n",
        "\n",
        "## ¿Qué es y por qué es importante el pre-procesamiento?\n",
        "\n",
        "![](https://raw.githubusercontent.com/igomezv/CienciaDatosIntermedio/main/img/kdd.png)\n",
        "Flujo de KDD (Knowledge Discovery in Databases).\n",
        "\n",
        "![](https://raw.githubusercontent.com/igomezv/CienciaDatosIntermedio/main/img/kdd2.png)\n",
        "Fuente: Han, J., & Kamber, M. (2006).\n",
        "\n",
        "![](https://raw.githubusercontent.com/igomezv/CienciaDatosIntermedio/main/img/preprocessing.png)\n",
        "Fuente de la imagen: Herrera, F. (2016). Big Data: Preprocesamiento y calidad de datos. novática, 237, 17.\n",
        "\n",
        "![](https://raw.githubusercontent.com/igomezv/CienciaDatosIntermedio/main/img/pastel.png)\n",
        "Fuente de la imagen: xeridia.com\n",
        "\n",
        "\n",
        "\n",
        "\n",
        "## ¿Qué problemas pueden tener los datos?\n",
        "\n",
        "- Datos nulos\n",
        "- Formatos del archivo, ¿cómo leerlos?\n",
        "- Tipo de datos incorrectos.\n",
        "\n",
        "-------\n",
        "\n",
        "# Problemas en los datos\n",
        "\n",
        "---------"
      ]
    },
    {
      "cell_type": "code",
      "execution_count": null,
      "id": "af17be76",
      "metadata": {
        "id": "af17be76"
      },
      "outputs": [],
      "source": [
        "import numpy as np"
      ]
    },
    {
      "cell_type": "code",
      "execution_count": null,
      "id": "ab6273d8",
      "metadata": {
        "id": "ab6273d8"
      },
      "outputs": [],
      "source": [
        "lista = [[1,2],[3,4],[5, \"na\"]]"
      ]
    },
    {
      "cell_type": "code",
      "execution_count": null,
      "id": "92e2ecb2",
      "metadata": {
        "id": "92e2ecb2"
      },
      "outputs": [],
      "source": [
        "larray = np.array(lista)"
      ]
    },
    {
      "cell_type": "code",
      "execution_count": null,
      "id": "70cc2199",
      "metadata": {
        "id": "70cc2199",
        "outputId": "4f816c0b-4241-4856-df51-4cdf22498ce8"
      },
      "outputs": [
        {
          "ename": "UFuncTypeError",
          "evalue": "ufunc 'multiply' did not contain a loop with signature matching types (dtype('<U21'), dtype('int64')) -> None",
          "output_type": "error",
          "traceback": [
            "\u001b[0;31m---------------------------------------------------------------------------\u001b[0m",
            "\u001b[0;31mUFuncTypeError\u001b[0m                            Traceback (most recent call last)",
            "Cell \u001b[0;32mIn[5], line 1\u001b[0m\n\u001b[0;32m----> 1\u001b[0m \u001b[43mlarray\u001b[49m\u001b[43m \u001b[49m\u001b[38;5;241;43m*\u001b[39;49m\u001b[43m \u001b[49m\u001b[38;5;241;43m5\u001b[39;49m\n",
            "\u001b[0;31mUFuncTypeError\u001b[0m: ufunc 'multiply' did not contain a loop with signature matching types (dtype('<U21'), dtype('int64')) -> None"
          ]
        }
      ],
      "source": [
        "larray * 5"
      ]
    },
    {
      "cell_type": "markdown",
      "id": "d5e3a45e",
      "metadata": {
        "id": "d5e3a45e"
      },
      "source": [
        "#### ¿Por qué nos marca error?"
      ]
    },
    {
      "cell_type": "code",
      "execution_count": null,
      "id": "01bf419f",
      "metadata": {
        "id": "01bf419f",
        "outputId": "8455e1e1-1eaf-4fc6-bba4-0cb160b61849"
      },
      "outputs": [
        {
          "data": {
            "text/plain": [
              "(array([['1', '2'],\n",
              "        ['3', '4'],\n",
              "        ['5', 'na']], dtype='<U21'),\n",
              " (3, 2),\n",
              " numpy.ndarray)"
            ]
          },
          "execution_count": 6,
          "metadata": {},
          "output_type": "execute_result"
        }
      ],
      "source": [
        "larray, np.shape(larray), type(larray)"
      ]
    },
    {
      "cell_type": "markdown",
      "id": "3471c550",
      "metadata": {
        "id": "3471c550"
      },
      "source": [
        "#### Investigar dtype=U en https://numpy.org/doc/stable/reference/arrays.dtypes.html"
      ]
    },
    {
      "cell_type": "code",
      "execution_count": null,
      "id": "1f219cfd",
      "metadata": {
        "id": "1f219cfd",
        "outputId": "03934bff-340e-4a3f-ba64-b2956ec905de"
      },
      "outputs": [
        {
          "ename": "ValueError",
          "evalue": "could not convert string to float: 'na'",
          "output_type": "error",
          "traceback": [
            "\u001b[0;31m---------------------------------------------------------------------------\u001b[0m",
            "\u001b[0;31mValueError\u001b[0m                                Traceback (most recent call last)",
            "Cell \u001b[0;32mIn[7], line 1\u001b[0m\n\u001b[0;32m----> 1\u001b[0m larray \u001b[38;5;241m=\u001b[39m \u001b[43mnp\u001b[49m\u001b[38;5;241;43m.\u001b[39;49m\u001b[43marray\u001b[49m\u001b[43m(\u001b[49m\u001b[43mlista\u001b[49m\u001b[43m,\u001b[49m\u001b[43m \u001b[49m\u001b[43mdtype\u001b[49m\u001b[38;5;241;43m=\u001b[39;49m\u001b[38;5;124;43m'\u001b[39;49m\u001b[38;5;124;43mfloat\u001b[39;49m\u001b[38;5;124;43m'\u001b[39;49m\u001b[43m)\u001b[49m\n",
            "\u001b[0;31mValueError\u001b[0m: could not convert string to float: 'na'"
          ]
        }
      ],
      "source": [
        "larray = np.array(lista, dtype='float')#'U21' cambiar tipo de datos."
      ]
    },
    {
      "cell_type": "markdown",
      "id": "16db7b46",
      "metadata": {
        "id": "16db7b46"
      },
      "source": [
        "Identificar dónde está el error"
      ]
    },
    {
      "cell_type": "code",
      "execution_count": null,
      "id": "3ba96cc3",
      "metadata": {
        "scrolled": true,
        "id": "3ba96cc3",
        "outputId": "e6996738-0826-4137-a00c-decd26cd5198"
      },
      "outputs": [
        {
          "data": {
            "text/plain": [
              "'na'"
            ]
          },
          "execution_count": 8,
          "metadata": {},
          "output_type": "execute_result"
        }
      ],
      "source": [
        "lista[2][1]"
      ]
    },
    {
      "cell_type": "markdown",
      "id": "3932afd1",
      "metadata": {
        "id": "3932afd1"
      },
      "source": [
        "Cambiarlo por un tipo de dato válido"
      ]
    },
    {
      "cell_type": "code",
      "execution_count": null,
      "id": "d3307b6b",
      "metadata": {
        "id": "d3307b6b"
      },
      "outputs": [],
      "source": [
        "lista[2][1] = np.nan"
      ]
    },
    {
      "cell_type": "code",
      "execution_count": null,
      "id": "63269245",
      "metadata": {
        "id": "63269245",
        "outputId": "b9cf07fe-f9d4-4fcc-821a-83af735a78d0"
      },
      "outputs": [
        {
          "data": {
            "text/plain": [
              "[[1, 2], [3, 4], [5, nan]]"
            ]
          },
          "execution_count": 10,
          "metadata": {},
          "output_type": "execute_result"
        }
      ],
      "source": [
        "lista"
      ]
    },
    {
      "cell_type": "code",
      "execution_count": null,
      "id": "33a5425c",
      "metadata": {
        "id": "33a5425c"
      },
      "outputs": [],
      "source": [
        "larray = np.array(lista)"
      ]
    },
    {
      "cell_type": "code",
      "execution_count": null,
      "id": "f94d3a10",
      "metadata": {
        "id": "f94d3a10",
        "outputId": "4e109546-345d-4e2c-a44d-35bd5dfa4aea"
      },
      "outputs": [
        {
          "data": {
            "text/plain": [
              "(array([[ 1.,  2.],\n",
              "        [ 3.,  4.],\n",
              "        [ 5., nan]]),\n",
              " (3, 2),\n",
              " numpy.ndarray)"
            ]
          },
          "execution_count": 12,
          "metadata": {},
          "output_type": "execute_result"
        }
      ],
      "source": [
        "larray, np.shape(larray), type(larray)"
      ]
    },
    {
      "cell_type": "markdown",
      "id": "076b183f",
      "metadata": {
        "id": "076b183f"
      },
      "source": [
        "Volvamos a multiplicar"
      ]
    },
    {
      "cell_type": "code",
      "execution_count": null,
      "id": "6efaa746",
      "metadata": {
        "id": "6efaa746",
        "outputId": "ee6d2bbe-f7ed-4f53-e822-236f565b30e7"
      },
      "outputs": [
        {
          "data": {
            "text/plain": [
              "array([[ 5., 10.],\n",
              "       [15., 20.],\n",
              "       [25., nan]])"
            ]
          },
          "execution_count": 13,
          "metadata": {},
          "output_type": "execute_result"
        }
      ],
      "source": [
        "larray * 5"
      ]
    },
    {
      "cell_type": "markdown",
      "id": "8b79c9f2",
      "metadata": {
        "id": "8b79c9f2"
      },
      "source": [
        " ### Quitar valores nulos con sklearn.preprocessing https://scikit-learn.org/stable/modules/impute.html#impute"
      ]
    },
    {
      "cell_type": "code",
      "execution_count": null,
      "id": "2c1af606",
      "metadata": {
        "id": "2c1af606"
      },
      "outputs": [],
      "source": [
        "from sklearn.impute import SimpleImputer"
      ]
    },
    {
      "cell_type": "code",
      "execution_count": null,
      "id": "b47b10a8",
      "metadata": {
        "id": "b47b10a8"
      },
      "outputs": [],
      "source": [
        "imp = SimpleImputer(missing_values=np.nan, strategy='mean')"
      ]
    },
    {
      "cell_type": "code",
      "execution_count": null,
      "id": "ec3c946c",
      "metadata": {
        "id": "ec3c946c",
        "outputId": "30f7d47f-a879-4a8f-a88b-04141e8d4f69"
      },
      "outputs": [
        {
          "data": {
            "text/html": [
              "<style>#sk-container-id-1 {color: black;background-color: white;}#sk-container-id-1 pre{padding: 0;}#sk-container-id-1 div.sk-toggleable {background-color: white;}#sk-container-id-1 label.sk-toggleable__label {cursor: pointer;display: block;width: 100%;margin-bottom: 0;padding: 0.3em;box-sizing: border-box;text-align: center;}#sk-container-id-1 label.sk-toggleable__label-arrow:before {content: \"▸\";float: left;margin-right: 0.25em;color: #696969;}#sk-container-id-1 label.sk-toggleable__label-arrow:hover:before {color: black;}#sk-container-id-1 div.sk-estimator:hover label.sk-toggleable__label-arrow:before {color: black;}#sk-container-id-1 div.sk-toggleable__content {max-height: 0;max-width: 0;overflow: hidden;text-align: left;background-color: #f0f8ff;}#sk-container-id-1 div.sk-toggleable__content pre {margin: 0.2em;color: black;border-radius: 0.25em;background-color: #f0f8ff;}#sk-container-id-1 input.sk-toggleable__control:checked~div.sk-toggleable__content {max-height: 200px;max-width: 100%;overflow: auto;}#sk-container-id-1 input.sk-toggleable__control:checked~label.sk-toggleable__label-arrow:before {content: \"▾\";}#sk-container-id-1 div.sk-estimator input.sk-toggleable__control:checked~label.sk-toggleable__label {background-color: #d4ebff;}#sk-container-id-1 div.sk-label input.sk-toggleable__control:checked~label.sk-toggleable__label {background-color: #d4ebff;}#sk-container-id-1 input.sk-hidden--visually {border: 0;clip: rect(1px 1px 1px 1px);clip: rect(1px, 1px, 1px, 1px);height: 1px;margin: -1px;overflow: hidden;padding: 0;position: absolute;width: 1px;}#sk-container-id-1 div.sk-estimator {font-family: monospace;background-color: #f0f8ff;border: 1px dotted black;border-radius: 0.25em;box-sizing: border-box;margin-bottom: 0.5em;}#sk-container-id-1 div.sk-estimator:hover {background-color: #d4ebff;}#sk-container-id-1 div.sk-parallel-item::after {content: \"\";width: 100%;border-bottom: 1px solid gray;flex-grow: 1;}#sk-container-id-1 div.sk-label:hover label.sk-toggleable__label {background-color: #d4ebff;}#sk-container-id-1 div.sk-serial::before {content: \"\";position: absolute;border-left: 1px solid gray;box-sizing: border-box;top: 0;bottom: 0;left: 50%;z-index: 0;}#sk-container-id-1 div.sk-serial {display: flex;flex-direction: column;align-items: center;background-color: white;padding-right: 0.2em;padding-left: 0.2em;position: relative;}#sk-container-id-1 div.sk-item {position: relative;z-index: 1;}#sk-container-id-1 div.sk-parallel {display: flex;align-items: stretch;justify-content: center;background-color: white;position: relative;}#sk-container-id-1 div.sk-item::before, #sk-container-id-1 div.sk-parallel-item::before {content: \"\";position: absolute;border-left: 1px solid gray;box-sizing: border-box;top: 0;bottom: 0;left: 50%;z-index: -1;}#sk-container-id-1 div.sk-parallel-item {display: flex;flex-direction: column;z-index: 1;position: relative;background-color: white;}#sk-container-id-1 div.sk-parallel-item:first-child::after {align-self: flex-end;width: 50%;}#sk-container-id-1 div.sk-parallel-item:last-child::after {align-self: flex-start;width: 50%;}#sk-container-id-1 div.sk-parallel-item:only-child::after {width: 0;}#sk-container-id-1 div.sk-dashed-wrapped {border: 1px dashed gray;margin: 0 0.4em 0.5em 0.4em;box-sizing: border-box;padding-bottom: 0.4em;background-color: white;}#sk-container-id-1 div.sk-label label {font-family: monospace;font-weight: bold;display: inline-block;line-height: 1.2em;}#sk-container-id-1 div.sk-label-container {text-align: center;}#sk-container-id-1 div.sk-container {/* jupyter's `normalize.less` sets `[hidden] { display: none; }` but bootstrap.min.css set `[hidden] { display: none !important; }` so we also need the `!important` here to be able to override the default hidden behavior on the sphinx rendered scikit-learn.org. See: https://github.com/scikit-learn/scikit-learn/issues/21755 */display: inline-block !important;position: relative;}#sk-container-id-1 div.sk-text-repr-fallback {display: none;}</style><div id=\"sk-container-id-1\" class=\"sk-top-container\"><div class=\"sk-text-repr-fallback\"><pre>SimpleImputer()</pre><b>In a Jupyter environment, please rerun this cell to show the HTML representation or trust the notebook. <br />On GitHub, the HTML representation is unable to render, please try loading this page with nbviewer.org.</b></div><div class=\"sk-container\" hidden><div class=\"sk-item\"><div class=\"sk-estimator sk-toggleable\"><input class=\"sk-toggleable__control sk-hidden--visually\" id=\"sk-estimator-id-1\" type=\"checkbox\" checked><label for=\"sk-estimator-id-1\" class=\"sk-toggleable__label sk-toggleable__label-arrow\">SimpleImputer</label><div class=\"sk-toggleable__content\"><pre>SimpleImputer()</pre></div></div></div></div></div>"
            ],
            "text/plain": [
              "SimpleImputer()"
            ]
          },
          "execution_count": 16,
          "metadata": {},
          "output_type": "execute_result"
        }
      ],
      "source": [
        "imp.fit(larray)"
      ]
    },
    {
      "cell_type": "code",
      "execution_count": null,
      "id": "edf3fa80",
      "metadata": {
        "id": "edf3fa80",
        "outputId": "9f03b4e5-b488-4200-8df5-6d40f3f8cf0e"
      },
      "outputs": [
        {
          "data": {
            "text/plain": [
              "array([[1., 2.],\n",
              "       [3., 4.],\n",
              "       [5., 3.]])"
            ]
          },
          "execution_count": 17,
          "metadata": {},
          "output_type": "execute_result"
        }
      ],
      "source": [
        "imp.transform(larray)"
      ]
    },
    {
      "cell_type": "markdown",
      "id": "06bc37b3",
      "metadata": {
        "id": "06bc37b3"
      },
      "source": [
        "##### Repetir y probar con diferentes estrategias\n",
        "#### Leer y quitar valores nulos con pandas"
      ]
    },
    {
      "cell_type": "code",
      "execution_count": null,
      "id": "4449a07c",
      "metadata": {
        "id": "4449a07c"
      },
      "outputs": [],
      "source": [
        "import pandas as pd"
      ]
    },
    {
      "cell_type": "code",
      "execution_count": null,
      "id": "095cfa8d",
      "metadata": {
        "id": "095cfa8d",
        "outputId": "11762e5d-de52-4ee3-982b-42c3ba533eab"
      },
      "outputs": [
        {
          "data": {
            "text/plain": [
              "[[1, 2], [3, 'cualquiercosa'], [5, 10]]"
            ]
          },
          "execution_count": 19,
          "metadata": {},
          "output_type": "execute_result"
        }
      ],
      "source": [
        "# lista = [[1,2],[3,4],[5, \"na\"]]\n",
        "lista = [[1,2],[3,\"cualquiercosa\"],[5, 10]]\n",
        "lista"
      ]
    },
    {
      "cell_type": "code",
      "execution_count": null,
      "id": "539b301e",
      "metadata": {
        "id": "539b301e"
      },
      "outputs": [],
      "source": [
        "df = pd.DataFrame(lista)"
      ]
    },
    {
      "cell_type": "code",
      "execution_count": null,
      "id": "d217a5f7",
      "metadata": {
        "id": "d217a5f7",
        "outputId": "8fdac29c-42fb-49c5-db3b-2640de8c81de"
      },
      "outputs": [
        {
          "name": "stdout",
          "output_type": "stream",
          "text": [
            "0    1\n",
            "1    3\n",
            "2    5\n",
            "Name: 0, dtype: int64\n",
            "0                2\n",
            "1    cualquiercosa\n",
            "2               10\n",
            "Name: 1, dtype: object\n"
          ]
        },
        {
          "data": {
            "text/plain": [
              "0                2\n",
              "1    cualquiercosa\n",
              "2               10\n",
              "Name: 1, dtype: object"
            ]
          },
          "execution_count": 21,
          "metadata": {},
          "output_type": "execute_result"
        }
      ],
      "source": [
        "# repasando dataframes de pandas\n",
        "# https://www.analyticslane.com/2019/06/21/seleccionar-filas-y-columnas-en-pandas-con-iloc-y-loc/\n",
        "print(df.iloc[:, 0]) # Primera columna\n",
        "print(df.iloc[:, 1]) # Segunda columna\n",
        "df.iloc[:, -1] # Última columna"
      ]
    },
    {
      "cell_type": "markdown",
      "id": "b2949328",
      "metadata": {
        "id": "b2949328"
      },
      "source": [
        "Convertir a NAN valores erroneos"
      ]
    },
    {
      "cell_type": "code",
      "execution_count": null,
      "id": "3a78ccb5",
      "metadata": {
        "id": "3a78ccb5",
        "outputId": "53b0f741-eaad-47c6-d147-3c0338ae4711"
      },
      "outputs": [
        {
          "data": {
            "text/plain": [
              "0     2.0\n",
              "1     NaN\n",
              "2    10.0\n",
              "Name: 1, dtype: float64"
            ]
          },
          "execution_count": 22,
          "metadata": {},
          "output_type": "execute_result"
        }
      ],
      "source": [
        "df2 = pd.to_numeric(df[1], errors ='coerce')\n",
        "df2"
      ]
    },
    {
      "cell_type": "code",
      "execution_count": null,
      "id": "0e51998c",
      "metadata": {
        "id": "0e51998c",
        "outputId": "2e7b4f9f-a9eb-4ea0-c1c9-81f7cf14cc52"
      },
      "outputs": [
        {
          "data": {
            "text/plain": [
              "0     2.0\n",
              "2    10.0\n",
              "Name: 1, dtype: float64"
            ]
          },
          "execution_count": 23,
          "metadata": {},
          "output_type": "execute_result"
        }
      ],
      "source": [
        "df3=df2.dropna()\n",
        "df3"
      ]
    },
    {
      "cell_type": "code",
      "execution_count": null,
      "id": "eabddc26",
      "metadata": {
        "id": "eabddc26",
        "outputId": "ba16e1e7-c7f5-4849-e0fa-2cf745e58b37"
      },
      "outputs": [
        {
          "data": {
            "text/plain": [
              "0     2.0\n",
              "2    10.0\n",
              "Name: 1, dtype: float64"
            ]
          },
          "execution_count": 24,
          "metadata": {},
          "output_type": "execute_result"
        }
      ],
      "source": [
        "df3=df2.dropna(how='any')\n",
        "df3"
      ]
    },
    {
      "cell_type": "markdown",
      "id": "83f375e9",
      "metadata": {
        "id": "83f375e9"
      },
      "source": [
        "En una sola linea y sustituir valor erróneo con 0"
      ]
    },
    {
      "cell_type": "code",
      "execution_count": null,
      "id": "4f5a0aff",
      "metadata": {
        "id": "4f5a0aff",
        "outputId": "b52d5cf0-b5e5-4e97-ef39-d451f478bf21"
      },
      "outputs": [
        {
          "data": {
            "text/plain": [
              "0     2.0\n",
              "1     0.0\n",
              "2    10.0\n",
              "Name: 1, dtype: float64"
            ]
          },
          "execution_count": 25,
          "metadata": {},
          "output_type": "execute_result"
        }
      ],
      "source": [
        "df2 = pd.to_numeric(df[1], errors ='coerce').fillna(0)#.astype('int')\n",
        "df2"
      ]
    },
    {
      "cell_type": "markdown",
      "id": "ccfe88c4",
      "metadata": {
        "id": "ccfe88c4"
      },
      "source": [
        "Sustituir nueva columna en el df original"
      ]
    },
    {
      "cell_type": "code",
      "execution_count": null,
      "id": "c10ccfd4",
      "metadata": {
        "id": "c10ccfd4",
        "outputId": "a5f6c278-f5bf-491d-f9cf-51c1b5ccd4df"
      },
      "outputs": [
        {
          "name": "stderr",
          "output_type": "stream",
          "text": [
            "/tmp/ipykernel_11002/3588624327.py:1: DeprecationWarning: In a future version, `df.iloc[:, i] = newvals` will attempt to set the values inplace instead of always setting a new array. To retain the old behavior, use either `df[df.columns[i]] = newvals` or, if columns are non-unique, `df.isetitem(i, newvals)`\n",
            "  df.iloc[:, 1] = df2\n"
          ]
        },
        {
          "data": {
            "text/html": [
              "<div>\n",
              "<style scoped>\n",
              "    .dataframe tbody tr th:only-of-type {\n",
              "        vertical-align: middle;\n",
              "    }\n",
              "\n",
              "    .dataframe tbody tr th {\n",
              "        vertical-align: top;\n",
              "    }\n",
              "\n",
              "    .dataframe thead th {\n",
              "        text-align: right;\n",
              "    }\n",
              "</style>\n",
              "<table border=\"1\" class=\"dataframe\">\n",
              "  <thead>\n",
              "    <tr style=\"text-align: right;\">\n",
              "      <th></th>\n",
              "      <th>0</th>\n",
              "      <th>1</th>\n",
              "    </tr>\n",
              "  </thead>\n",
              "  <tbody>\n",
              "    <tr>\n",
              "      <th>0</th>\n",
              "      <td>1</td>\n",
              "      <td>2.0</td>\n",
              "    </tr>\n",
              "    <tr>\n",
              "      <th>1</th>\n",
              "      <td>3</td>\n",
              "      <td>0.0</td>\n",
              "    </tr>\n",
              "    <tr>\n",
              "      <th>2</th>\n",
              "      <td>5</td>\n",
              "      <td>10.0</td>\n",
              "    </tr>\n",
              "  </tbody>\n",
              "</table>\n",
              "</div>"
            ],
            "text/plain": [
              "   0     1\n",
              "0  1   2.0\n",
              "1  3   0.0\n",
              "2  5  10.0"
            ]
          },
          "execution_count": 26,
          "metadata": {},
          "output_type": "execute_result"
        }
      ],
      "source": [
        "df.iloc[:, 1] = df2\n",
        "df"
      ]
    },
    {
      "cell_type": "markdown",
      "id": "50219d78",
      "metadata": {
        "id": "50219d78"
      },
      "source": [
        "## Cargar un archivo de texto\n",
        "### Es importante conocer el archivo de texto e inspeccionarlo previamente."
      ]
    },
    {
      "cell_type": "code",
      "execution_count": null,
      "id": "fc52b3b4",
      "metadata": {
        "id": "fc52b3b4",
        "outputId": "58bd304e-f0a5-4094-ccc4-be3b157a590f"
      },
      "outputs": [
        {
          "data": {
            "text/plain": [
              "array([[45., 70.,  8.],\n",
              "       [40., 60.,  7.],\n",
              "       [44., 55.,  6.],\n",
              "       [30., 50.,  7.],\n",
              "       [60., 85.,  9.],\n",
              "       [55., 65.,  8.],\n",
              "       [50., 73.,  5.],\n",
              "       [33., 70.,  8.]])"
            ]
          },
          "execution_count": 27,
          "metadata": {},
          "output_type": "execute_result"
        }
      ],
      "source": [
        "np.loadtxt('https://raw.githubusercontent.com/igomezv/DataScienceIntermedio/main/datasets/prueba1.csv',\n",
        "           skiprows=1, usecols=[4,5,6])"
      ]
    },
    {
      "cell_type": "code",
      "execution_count": null,
      "id": "97dd9114",
      "metadata": {
        "id": "97dd9114",
        "outputId": "acdbf56d-8353-4e87-e370-2a01c5f6b2ca"
      },
      "outputs": [
        {
          "ename": "ValueError",
          "evalue": "invalid column index 4 at row 1 with 1 columns",
          "output_type": "error",
          "traceback": [
            "\u001b[0;31m---------------------------------------------------------------------------\u001b[0m",
            "\u001b[0;31mValueError\u001b[0m                                Traceback (most recent call last)",
            "Cell \u001b[0;32mIn[28], line 1\u001b[0m\n\u001b[0;32m----> 1\u001b[0m \u001b[43mnp\u001b[49m\u001b[38;5;241;43m.\u001b[39;49m\u001b[43mloadtxt\u001b[49m\u001b[43m(\u001b[49m\u001b[38;5;124;43m'\u001b[39;49m\u001b[38;5;124;43mhttps://raw.githubusercontent.com/igomezv/DataScienceIntermedio/main/datasets/prueba2.csv\u001b[39;49m\u001b[38;5;124;43m'\u001b[39;49m\u001b[43m,\u001b[49m\u001b[43m \u001b[49m\n\u001b[1;32m      2\u001b[0m \u001b[43m           \u001b[49m\u001b[43mskiprows\u001b[49m\u001b[38;5;241;43m=\u001b[39;49m\u001b[38;5;241;43m1\u001b[39;49m\u001b[43m,\u001b[49m\u001b[43m \u001b[49m\u001b[43musecols\u001b[49m\u001b[38;5;241;43m=\u001b[39;49m\u001b[43m[\u001b[49m\u001b[38;5;241;43m4\u001b[39;49m\u001b[43m,\u001b[49m\u001b[38;5;241;43m5\u001b[39;49m\u001b[43m,\u001b[49m\u001b[38;5;241;43m6\u001b[39;49m\u001b[43m]\u001b[49m\u001b[43m)\u001b[49m\n",
            "File \u001b[0;32m~/.local/lib/python3.10/site-packages/numpy/lib/npyio.py:1338\u001b[0m, in \u001b[0;36mloadtxt\u001b[0;34m(fname, dtype, comments, delimiter, converters, skiprows, usecols, unpack, ndmin, encoding, max_rows, quotechar, like)\u001b[0m\n\u001b[1;32m   1335\u001b[0m \u001b[38;5;28;01mif\u001b[39;00m \u001b[38;5;28misinstance\u001b[39m(delimiter, \u001b[38;5;28mbytes\u001b[39m):\n\u001b[1;32m   1336\u001b[0m     delimiter \u001b[38;5;241m=\u001b[39m delimiter\u001b[38;5;241m.\u001b[39mdecode(\u001b[38;5;124m'\u001b[39m\u001b[38;5;124mlatin1\u001b[39m\u001b[38;5;124m'\u001b[39m)\n\u001b[0;32m-> 1338\u001b[0m arr \u001b[38;5;241m=\u001b[39m \u001b[43m_read\u001b[49m\u001b[43m(\u001b[49m\u001b[43mfname\u001b[49m\u001b[43m,\u001b[49m\u001b[43m \u001b[49m\u001b[43mdtype\u001b[49m\u001b[38;5;241;43m=\u001b[39;49m\u001b[43mdtype\u001b[49m\u001b[43m,\u001b[49m\u001b[43m \u001b[49m\u001b[43mcomment\u001b[49m\u001b[38;5;241;43m=\u001b[39;49m\u001b[43mcomment\u001b[49m\u001b[43m,\u001b[49m\u001b[43m \u001b[49m\u001b[43mdelimiter\u001b[49m\u001b[38;5;241;43m=\u001b[39;49m\u001b[43mdelimiter\u001b[49m\u001b[43m,\u001b[49m\n\u001b[1;32m   1339\u001b[0m \u001b[43m            \u001b[49m\u001b[43mconverters\u001b[49m\u001b[38;5;241;43m=\u001b[39;49m\u001b[43mconverters\u001b[49m\u001b[43m,\u001b[49m\u001b[43m \u001b[49m\u001b[43mskiplines\u001b[49m\u001b[38;5;241;43m=\u001b[39;49m\u001b[43mskiprows\u001b[49m\u001b[43m,\u001b[49m\u001b[43m \u001b[49m\u001b[43musecols\u001b[49m\u001b[38;5;241;43m=\u001b[39;49m\u001b[43musecols\u001b[49m\u001b[43m,\u001b[49m\n\u001b[1;32m   1340\u001b[0m \u001b[43m            \u001b[49m\u001b[43munpack\u001b[49m\u001b[38;5;241;43m=\u001b[39;49m\u001b[43munpack\u001b[49m\u001b[43m,\u001b[49m\u001b[43m \u001b[49m\u001b[43mndmin\u001b[49m\u001b[38;5;241;43m=\u001b[39;49m\u001b[43mndmin\u001b[49m\u001b[43m,\u001b[49m\u001b[43m \u001b[49m\u001b[43mencoding\u001b[49m\u001b[38;5;241;43m=\u001b[39;49m\u001b[43mencoding\u001b[49m\u001b[43m,\u001b[49m\n\u001b[1;32m   1341\u001b[0m \u001b[43m            \u001b[49m\u001b[43mmax_rows\u001b[49m\u001b[38;5;241;43m=\u001b[39;49m\u001b[43mmax_rows\u001b[49m\u001b[43m,\u001b[49m\u001b[43m \u001b[49m\u001b[43mquote\u001b[49m\u001b[38;5;241;43m=\u001b[39;49m\u001b[43mquotechar\u001b[49m\u001b[43m)\u001b[49m\n\u001b[1;32m   1343\u001b[0m \u001b[38;5;28;01mreturn\u001b[39;00m arr\n",
            "File \u001b[0;32m~/.local/lib/python3.10/site-packages/numpy/lib/npyio.py:999\u001b[0m, in \u001b[0;36m_read\u001b[0;34m(fname, delimiter, comment, quote, imaginary_unit, usecols, skiplines, max_rows, converters, ndmin, unpack, dtype, encoding)\u001b[0m\n\u001b[1;32m    996\u001b[0m     data \u001b[38;5;241m=\u001b[39m _preprocess_comments(data, comments, encoding)\n\u001b[1;32m    998\u001b[0m \u001b[38;5;28;01mif\u001b[39;00m read_dtype_via_object_chunks \u001b[38;5;129;01mis\u001b[39;00m \u001b[38;5;28;01mNone\u001b[39;00m:\n\u001b[0;32m--> 999\u001b[0m     arr \u001b[38;5;241m=\u001b[39m \u001b[43m_load_from_filelike\u001b[49m\u001b[43m(\u001b[49m\n\u001b[1;32m   1000\u001b[0m \u001b[43m        \u001b[49m\u001b[43mdata\u001b[49m\u001b[43m,\u001b[49m\u001b[43m \u001b[49m\u001b[43mdelimiter\u001b[49m\u001b[38;5;241;43m=\u001b[39;49m\u001b[43mdelimiter\u001b[49m\u001b[43m,\u001b[49m\u001b[43m \u001b[49m\u001b[43mcomment\u001b[49m\u001b[38;5;241;43m=\u001b[39;49m\u001b[43mcomment\u001b[49m\u001b[43m,\u001b[49m\u001b[43m \u001b[49m\u001b[43mquote\u001b[49m\u001b[38;5;241;43m=\u001b[39;49m\u001b[43mquote\u001b[49m\u001b[43m,\u001b[49m\n\u001b[1;32m   1001\u001b[0m \u001b[43m        \u001b[49m\u001b[43mimaginary_unit\u001b[49m\u001b[38;5;241;43m=\u001b[39;49m\u001b[43mimaginary_unit\u001b[49m\u001b[43m,\u001b[49m\n\u001b[1;32m   1002\u001b[0m \u001b[43m        \u001b[49m\u001b[43musecols\u001b[49m\u001b[38;5;241;43m=\u001b[39;49m\u001b[43musecols\u001b[49m\u001b[43m,\u001b[49m\u001b[43m \u001b[49m\u001b[43mskiplines\u001b[49m\u001b[38;5;241;43m=\u001b[39;49m\u001b[43mskiplines\u001b[49m\u001b[43m,\u001b[49m\u001b[43m \u001b[49m\u001b[43mmax_rows\u001b[49m\u001b[38;5;241;43m=\u001b[39;49m\u001b[43mmax_rows\u001b[49m\u001b[43m,\u001b[49m\n\u001b[1;32m   1003\u001b[0m \u001b[43m        \u001b[49m\u001b[43mconverters\u001b[49m\u001b[38;5;241;43m=\u001b[39;49m\u001b[43mconverters\u001b[49m\u001b[43m,\u001b[49m\u001b[43m \u001b[49m\u001b[43mdtype\u001b[49m\u001b[38;5;241;43m=\u001b[39;49m\u001b[43mdtype\u001b[49m\u001b[43m,\u001b[49m\n\u001b[1;32m   1004\u001b[0m \u001b[43m        \u001b[49m\u001b[43mencoding\u001b[49m\u001b[38;5;241;43m=\u001b[39;49m\u001b[43mencoding\u001b[49m\u001b[43m,\u001b[49m\u001b[43m \u001b[49m\u001b[43mfilelike\u001b[49m\u001b[38;5;241;43m=\u001b[39;49m\u001b[43mfilelike\u001b[49m\u001b[43m,\u001b[49m\n\u001b[1;32m   1005\u001b[0m \u001b[43m        \u001b[49m\u001b[43mbyte_converters\u001b[49m\u001b[38;5;241;43m=\u001b[39;49m\u001b[43mbyte_converters\u001b[49m\u001b[43m)\u001b[49m\n\u001b[1;32m   1007\u001b[0m \u001b[38;5;28;01melse\u001b[39;00m:\n\u001b[1;32m   1008\u001b[0m     \u001b[38;5;66;03m# This branch reads the file into chunks of object arrays and then\u001b[39;00m\n\u001b[1;32m   1009\u001b[0m     \u001b[38;5;66;03m# casts them to the desired actual dtype.  This ensures correct\u001b[39;00m\n\u001b[1;32m   1010\u001b[0m     \u001b[38;5;66;03m# string-length and datetime-unit discovery (like `arr.astype()`).\u001b[39;00m\n\u001b[1;32m   1011\u001b[0m     \u001b[38;5;66;03m# Due to chunking, certain error reports are less clear, currently.\u001b[39;00m\n\u001b[1;32m   1012\u001b[0m     \u001b[38;5;28;01mif\u001b[39;00m filelike:\n",
            "\u001b[0;31mValueError\u001b[0m: invalid column index 4 at row 1 with 1 columns"
          ]
        }
      ],
      "source": [
        "np.loadtxt('https://raw.githubusercontent.com/igomezv/DataScienceIntermedio/main/datasets/prueba2.csv',\n",
        "           skiprows=1, usecols=[4,5,6]) #, delimiter=',')"
      ]
    },
    {
      "cell_type": "markdown",
      "id": "02695f1a",
      "metadata": {
        "id": "02695f1a"
      },
      "source": [
        "¿Por qué marca error?\n",
        "\n",
        "Enfatizar en la importancia de conocer el tipo de archivo que se está leyendo. Comentar sobre editores de texto."
      ]
    },
    {
      "cell_type": "code",
      "execution_count": null,
      "id": "2cccffb4",
      "metadata": {
        "id": "2cccffb4",
        "outputId": "a1562233-5360-421c-bd41-e4b1bff762d1"
      },
      "outputs": [
        {
          "data": {
            "text/html": [
              "<div>\n",
              "<style scoped>\n",
              "    .dataframe tbody tr th:only-of-type {\n",
              "        vertical-align: middle;\n",
              "    }\n",
              "\n",
              "    .dataframe tbody tr th {\n",
              "        vertical-align: top;\n",
              "    }\n",
              "\n",
              "    .dataframe thead th {\n",
              "        text-align: right;\n",
              "    }\n",
              "</style>\n",
              "<table border=\"1\" class=\"dataframe\">\n",
              "  <thead>\n",
              "    <tr style=\"text-align: right;\">\n",
              "      <th></th>\n",
              "      <th>Nombre</th>\n",
              "      <th>Apellido</th>\n",
              "      <th>Estado</th>\n",
              "      <th>Genero</th>\n",
              "      <th>Edad</th>\n",
              "      <th>Peso</th>\n",
              "      <th>Horas de sueño</th>\n",
              "    </tr>\n",
              "  </thead>\n",
              "  <tbody>\n",
              "    <tr>\n",
              "      <th>0</th>\n",
              "      <td>Juan</td>\n",
              "      <td>Perez</td>\n",
              "      <td>Veracruz</td>\n",
              "      <td>M</td>\n",
              "      <td>45</td>\n",
              "      <td>70</td>\n",
              "      <td>8</td>\n",
              "    </tr>\n",
              "    <tr>\n",
              "      <th>1</th>\n",
              "      <td>María</td>\n",
              "      <td>Gómez</td>\n",
              "      <td>Puebla</td>\n",
              "      <td>F</td>\n",
              "      <td>40</td>\n",
              "      <td>60</td>\n",
              "      <td>7</td>\n",
              "    </tr>\n",
              "    <tr>\n",
              "      <th>2</th>\n",
              "      <td>Jimena</td>\n",
              "      <td>Rodríguez</td>\n",
              "      <td>Veracruz</td>\n",
              "      <td>F</td>\n",
              "      <td>44</td>\n",
              "      <td>55</td>\n",
              "      <td>6</td>\n",
              "    </tr>\n",
              "    <tr>\n",
              "      <th>3</th>\n",
              "      <td>Alfredo</td>\n",
              "      <td>Hernández</td>\n",
              "      <td>México</td>\n",
              "      <td>M</td>\n",
              "      <td>30</td>\n",
              "      <td>50</td>\n",
              "      <td>7</td>\n",
              "    </tr>\n",
              "    <tr>\n",
              "      <th>4</th>\n",
              "      <td>Luis</td>\n",
              "      <td>hernandez</td>\n",
              "      <td>México</td>\n",
              "      <td>M</td>\n",
              "      <td>60</td>\n",
              "      <td>85</td>\n",
              "      <td>9</td>\n",
              "    </tr>\n",
              "    <tr>\n",
              "      <th>5</th>\n",
              "      <td>Gabriela</td>\n",
              "      <td>perez</td>\n",
              "      <td>Hidalgo</td>\n",
              "      <td>F</td>\n",
              "      <td>55</td>\n",
              "      <td>65</td>\n",
              "      <td>8</td>\n",
              "    </tr>\n",
              "    <tr>\n",
              "      <th>6</th>\n",
              "      <td>Enrique</td>\n",
              "      <td>García</td>\n",
              "      <td>Veracruz</td>\n",
              "      <td>M</td>\n",
              "      <td>50</td>\n",
              "      <td>73</td>\n",
              "      <td>5</td>\n",
              "    </tr>\n",
              "    <tr>\n",
              "      <th>7</th>\n",
              "      <td>Laura</td>\n",
              "      <td>Zamora</td>\n",
              "      <td>Puebla</td>\n",
              "      <td>F</td>\n",
              "      <td>33</td>\n",
              "      <td>70</td>\n",
              "      <td>8</td>\n",
              "    </tr>\n",
              "  </tbody>\n",
              "</table>\n",
              "</div>"
            ],
            "text/plain": [
              "     Nombre   Apellido    Estado Genero  Edad  Peso  Horas de sueño\n",
              "0      Juan      Perez  Veracruz      M    45    70               8\n",
              "1     María      Gómez    Puebla      F    40    60               7\n",
              "2    Jimena  Rodríguez  Veracruz      F    44    55               6\n",
              "3   Alfredo  Hernández    México      M    30    50               7\n",
              "4      Luis  hernandez    México      M    60    85               9\n",
              "5  Gabriela      perez   Hidalgo      F    55    65               8\n",
              "6   Enrique     García  Veracruz      M    50    73               5\n",
              "7     Laura     Zamora    Puebla      F    33    70               8"
            ]
          },
          "execution_count": 29,
          "metadata": {},
          "output_type": "execute_result"
        }
      ],
      "source": [
        "pd.read_csv('https://raw.githubusercontent.com/igomezv/DataScienceIntermedio/main/datasets/prueba2.csv')"
      ]
    },
    {
      "cell_type": "markdown",
      "id": "063b4b72",
      "metadata": {
        "id": "063b4b72"
      },
      "source": [
        "## Conversión de datos\n",
        "Referencia: https://www.programiz.com/python-programming/type-conversion-and-casting"
      ]
    },
    {
      "cell_type": "code",
      "execution_count": null,
      "id": "b4e266a8",
      "metadata": {
        "id": "b4e266a8",
        "outputId": "eade3877-f0e2-433b-fbd1-bd5d40e97cf7"
      },
      "outputs": [
        {
          "name": "stdout",
          "output_type": "stream",
          "text": [
            "Tipo de datos de num_int: <class 'int'>\n",
            "Tipo de datos de num_flo: <class 'float'>\n",
            "Valor de num_new: 124.23\n",
            "Tipo de datos de num_new: <class 'float'>\n"
          ]
        }
      ],
      "source": [
        "# Ejemplo 1\n",
        "num_int = 123\n",
        "num_flo = 1.23\n",
        "\n",
        "num_new = num_int + num_flo\n",
        "\n",
        "print(\"Tipo de datos de num_int:\",type(num_int))\n",
        "print(\"Tipo de datos de num_flo:\",type(num_flo))\n",
        "\n",
        "print(\"Valor de num_new:\",num_new)\n",
        "print(\"Tipo de datos de num_new:\",type(num_new))"
      ]
    },
    {
      "cell_type": "code",
      "execution_count": null,
      "id": "69e33822",
      "metadata": {
        "id": "69e33822",
        "outputId": "02fa0b7c-3e7a-4304-ff16-aa1ddc155790"
      },
      "outputs": [
        {
          "name": "stdout",
          "output_type": "stream",
          "text": [
            "Tipo de datos de num_int: <class 'int'>\n",
            "Tipo de datos de num_str: <class 'str'>\n"
          ]
        },
        {
          "ename": "TypeError",
          "evalue": "unsupported operand type(s) for +: 'int' and 'str'",
          "output_type": "error",
          "traceback": [
            "\u001b[0;31m---------------------------------------------------------------------------\u001b[0m",
            "\u001b[0;31mTypeError\u001b[0m                                 Traceback (most recent call last)",
            "Cell \u001b[0;32mIn[31], line 8\u001b[0m\n\u001b[1;32m      5\u001b[0m \u001b[38;5;28mprint\u001b[39m(\u001b[38;5;124m\"\u001b[39m\u001b[38;5;124mTipo de datos de num_int:\u001b[39m\u001b[38;5;124m\"\u001b[39m,\u001b[38;5;28mtype\u001b[39m(num_int))\n\u001b[1;32m      6\u001b[0m \u001b[38;5;28mprint\u001b[39m(\u001b[38;5;124m\"\u001b[39m\u001b[38;5;124mTipo de datos de num_str:\u001b[39m\u001b[38;5;124m\"\u001b[39m,\u001b[38;5;28mtype\u001b[39m(num_str))\n\u001b[0;32m----> 8\u001b[0m \u001b[38;5;28mprint\u001b[39m(\u001b[43mnum_int\u001b[49m\u001b[38;5;241;43m+\u001b[39;49m\u001b[43mnum_str\u001b[49m)\n",
            "\u001b[0;31mTypeError\u001b[0m: unsupported operand type(s) for +: 'int' and 'str'"
          ]
        }
      ],
      "source": [
        "# Ejemplo 2\n",
        "num_int = 123\n",
        "num_str = \"456\"\n",
        "\n",
        "print(\"Tipo de datos de num_int:\",type(num_int))\n",
        "print(\"Tipo de datos de num_str:\",type(num_str))\n",
        "\n",
        "print(num_int+num_str)"
      ]
    },
    {
      "cell_type": "code",
      "execution_count": null,
      "id": "699ec95a",
      "metadata": {
        "id": "699ec95a",
        "outputId": "aa70f01d-ec5e-4e1d-b802-09e255bcbad8"
      },
      "outputs": [
        {
          "name": "stdout",
          "output_type": "stream",
          "text": [
            "Tipo de dato de num_int: <class 'int'>\n",
            "Tipo de dato de num_str antes del Type Casting: <class 'str'>\n",
            "Tipo de dato de num_str después del Type Casting: <class 'int'>\n",
            "Suma de num_int y num_str: 579\n",
            "Tipo de dato de la suma: <class 'int'>\n"
          ]
        }
      ],
      "source": [
        "# Ejemplo 3\n",
        "num_int = 123\n",
        "num_str = \"456\"\n",
        "\n",
        "print(\"Tipo de dato de num_int:\",type(num_int))\n",
        "print(\"Tipo de dato de num_str antes del Type Casting:\",type(num_str))\n",
        "\n",
        "num_str = int(num_str)\n",
        "print(\"Tipo de dato de num_str después del Type Casting:\",type(num_str))\n",
        "\n",
        "num_sum = num_int + num_str\n",
        "\n",
        "print(\"Suma de num_int y num_str:\",num_sum)\n",
        "print(\"Tipo de dato de la suma:\",type(num_sum))"
      ]
    },
    {
      "cell_type": "code",
      "execution_count": null,
      "id": "c353c134",
      "metadata": {
        "id": "c353c134",
        "outputId": "6fbd201b-1e8a-400c-a53d-a42bf3ef9e4a"
      },
      "outputs": [
        {
          "data": {
            "text/plain": [
              "(list, numpy.ndarray, pandas.core.frame.DataFrame)"
            ]
          },
          "execution_count": 33,
          "metadata": {},
          "output_type": "execute_result"
        }
      ],
      "source": [
        "# Ejemplo 4\n",
        "lista = [10,22,33,44,55]\n",
        "nparray = np.array(lista)\n",
        "df = pd.DataFrame(lista)\n",
        "type(lista), type(nparray), type(df)"
      ]
    },
    {
      "cell_type": "code",
      "execution_count": null,
      "id": "b4d5d3bf",
      "metadata": {
        "id": "b4d5d3bf",
        "outputId": "1fe4faf3-e5f8-4c79-a287-8e6d7291d8f5"
      },
      "outputs": [
        {
          "data": {
            "text/plain": [
              "([10, 22, 33, 44, 55], list)"
            ]
          },
          "execution_count": 34,
          "metadata": {},
          "output_type": "execute_result"
        }
      ],
      "source": [
        "lista2 = list(nparray)\n",
        "lista2, type(lista2)"
      ]
    },
    {
      "cell_type": "code",
      "execution_count": null,
      "id": "49529620",
      "metadata": {
        "id": "49529620",
        "outputId": "d1594108-1de7-4d84-ab2b-5423e55f2593"
      },
      "outputs": [
        {
          "data": {
            "text/plain": [
              "([0], list, int)"
            ]
          },
          "execution_count": 35,
          "metadata": {},
          "output_type": "execute_result"
        }
      ],
      "source": [
        "lista3 = list(df)\n",
        "lista3, type(lista3), type(lista3[0])"
      ]
    },
    {
      "cell_type": "code",
      "execution_count": null,
      "id": "f431c9ed",
      "metadata": {
        "id": "f431c9ed",
        "outputId": "07122d9f-8722-4d7c-8e1c-d086af7cf3f6"
      },
      "outputs": [
        {
          "data": {
            "text/plain": [
              "([array([10]), array([22]), array([33]), array([44]), array([55])], list)"
            ]
          },
          "execution_count": 36,
          "metadata": {},
          "output_type": "execute_result"
        }
      ],
      "source": [
        "lista4 = list(df.values)\n",
        "lista4, type(lista4)"
      ]
    },
    {
      "cell_type": "markdown",
      "id": "8efee61d",
      "metadata": {
        "id": "8efee61d"
      },
      "source": [
        "### Filtrado de datos\n",
        "https://numpy.org/doc/stable/reference/routines.sort.html"
      ]
    },
    {
      "cell_type": "code",
      "execution_count": null,
      "id": "7f6b0899",
      "metadata": {
        "id": "7f6b0899",
        "outputId": "c909a198-5171-4b42-f598-ca148fa56d2f"
      },
      "outputs": [
        {
          "data": {
            "text/plain": [
              "array([ 1,  4,  7, 10, 13, 16, 19, 22, 25, 28])"
            ]
          },
          "execution_count": 37,
          "metadata": {},
          "output_type": "execute_result"
        }
      ],
      "source": [
        "import numpy as np\n",
        "array = np.arange(1, 29, 3)\n",
        "array"
      ]
    },
    {
      "cell_type": "markdown",
      "id": "18601082",
      "metadata": {
        "id": "18601082"
      },
      "source": [
        "#### Seleccionar por índice un elemento"
      ]
    },
    {
      "cell_type": "code",
      "execution_count": null,
      "id": "5f2e4d22",
      "metadata": {
        "id": "5f2e4d22",
        "outputId": "f708b581-a99d-4156-f29f-7dab3413b8b7"
      },
      "outputs": [
        {
          "data": {
            "text/plain": [
              "4"
            ]
          },
          "execution_count": 38,
          "metadata": {},
          "output_type": "execute_result"
        }
      ],
      "source": [
        "array[1]"
      ]
    },
    {
      "cell_type": "markdown",
      "id": "1bc7bbdd",
      "metadata": {
        "id": "1bc7bbdd"
      },
      "source": [
        "#### Seleccionar un rango de elementos"
      ]
    },
    {
      "cell_type": "code",
      "execution_count": null,
      "id": "9829cf55",
      "metadata": {
        "id": "9829cf55",
        "outputId": "8fa66bdd-aa79-4682-900f-049a3df68dc5"
      },
      "outputs": [
        {
          "data": {
            "text/plain": [
              "array([ 7, 10, 13, 16])"
            ]
          },
          "execution_count": 39,
          "metadata": {},
          "output_type": "execute_result"
        }
      ],
      "source": [
        "array[2:6]"
      ]
    },
    {
      "cell_type": "markdown",
      "id": "02ad2cc7",
      "metadata": {
        "id": "02ad2cc7"
      },
      "source": [
        "#### Seleccionar los primeros 5 elementos"
      ]
    },
    {
      "cell_type": "code",
      "execution_count": null,
      "id": "885d8e24",
      "metadata": {
        "id": "885d8e24",
        "outputId": "c8ad4957-c27a-46ee-f2a1-b400a9ab7359"
      },
      "outputs": [
        {
          "data": {
            "text/plain": [
              "array([ 1,  4,  7, 10, 13])"
            ]
          },
          "execution_count": 40,
          "metadata": {},
          "output_type": "execute_result"
        }
      ],
      "source": [
        "array[:5]"
      ]
    },
    {
      "cell_type": "markdown",
      "id": "14a55e01",
      "metadata": {
        "id": "14a55e01"
      },
      "source": [
        "### Arreglos 2D"
      ]
    },
    {
      "cell_type": "code",
      "execution_count": null,
      "id": "b0e6fef1",
      "metadata": {
        "id": "b0e6fef1",
        "outputId": "8c47e19d-38ae-4f46-95a0-2982b830953f"
      },
      "outputs": [
        {
          "data": {
            "text/plain": [
              "array([[ 8,  2,  1],\n",
              "       [ 1, 10,  6],\n",
              "       [ 1, 10,  8]])"
            ]
          },
          "execution_count": 41,
          "metadata": {},
          "output_type": "execute_result"
        }
      ],
      "source": [
        "## Matrices\n",
        "array = np.random.randint(1, 15, (3,3))\n",
        "array"
      ]
    },
    {
      "cell_type": "code",
      "execution_count": null,
      "id": "25cd81cd",
      "metadata": {
        "id": "25cd81cd",
        "outputId": "4d272e82-3928-4da8-acae-2c74abf838b7"
      },
      "outputs": [
        {
          "data": {
            "text/plain": [
              "2"
            ]
          },
          "execution_count": 42,
          "metadata": {},
          "output_type": "execute_result"
        }
      ],
      "source": [
        "array[0, 1]"
      ]
    },
    {
      "cell_type": "code",
      "execution_count": null,
      "id": "71c43977",
      "metadata": {
        "id": "71c43977",
        "outputId": "cbb6ba85-9fff-4a2a-e62a-b4385f0ce597"
      },
      "outputs": [
        {
          "data": {
            "text/plain": [
              "array([ 1, 10,  6])"
            ]
          },
          "execution_count": 43,
          "metadata": {},
          "output_type": "execute_result"
        }
      ],
      "source": [
        "array[1, :]"
      ]
    },
    {
      "cell_type": "markdown",
      "id": "b3eac294",
      "metadata": {
        "id": "b3eac294"
      },
      "source": [
        "#### Con condiciones"
      ]
    },
    {
      "cell_type": "code",
      "execution_count": null,
      "id": "8d37cb8c",
      "metadata": {
        "id": "8d37cb8c",
        "outputId": "c9e17973-bedf-4665-c3d5-968a09db5c28"
      },
      "outputs": [
        {
          "data": {
            "text/plain": [
              "array([2, 1, 1, 1])"
            ]
          },
          "execution_count": 44,
          "metadata": {},
          "output_type": "execute_result"
        }
      ],
      "source": [
        "array[array < 5]"
      ]
    },
    {
      "cell_type": "code",
      "execution_count": null,
      "id": "f1175544",
      "metadata": {
        "id": "f1175544",
        "outputId": "cccd6419-3c23-4693-bb32-8d6211eb2239"
      },
      "outputs": [
        {
          "data": {
            "text/plain": [
              "array([ 2,  1,  1, 10,  1, 10])"
            ]
          },
          "execution_count": 45,
          "metadata": {},
          "output_type": "execute_result"
        }
      ],
      "source": [
        "# OR\n",
        "array[(array < 5) | (array > 9)]"
      ]
    },
    {
      "cell_type": "code",
      "execution_count": null,
      "id": "9cd74388",
      "metadata": {
        "id": "9cd74388",
        "outputId": "304fe81f-55c8-4e4b-b389-0e94f588df1a"
      },
      "outputs": [
        {
          "data": {
            "text/plain": [
              "array([8, 6, 8])"
            ]
          },
          "execution_count": 46,
          "metadata": {},
          "output_type": "execute_result"
        }
      ],
      "source": [
        "#filter for values greater than 5 and less than 9\n",
        "array[(array > 5) & (array < 9)]"
      ]
    },
    {
      "cell_type": "code",
      "execution_count": null,
      "id": "2c24b028",
      "metadata": {
        "id": "2c24b028",
        "outputId": "714fbd07-e01e-409f-b189-c37e782cc7e4"
      },
      "outputs": [
        {
          "data": {
            "text/plain": [
              "array([[8, 2, 1]])"
            ]
          },
          "execution_count": 47,
          "metadata": {},
          "output_type": "execute_result"
        }
      ],
      "source": [
        "#filtrar filas to 2, 3, 5\n",
        "filtro = np.asarray([2,3,5])\n",
        "mask = np.in1d(array[:, 1], filtro)\n",
        "array[mask]\n",
        "#"
      ]
    },
    {
      "cell_type": "code",
      "execution_count": null,
      "id": "d7dac73a",
      "metadata": {
        "id": "d7dac73a",
        "outputId": "cf869e6c-9580-42a5-a2fe-890b6a838e0c"
      },
      "outputs": [
        {
          "data": {
            "text/plain": [
              "(array([ 8,  2, 10,  6, 10,  8]), (6,))"
            ]
          },
          "execution_count": 48,
          "metadata": {},
          "output_type": "execute_result"
        }
      ],
      "source": [
        "# Condiciones más complejas\n",
        "array2 = array[np.where(array % 2 == 0)]\n",
        "array2, np.shape(array2)"
      ]
    },
    {
      "cell_type": "code",
      "execution_count": null,
      "id": "675e86b0",
      "metadata": {
        "id": "675e86b0",
        "outputId": "0cfeec22-3ff3-4f3f-fa13-a7de75babc00"
      },
      "outputs": [
        {
          "data": {
            "text/plain": [
              "array([[False, False, False],\n",
              "       [False, False,  True],\n",
              "       [False, False, False]])"
            ]
          },
          "execution_count": 49,
          "metadata": {},
          "output_type": "execute_result"
        }
      ],
      "source": [
        "## Con mascara\n",
        "condition = np.mod(array, 3)==0\n",
        "condition"
      ]
    },
    {
      "cell_type": "code",
      "execution_count": null,
      "id": "99efd58e",
      "metadata": {
        "id": "99efd58e",
        "outputId": "c2d7e03a-0a92-4b29-9723-5173abdc09e0"
      },
      "outputs": [
        {
          "data": {
            "text/plain": [
              "array([6])"
            ]
          },
          "execution_count": 50,
          "metadata": {},
          "output_type": "execute_result"
        }
      ],
      "source": [
        "np.extract(condition, array)"
      ]
    },
    {
      "cell_type": "code",
      "execution_count": null,
      "id": "f9ba83da",
      "metadata": {
        "id": "f9ba83da",
        "outputId": "57525def-bda8-479b-e7ab-182ece0d0267"
      },
      "outputs": [
        {
          "data": {
            "text/plain": [
              "array([6])"
            ]
          },
          "execution_count": 51,
          "metadata": {},
          "output_type": "execute_result"
        }
      ],
      "source": [
        "array[condition]"
      ]
    },
    {
      "cell_type": "code",
      "execution_count": null,
      "id": "3bf77cea",
      "metadata": {
        "id": "3bf77cea",
        "outputId": "1300c0e2-83cc-40ed-b635-28dd11965a54"
      },
      "outputs": [
        {
          "data": {
            "text/plain": [
              "array([[2, 4, 6],\n",
              "       [2, 9, 6]])"
            ]
          },
          "execution_count": 52,
          "metadata": {},
          "output_type": "execute_result"
        }
      ],
      "source": [
        "arr = np.random.randint(1, 10, (2,3))\n",
        "arr\n"
      ]
    },
    {
      "cell_type": "code",
      "execution_count": null,
      "id": "50f7f47d",
      "metadata": {
        "id": "50f7f47d",
        "outputId": "586e3328-4eef-4bbb-b055-5219d879b8b9"
      },
      "outputs": [
        {
          "data": {
            "text/plain": [
              "array([[ 2,  4, 44],\n",
              "       [ 2, 55, 44]])"
            ]
          },
          "execution_count": 53,
          "metadata": {},
          "output_type": "execute_result"
        }
      ],
      "source": [
        "np.place(arr, arr>5, [44, 55])\n",
        "arr"
      ]
    },
    {
      "cell_type": "markdown",
      "id": "ea4c91ac",
      "metadata": {
        "id": "ea4c91ac"
      },
      "source": [
        "### Filtros de datos con pandas"
      ]
    },
    {
      "cell_type": "code",
      "execution_count": null,
      "id": "6c67d573",
      "metadata": {
        "id": "6c67d573",
        "outputId": "f5de7bce-81ad-445f-accc-ec64db38a197"
      },
      "outputs": [
        {
          "data": {
            "text/html": [
              "<div>\n",
              "<style scoped>\n",
              "    .dataframe tbody tr th:only-of-type {\n",
              "        vertical-align: middle;\n",
              "    }\n",
              "\n",
              "    .dataframe tbody tr th {\n",
              "        vertical-align: top;\n",
              "    }\n",
              "\n",
              "    .dataframe thead th {\n",
              "        text-align: right;\n",
              "    }\n",
              "</style>\n",
              "<table border=\"1\" class=\"dataframe\">\n",
              "  <thead>\n",
              "    <tr style=\"text-align: right;\">\n",
              "      <th></th>\n",
              "      <th>Nombre</th>\n",
              "      <th>Apellido</th>\n",
              "      <th>Estado</th>\n",
              "      <th>Genero</th>\n",
              "      <th>Edad</th>\n",
              "      <th>Peso</th>\n",
              "      <th>Horas de sueño</th>\n",
              "    </tr>\n",
              "  </thead>\n",
              "  <tbody>\n",
              "    <tr>\n",
              "      <th>0</th>\n",
              "      <td>Juan</td>\n",
              "      <td>Perez</td>\n",
              "      <td>Veracruz</td>\n",
              "      <td>M</td>\n",
              "      <td>45.0</td>\n",
              "      <td>70.0</td>\n",
              "      <td>8.0</td>\n",
              "    </tr>\n",
              "    <tr>\n",
              "      <th>1</th>\n",
              "      <td>María</td>\n",
              "      <td>Gómez</td>\n",
              "      <td>Puebla</td>\n",
              "      <td>F</td>\n",
              "      <td>40.0</td>\n",
              "      <td>60.0</td>\n",
              "      <td>7.0</td>\n",
              "    </tr>\n",
              "    <tr>\n",
              "      <th>2</th>\n",
              "      <td>Jimena</td>\n",
              "      <td>Rodríguez</td>\n",
              "      <td>Veracruz</td>\n",
              "      <td>F</td>\n",
              "      <td>NaN</td>\n",
              "      <td>55.0</td>\n",
              "      <td>6.0</td>\n",
              "    </tr>\n",
              "    <tr>\n",
              "      <th>3</th>\n",
              "      <td>Alfredo</td>\n",
              "      <td>Hernández</td>\n",
              "      <td>México</td>\n",
              "      <td>M</td>\n",
              "      <td>30.0</td>\n",
              "      <td>NaN</td>\n",
              "      <td>NaN</td>\n",
              "    </tr>\n",
              "    <tr>\n",
              "      <th>4</th>\n",
              "      <td>Luis</td>\n",
              "      <td>hernandez</td>\n",
              "      <td>México</td>\n",
              "      <td>M</td>\n",
              "      <td>60.0</td>\n",
              "      <td>85.0</td>\n",
              "      <td>9.0</td>\n",
              "    </tr>\n",
              "    <tr>\n",
              "      <th>5</th>\n",
              "      <td>Gabriela</td>\n",
              "      <td>perez</td>\n",
              "      <td>Hidalgo</td>\n",
              "      <td>F</td>\n",
              "      <td>55.0</td>\n",
              "      <td>65.0</td>\n",
              "      <td>NaN</td>\n",
              "    </tr>\n",
              "    <tr>\n",
              "      <th>6</th>\n",
              "      <td>Enrique</td>\n",
              "      <td>García</td>\n",
              "      <td>Veracruz</td>\n",
              "      <td>M</td>\n",
              "      <td>50.0</td>\n",
              "      <td>73.0</td>\n",
              "      <td>5.0</td>\n",
              "    </tr>\n",
              "    <tr>\n",
              "      <th>7</th>\n",
              "      <td>Laura</td>\n",
              "      <td>Zamora</td>\n",
              "      <td>Puebla</td>\n",
              "      <td>F</td>\n",
              "      <td>33.0</td>\n",
              "      <td>70.0</td>\n",
              "      <td>8.0</td>\n",
              "    </tr>\n",
              "  </tbody>\n",
              "</table>\n",
              "</div>"
            ],
            "text/plain": [
              "     Nombre   Apellido    Estado Genero  Edad  Peso  Horas de sueño\n",
              "0      Juan      Perez  Veracruz      M  45.0  70.0             8.0\n",
              "1     María      Gómez    Puebla      F  40.0  60.0             7.0\n",
              "2    Jimena  Rodríguez  Veracruz      F   NaN  55.0             6.0\n",
              "3   Alfredo  Hernández    México      M  30.0   NaN             NaN\n",
              "4      Luis  hernandez    México      M  60.0  85.0             9.0\n",
              "5  Gabriela      perez   Hidalgo      F  55.0  65.0             NaN\n",
              "6   Enrique     García  Veracruz      M  50.0  73.0             5.0\n",
              "7     Laura     Zamora    Puebla      F  33.0  70.0             8.0"
            ]
          },
          "execution_count": 54,
          "metadata": {},
          "output_type": "execute_result"
        }
      ],
      "source": [
        "df = pd.read_csv('https://raw.githubusercontent.com/igomezv/DataScienceIntermedio/main/datasets/faltantes.csv')\n",
        "df"
      ]
    },
    {
      "cell_type": "code",
      "execution_count": null,
      "id": "ca832a0f",
      "metadata": {
        "id": "ca832a0f",
        "outputId": "7f378941-d5df-4540-899a-a1efe2e46176"
      },
      "outputs": [
        {
          "data": {
            "text/plain": [
              "0    False\n",
              "1     True\n",
              "2     True\n",
              "3    False\n",
              "4    False\n",
              "Name: Genero, dtype: bool"
            ]
          },
          "execution_count": 55,
          "metadata": {},
          "output_type": "execute_result"
        }
      ],
      "source": [
        "femenino = df['Genero'] == 'F'\n",
        "femenino.head()"
      ]
    },
    {
      "cell_type": "code",
      "execution_count": null,
      "id": "70b557f0",
      "metadata": {
        "id": "70b557f0",
        "outputId": "41dd090b-0143-471e-8db2-57c3452be000"
      },
      "outputs": [
        {
          "data": {
            "text/html": [
              "<div>\n",
              "<style scoped>\n",
              "    .dataframe tbody tr th:only-of-type {\n",
              "        vertical-align: middle;\n",
              "    }\n",
              "\n",
              "    .dataframe tbody tr th {\n",
              "        vertical-align: top;\n",
              "    }\n",
              "\n",
              "    .dataframe thead th {\n",
              "        text-align: right;\n",
              "    }\n",
              "</style>\n",
              "<table border=\"1\" class=\"dataframe\">\n",
              "  <thead>\n",
              "    <tr style=\"text-align: right;\">\n",
              "      <th></th>\n",
              "      <th>Nombre</th>\n",
              "      <th>Apellido</th>\n",
              "      <th>Estado</th>\n",
              "      <th>Genero</th>\n",
              "      <th>Edad</th>\n",
              "      <th>Peso</th>\n",
              "      <th>Horas de sueño</th>\n",
              "    </tr>\n",
              "  </thead>\n",
              "  <tbody>\n",
              "    <tr>\n",
              "      <th>1</th>\n",
              "      <td>María</td>\n",
              "      <td>Gómez</td>\n",
              "      <td>Puebla</td>\n",
              "      <td>F</td>\n",
              "      <td>40.0</td>\n",
              "      <td>60.0</td>\n",
              "      <td>7.0</td>\n",
              "    </tr>\n",
              "    <tr>\n",
              "      <th>2</th>\n",
              "      <td>Jimena</td>\n",
              "      <td>Rodríguez</td>\n",
              "      <td>Veracruz</td>\n",
              "      <td>F</td>\n",
              "      <td>NaN</td>\n",
              "      <td>55.0</td>\n",
              "      <td>6.0</td>\n",
              "    </tr>\n",
              "    <tr>\n",
              "      <th>5</th>\n",
              "      <td>Gabriela</td>\n",
              "      <td>perez</td>\n",
              "      <td>Hidalgo</td>\n",
              "      <td>F</td>\n",
              "      <td>55.0</td>\n",
              "      <td>65.0</td>\n",
              "      <td>NaN</td>\n",
              "    </tr>\n",
              "    <tr>\n",
              "      <th>7</th>\n",
              "      <td>Laura</td>\n",
              "      <td>Zamora</td>\n",
              "      <td>Puebla</td>\n",
              "      <td>F</td>\n",
              "      <td>33.0</td>\n",
              "      <td>70.0</td>\n",
              "      <td>8.0</td>\n",
              "    </tr>\n",
              "  </tbody>\n",
              "</table>\n",
              "</div>"
            ],
            "text/plain": [
              "     Nombre   Apellido    Estado Genero  Edad  Peso  Horas de sueño\n",
              "1     María      Gómez    Puebla      F  40.0  60.0             7.0\n",
              "2    Jimena  Rodríguez  Veracruz      F   NaN  55.0             6.0\n",
              "5  Gabriela      perez   Hidalgo      F  55.0  65.0             NaN\n",
              "7     Laura     Zamora    Puebla      F  33.0  70.0             8.0"
            ]
          },
          "execution_count": 56,
          "metadata": {},
          "output_type": "execute_result"
        }
      ],
      "source": [
        "df_fem = df[femenino]\n",
        "df_fem.head()"
      ]
    },
    {
      "cell_type": "code",
      "execution_count": null,
      "id": "5885b361",
      "metadata": {
        "id": "5885b361",
        "outputId": "f80bc0d9-a7bf-4010-cc85-9be115e61ef9"
      },
      "outputs": [
        {
          "data": {
            "text/html": [
              "<div>\n",
              "<style scoped>\n",
              "    .dataframe tbody tr th:only-of-type {\n",
              "        vertical-align: middle;\n",
              "    }\n",
              "\n",
              "    .dataframe tbody tr th {\n",
              "        vertical-align: top;\n",
              "    }\n",
              "\n",
              "    .dataframe thead th {\n",
              "        text-align: right;\n",
              "    }\n",
              "</style>\n",
              "<table border=\"1\" class=\"dataframe\">\n",
              "  <thead>\n",
              "    <tr style=\"text-align: right;\">\n",
              "      <th></th>\n",
              "      <th>Nombre</th>\n",
              "      <th>Apellido</th>\n",
              "      <th>Estado</th>\n",
              "      <th>Genero</th>\n",
              "      <th>Edad</th>\n",
              "      <th>Peso</th>\n",
              "      <th>Horas de sueño</th>\n",
              "    </tr>\n",
              "  </thead>\n",
              "  <tbody>\n",
              "    <tr>\n",
              "      <th>1</th>\n",
              "      <td>María</td>\n",
              "      <td>Gómez</td>\n",
              "      <td>Puebla</td>\n",
              "      <td>F</td>\n",
              "      <td>40.0</td>\n",
              "      <td>60.0</td>\n",
              "      <td>7.0</td>\n",
              "    </tr>\n",
              "    <tr>\n",
              "      <th>2</th>\n",
              "      <td>Jimena</td>\n",
              "      <td>Rodríguez</td>\n",
              "      <td>Veracruz</td>\n",
              "      <td>F</td>\n",
              "      <td>NaN</td>\n",
              "      <td>55.0</td>\n",
              "      <td>6.0</td>\n",
              "    </tr>\n",
              "    <tr>\n",
              "      <th>5</th>\n",
              "      <td>Gabriela</td>\n",
              "      <td>perez</td>\n",
              "      <td>Hidalgo</td>\n",
              "      <td>F</td>\n",
              "      <td>55.0</td>\n",
              "      <td>65.0</td>\n",
              "      <td>NaN</td>\n",
              "    </tr>\n",
              "    <tr>\n",
              "      <th>7</th>\n",
              "      <td>Laura</td>\n",
              "      <td>Zamora</td>\n",
              "      <td>Puebla</td>\n",
              "      <td>F</td>\n",
              "      <td>33.0</td>\n",
              "      <td>70.0</td>\n",
              "      <td>8.0</td>\n",
              "    </tr>\n",
              "  </tbody>\n",
              "</table>\n",
              "</div>"
            ],
            "text/plain": [
              "     Nombre   Apellido    Estado Genero  Edad  Peso  Horas de sueño\n",
              "1     María      Gómez    Puebla      F  40.0  60.0             7.0\n",
              "2    Jimena  Rodríguez  Veracruz      F   NaN  55.0             6.0\n",
              "5  Gabriela      perez   Hidalgo      F  55.0  65.0             NaN\n",
              "7     Laura     Zamora    Puebla      F  33.0  70.0             8.0"
            ]
          },
          "execution_count": 57,
          "metadata": {},
          "output_type": "execute_result"
        }
      ],
      "source": [
        "# mas directo\n",
        "df_fem = df[df['Genero'] == \"F\"]\n",
        "df_fem"
      ]
    },
    {
      "cell_type": "code",
      "execution_count": null,
      "id": "13aa2885",
      "metadata": {
        "id": "13aa2885",
        "outputId": "6f57f16a-2219-4811-c883-e57df28a3bb1"
      },
      "outputs": [
        {
          "data": {
            "text/html": [
              "<div>\n",
              "<style scoped>\n",
              "    .dataframe tbody tr th:only-of-type {\n",
              "        vertical-align: middle;\n",
              "    }\n",
              "\n",
              "    .dataframe tbody tr th {\n",
              "        vertical-align: top;\n",
              "    }\n",
              "\n",
              "    .dataframe thead th {\n",
              "        text-align: right;\n",
              "    }\n",
              "</style>\n",
              "<table border=\"1\" class=\"dataframe\">\n",
              "  <thead>\n",
              "    <tr style=\"text-align: right;\">\n",
              "      <th></th>\n",
              "      <th>Nombre</th>\n",
              "      <th>Apellido</th>\n",
              "      <th>Estado</th>\n",
              "      <th>Genero</th>\n",
              "      <th>Edad</th>\n",
              "      <th>Peso</th>\n",
              "      <th>Horas de sueño</th>\n",
              "    </tr>\n",
              "  </thead>\n",
              "  <tbody>\n",
              "    <tr>\n",
              "      <th>2</th>\n",
              "      <td>Jimena</td>\n",
              "      <td>Rodríguez</td>\n",
              "      <td>Veracruz</td>\n",
              "      <td>F</td>\n",
              "      <td>NaN</td>\n",
              "      <td>55.0</td>\n",
              "      <td>6.0</td>\n",
              "    </tr>\n",
              "  </tbody>\n",
              "</table>\n",
              "</div>"
            ],
            "text/plain": [
              "   Nombre   Apellido    Estado Genero  Edad  Peso  Horas de sueño\n",
              "2  Jimena  Rodríguez  Veracruz      F   NaN  55.0             6.0"
            ]
          },
          "execution_count": 58,
          "metadata": {},
          "output_type": "execute_result"
        }
      ],
      "source": [
        "df_null = df[df.Edad.isnull()]\n",
        "df_null.head()\n",
        "# Probar con horas de sueño"
      ]
    },
    {
      "cell_type": "code",
      "execution_count": null,
      "id": "1ae882ba",
      "metadata": {
        "id": "1ae882ba",
        "outputId": "213b0a7a-45ce-4022-ab3d-ee1692e4b35f"
      },
      "outputs": [
        {
          "data": {
            "text/html": [
              "<div>\n",
              "<style scoped>\n",
              "    .dataframe tbody tr th:only-of-type {\n",
              "        vertical-align: middle;\n",
              "    }\n",
              "\n",
              "    .dataframe tbody tr th {\n",
              "        vertical-align: top;\n",
              "    }\n",
              "\n",
              "    .dataframe thead th {\n",
              "        text-align: right;\n",
              "    }\n",
              "</style>\n",
              "<table border=\"1\" class=\"dataframe\">\n",
              "  <thead>\n",
              "    <tr style=\"text-align: right;\">\n",
              "      <th></th>\n",
              "      <th>Nombre</th>\n",
              "      <th>Apellido</th>\n",
              "      <th>Estado</th>\n",
              "      <th>Genero</th>\n",
              "      <th>Edad</th>\n",
              "      <th>Peso</th>\n",
              "      <th>Horas de sueño</th>\n",
              "    </tr>\n",
              "  </thead>\n",
              "  <tbody>\n",
              "    <tr>\n",
              "      <th>0</th>\n",
              "      <td>Juan</td>\n",
              "      <td>Perez</td>\n",
              "      <td>Veracruz</td>\n",
              "      <td>M</td>\n",
              "      <td>45.0</td>\n",
              "      <td>70.0</td>\n",
              "      <td>8.0</td>\n",
              "    </tr>\n",
              "    <tr>\n",
              "      <th>1</th>\n",
              "      <td>María</td>\n",
              "      <td>Gómez</td>\n",
              "      <td>Puebla</td>\n",
              "      <td>F</td>\n",
              "      <td>40.0</td>\n",
              "      <td>60.0</td>\n",
              "      <td>7.0</td>\n",
              "    </tr>\n",
              "    <tr>\n",
              "      <th>3</th>\n",
              "      <td>Alfredo</td>\n",
              "      <td>Hernández</td>\n",
              "      <td>México</td>\n",
              "      <td>M</td>\n",
              "      <td>30.0</td>\n",
              "      <td>NaN</td>\n",
              "      <td>NaN</td>\n",
              "    </tr>\n",
              "    <tr>\n",
              "      <th>4</th>\n",
              "      <td>Luis</td>\n",
              "      <td>hernandez</td>\n",
              "      <td>México</td>\n",
              "      <td>M</td>\n",
              "      <td>60.0</td>\n",
              "      <td>85.0</td>\n",
              "      <td>9.0</td>\n",
              "    </tr>\n",
              "    <tr>\n",
              "      <th>5</th>\n",
              "      <td>Gabriela</td>\n",
              "      <td>perez</td>\n",
              "      <td>Hidalgo</td>\n",
              "      <td>F</td>\n",
              "      <td>55.0</td>\n",
              "      <td>65.0</td>\n",
              "      <td>NaN</td>\n",
              "    </tr>\n",
              "  </tbody>\n",
              "</table>\n",
              "</div>"
            ],
            "text/plain": [
              "     Nombre   Apellido    Estado Genero  Edad  Peso  Horas de sueño\n",
              "0      Juan      Perez  Veracruz      M  45.0  70.0             8.0\n",
              "1     María      Gómez    Puebla      F  40.0  60.0             7.0\n",
              "3   Alfredo  Hernández    México      M  30.0   NaN             NaN\n",
              "4      Luis  hernandez    México      M  60.0  85.0             9.0\n",
              "5  Gabriela      perez   Hidalgo      F  55.0  65.0             NaN"
            ]
          },
          "execution_count": 59,
          "metadata": {},
          "output_type": "execute_result"
        }
      ],
      "source": [
        "df_notnull = df[df.Edad.notnull()]\n",
        "df_notnull.head()"
      ]
    },
    {
      "cell_type": "code",
      "execution_count": null,
      "id": "32026246",
      "metadata": {
        "id": "32026246",
        "outputId": "fe6925fc-69be-4617-ac86-ee42dde022ba"
      },
      "outputs": [
        {
          "data": {
            "text/html": [
              "<div>\n",
              "<style scoped>\n",
              "    .dataframe tbody tr th:only-of-type {\n",
              "        vertical-align: middle;\n",
              "    }\n",
              "\n",
              "    .dataframe tbody tr th {\n",
              "        vertical-align: top;\n",
              "    }\n",
              "\n",
              "    .dataframe thead th {\n",
              "        text-align: right;\n",
              "    }\n",
              "</style>\n",
              "<table border=\"1\" class=\"dataframe\">\n",
              "  <thead>\n",
              "    <tr style=\"text-align: right;\">\n",
              "      <th></th>\n",
              "      <th>Nombre</th>\n",
              "      <th>Apellido</th>\n",
              "      <th>Estado</th>\n",
              "      <th>Genero</th>\n",
              "      <th>Edad</th>\n",
              "      <th>Peso</th>\n",
              "      <th>Horas de sueño</th>\n",
              "    </tr>\n",
              "  </thead>\n",
              "  <tbody>\n",
              "    <tr>\n",
              "      <th>0</th>\n",
              "      <td>Juan</td>\n",
              "      <td>Perez</td>\n",
              "      <td>Veracruz</td>\n",
              "      <td>M</td>\n",
              "      <td>45.0</td>\n",
              "      <td>70.0</td>\n",
              "      <td>8.0</td>\n",
              "    </tr>\n",
              "    <tr>\n",
              "      <th>1</th>\n",
              "      <td>María</td>\n",
              "      <td>Gómez</td>\n",
              "      <td>Puebla</td>\n",
              "      <td>F</td>\n",
              "      <td>40.0</td>\n",
              "      <td>60.0</td>\n",
              "      <td>7.0</td>\n",
              "    </tr>\n",
              "  </tbody>\n",
              "</table>\n",
              "</div>"
            ],
            "text/plain": [
              "  Nombre Apellido    Estado Genero  Edad  Peso  Horas de sueño\n",
              "0   Juan    Perez  Veracruz      M  45.0  70.0             8.0\n",
              "1  María    Gómez    Puebla      F  40.0  60.0             7.0"
            ]
          },
          "execution_count": 60,
          "metadata": {},
          "output_type": "execute_result"
        }
      ],
      "source": [
        "# Filtrar por condicion\n",
        "df_filtered = df[df.Edad.isin([40, 45])]\n",
        "df_filtered\n"
      ]
    },
    {
      "cell_type": "code",
      "execution_count": null,
      "id": "279f35aa",
      "metadata": {
        "id": "279f35aa",
        "outputId": "90f2aef6-4e7d-4608-c736-80fba8b22ac3"
      },
      "outputs": [
        {
          "data": {
            "text/html": [
              "<div>\n",
              "<style scoped>\n",
              "    .dataframe tbody tr th:only-of-type {\n",
              "        vertical-align: middle;\n",
              "    }\n",
              "\n",
              "    .dataframe tbody tr th {\n",
              "        vertical-align: top;\n",
              "    }\n",
              "\n",
              "    .dataframe thead th {\n",
              "        text-align: right;\n",
              "    }\n",
              "</style>\n",
              "<table border=\"1\" class=\"dataframe\">\n",
              "  <thead>\n",
              "    <tr style=\"text-align: right;\">\n",
              "      <th></th>\n",
              "      <th>Nombre</th>\n",
              "      <th>Apellido</th>\n",
              "      <th>Estado</th>\n",
              "      <th>Genero</th>\n",
              "      <th>Edad</th>\n",
              "      <th>Peso</th>\n",
              "      <th>Horas de sueño</th>\n",
              "    </tr>\n",
              "  </thead>\n",
              "  <tbody>\n",
              "    <tr>\n",
              "      <th>2</th>\n",
              "      <td>Jimena</td>\n",
              "      <td>Rodríguez</td>\n",
              "      <td>Veracruz</td>\n",
              "      <td>F</td>\n",
              "      <td>NaN</td>\n",
              "      <td>55.0</td>\n",
              "      <td>6.0</td>\n",
              "    </tr>\n",
              "    <tr>\n",
              "      <th>3</th>\n",
              "      <td>Alfredo</td>\n",
              "      <td>Hernández</td>\n",
              "      <td>México</td>\n",
              "      <td>M</td>\n",
              "      <td>30.0</td>\n",
              "      <td>NaN</td>\n",
              "      <td>NaN</td>\n",
              "    </tr>\n",
              "    <tr>\n",
              "      <th>4</th>\n",
              "      <td>Luis</td>\n",
              "      <td>hernandez</td>\n",
              "      <td>México</td>\n",
              "      <td>M</td>\n",
              "      <td>60.0</td>\n",
              "      <td>85.0</td>\n",
              "      <td>9.0</td>\n",
              "    </tr>\n",
              "    <tr>\n",
              "      <th>5</th>\n",
              "      <td>Gabriela</td>\n",
              "      <td>perez</td>\n",
              "      <td>Hidalgo</td>\n",
              "      <td>F</td>\n",
              "      <td>55.0</td>\n",
              "      <td>65.0</td>\n",
              "      <td>NaN</td>\n",
              "    </tr>\n",
              "    <tr>\n",
              "      <th>6</th>\n",
              "      <td>Enrique</td>\n",
              "      <td>García</td>\n",
              "      <td>Veracruz</td>\n",
              "      <td>M</td>\n",
              "      <td>50.0</td>\n",
              "      <td>73.0</td>\n",
              "      <td>5.0</td>\n",
              "    </tr>\n",
              "    <tr>\n",
              "      <th>7</th>\n",
              "      <td>Laura</td>\n",
              "      <td>Zamora</td>\n",
              "      <td>Puebla</td>\n",
              "      <td>F</td>\n",
              "      <td>33.0</td>\n",
              "      <td>70.0</td>\n",
              "      <td>8.0</td>\n",
              "    </tr>\n",
              "  </tbody>\n",
              "</table>\n",
              "</div>"
            ],
            "text/plain": [
              "     Nombre   Apellido    Estado Genero  Edad  Peso  Horas de sueño\n",
              "2    Jimena  Rodríguez  Veracruz      F   NaN  55.0             6.0\n",
              "3   Alfredo  Hernández    México      M  30.0   NaN             NaN\n",
              "4      Luis  hernandez    México      M  60.0  85.0             9.0\n",
              "5  Gabriela      perez   Hidalgo      F  55.0  65.0             NaN\n",
              "6   Enrique     García  Veracruz      M  50.0  73.0             5.0\n",
              "7     Laura     Zamora    Puebla      F  33.0  70.0             8.0"
            ]
          },
          "execution_count": 61,
          "metadata": {},
          "output_type": "execute_result"
        }
      ],
      "source": [
        "df_filtered = df[~df.Edad.isin([40, 45])]\n",
        "df_filtered\n",
        ""
      ]
    },
    {
      "cell_type": "code",
      "execution_count": null,
      "id": "ca493ed8",
      "metadata": {
        "id": "ca493ed8",
        "outputId": "4ccacfcb-edea-4dce-fd47-941bce5b947e"
      },
      "outputs": [
        {
          "data": {
            "text/html": [
              "<div>\n",
              "<style scoped>\n",
              "    .dataframe tbody tr th:only-of-type {\n",
              "        vertical-align: middle;\n",
              "    }\n",
              "\n",
              "    .dataframe tbody tr th {\n",
              "        vertical-align: top;\n",
              "    }\n",
              "\n",
              "    .dataframe thead th {\n",
              "        text-align: right;\n",
              "    }\n",
              "</style>\n",
              "<table border=\"1\" class=\"dataframe\">\n",
              "  <thead>\n",
              "    <tr style=\"text-align: right;\">\n",
              "      <th></th>\n",
              "      <th>Nombre</th>\n",
              "      <th>Apellido</th>\n",
              "      <th>Estado</th>\n",
              "      <th>Genero</th>\n",
              "      <th>Edad</th>\n",
              "      <th>Peso</th>\n",
              "      <th>Horas de sueño</th>\n",
              "    </tr>\n",
              "  </thead>\n",
              "  <tbody>\n",
              "    <tr>\n",
              "      <th>0</th>\n",
              "      <td>Juan</td>\n",
              "      <td>Perez</td>\n",
              "      <td>Veracruz</td>\n",
              "      <td>M</td>\n",
              "      <td>45.0</td>\n",
              "      <td>70.0</td>\n",
              "      <td>8.0</td>\n",
              "    </tr>\n",
              "    <tr>\n",
              "      <th>1</th>\n",
              "      <td>María</td>\n",
              "      <td>Gómez</td>\n",
              "      <td>Puebla</td>\n",
              "      <td>F</td>\n",
              "      <td>40.0</td>\n",
              "      <td>60.0</td>\n",
              "      <td>7.0</td>\n",
              "    </tr>\n",
              "  </tbody>\n",
              "</table>\n",
              "</div>"
            ],
            "text/plain": [
              "  Nombre Apellido    Estado Genero  Edad  Peso  Horas de sueño\n",
              "0   Juan    Perez  Veracruz      M  45.0  70.0             8.0\n",
              "1  María    Gómez    Puebla      F  40.0  60.0             7.0"
            ]
          },
          "execution_count": 62,
          "metadata": {},
          "output_type": "execute_result"
        }
      ],
      "source": [
        "### union de varias condiciones\n",
        "df_combined = df[df.Edad.isin([40, 45]) & df.Edad.notnull()]\n",
        "df_combined"
      ]
    },
    {
      "cell_type": "markdown",
      "id": "6a573e9f",
      "metadata": {
        "id": "6a573e9f"
      },
      "source": [
        "## Selección de variables\n",
        "\n",
        "- ¿Qué variables no aportan información?\n",
        "\n",
        "- ¿Hay variables muy correlacionadas?, ¿Se pueden reducir variables?\n",
        "\n"
      ]
    },
    {
      "cell_type": "code",
      "execution_count": null,
      "id": "59dc128a",
      "metadata": {
        "id": "59dc128a",
        "outputId": "7a25a69d-131b-4ec8-db2b-2afa33b2093d"
      },
      "outputs": [
        {
          "data": {
            "text/html": [
              "<div>\n",
              "<style scoped>\n",
              "    .dataframe tbody tr th:only-of-type {\n",
              "        vertical-align: middle;\n",
              "    }\n",
              "\n",
              "    .dataframe tbody tr th {\n",
              "        vertical-align: top;\n",
              "    }\n",
              "\n",
              "    .dataframe thead th {\n",
              "        text-align: right;\n",
              "    }\n",
              "</style>\n",
              "<table border=\"1\" class=\"dataframe\">\n",
              "  <thead>\n",
              "    <tr style=\"text-align: right;\">\n",
              "      <th></th>\n",
              "      <th>Nombre</th>\n",
              "      <th>Apellido</th>\n",
              "      <th>Estado</th>\n",
              "      <th>Genero</th>\n",
              "      <th>Edad</th>\n",
              "      <th>Peso</th>\n",
              "      <th>Horas de sueño</th>\n",
              "    </tr>\n",
              "  </thead>\n",
              "  <tbody>\n",
              "    <tr>\n",
              "      <th>0</th>\n",
              "      <td>Juan</td>\n",
              "      <td>Perez</td>\n",
              "      <td>Veracruz</td>\n",
              "      <td>M</td>\n",
              "      <td>45</td>\n",
              "      <td>70</td>\n",
              "      <td>8</td>\n",
              "    </tr>\n",
              "    <tr>\n",
              "      <th>1</th>\n",
              "      <td>María</td>\n",
              "      <td>Gómez</td>\n",
              "      <td>Puebla</td>\n",
              "      <td>F</td>\n",
              "      <td>40</td>\n",
              "      <td>60</td>\n",
              "      <td>7</td>\n",
              "    </tr>\n",
              "    <tr>\n",
              "      <th>2</th>\n",
              "      <td>Jimena</td>\n",
              "      <td>Rodríguez</td>\n",
              "      <td>Veracruz</td>\n",
              "      <td>F</td>\n",
              "      <td>44</td>\n",
              "      <td>55</td>\n",
              "      <td>6</td>\n",
              "    </tr>\n",
              "    <tr>\n",
              "      <th>3</th>\n",
              "      <td>Alfredo</td>\n",
              "      <td>Hernández</td>\n",
              "      <td>México</td>\n",
              "      <td>M</td>\n",
              "      <td>30</td>\n",
              "      <td>50</td>\n",
              "      <td>7</td>\n",
              "    </tr>\n",
              "    <tr>\n",
              "      <th>4</th>\n",
              "      <td>Luis</td>\n",
              "      <td>hernandez</td>\n",
              "      <td>México</td>\n",
              "      <td>M</td>\n",
              "      <td>60</td>\n",
              "      <td>85</td>\n",
              "      <td>9</td>\n",
              "    </tr>\n",
              "    <tr>\n",
              "      <th>5</th>\n",
              "      <td>Gabriela</td>\n",
              "      <td>perez</td>\n",
              "      <td>Hidalgo</td>\n",
              "      <td>F</td>\n",
              "      <td>55</td>\n",
              "      <td>65</td>\n",
              "      <td>8</td>\n",
              "    </tr>\n",
              "    <tr>\n",
              "      <th>6</th>\n",
              "      <td>Enrique</td>\n",
              "      <td>García</td>\n",
              "      <td>Veracruz</td>\n",
              "      <td>M</td>\n",
              "      <td>50</td>\n",
              "      <td>73</td>\n",
              "      <td>5</td>\n",
              "    </tr>\n",
              "    <tr>\n",
              "      <th>7</th>\n",
              "      <td>Laura</td>\n",
              "      <td>Zamora</td>\n",
              "      <td>Puebla</td>\n",
              "      <td>F</td>\n",
              "      <td>33</td>\n",
              "      <td>70</td>\n",
              "      <td>8</td>\n",
              "    </tr>\n",
              "  </tbody>\n",
              "</table>\n",
              "</div>"
            ],
            "text/plain": [
              "     Nombre   Apellido    Estado Genero  Edad  Peso  Horas de sueño\n",
              "0      Juan      Perez  Veracruz      M    45    70               8\n",
              "1     María      Gómez    Puebla      F    40    60               7\n",
              "2    Jimena  Rodríguez  Veracruz      F    44    55               6\n",
              "3   Alfredo  Hernández    México      M    30    50               7\n",
              "4      Luis  hernandez    México      M    60    85               9\n",
              "5  Gabriela      perez   Hidalgo      F    55    65               8\n",
              "6   Enrique     García  Veracruz      M    50    73               5\n",
              "7     Laura     Zamora    Puebla      F    33    70               8"
            ]
          },
          "execution_count": 63,
          "metadata": {},
          "output_type": "execute_result"
        }
      ],
      "source": [
        "df = pd.read_csv('https://raw.githubusercontent.com/igomezv/DataScienceIntermedio/main/datasets/prueba2.csv')\n",
        "df"
      ]
    },
    {
      "cell_type": "markdown",
      "id": "61bbdc83",
      "metadata": {
        "id": "61bbdc83"
      },
      "source": [
        "\n",
        "#### Explorar visualmente"
      ]
    },
    {
      "cell_type": "code",
      "execution_count": null,
      "id": "d4e092b4",
      "metadata": {
        "id": "d4e092b4"
      },
      "outputs": [],
      "source": [
        "import seaborn as sns"
      ]
    },
    {
      "cell_type": "code",
      "execution_count": null,
      "id": "e3d8e0dc",
      "metadata": {
        "id": "e3d8e0dc",
        "outputId": "578acf3f-53f0-4e2a-d42d-8954facb4d70"
      },
      "outputs": [
        {
          "data": {
            "text/plain": [
              "<seaborn.axisgrid.PairGrid at 0x7faf5e7f60b0>"
            ]
          },
          "execution_count": 65,
          "metadata": {},
          "output_type": "execute_result"
        },
        {
          "data": {
            "image/png": "[encoded data removed]",
            "text/plain": [
              "<Figure size 750x750 with 12 Axes>"
            ]
          },
          "metadata": {},
          "output_type": "display_data"
        }
      ],
      "source": [
        "sns.pairplot(df, diag_kind=\"kde\")"
      ]
    },
    {
      "cell_type": "code",
      "execution_count": null,
      "id": "8175c75a",
      "metadata": {
        "id": "8175c75a",
        "outputId": "ba261a3d-36d2-4060-afcc-c2d0ba31a9d5"
      },
      "outputs": [
        {
          "data": {
            "text/plain": [
              "(150, 4)"
            ]
          },
          "execution_count": 66,
          "metadata": {},
          "output_type": "execute_result"
        }
      ],
      "source": [
        "from sklearn.datasets import load_iris\n",
        "from sklearn.feature_selection import SelectKBest\n",
        "from sklearn.feature_selection import chi2\n",
        "X, y = load_iris(return_X_y=True)\n",
        "X.shape"
      ]
    },
    {
      "cell_type": "code",
      "execution_count": null,
      "id": "87c37598",
      "metadata": {
        "scrolled": true,
        "id": "87c37598",
        "outputId": "21f6456a-9ba5-4279-a664-e209093f5889"
      },
      "outputs": [
        {
          "data": {
            "text/plain": [
              "<seaborn.axisgrid.PairGrid at 0x7fafa444f130>"
            ]
          },
          "execution_count": 67,
          "metadata": {},
          "output_type": "execute_result"
        },
        {
          "data": {
            "image/png": "[encoded data removed]",
            "text/plain": [
              "<Figure size 1000x1000 with 20 Axes>"
            ]
          },
          "metadata": {},
          "output_type": "display_data"
        }
      ],
      "source": [
        "sns.pairplot(pd.DataFrame(X))"
      ]
    },
    {
      "cell_type": "markdown",
      "id": "f2fa148c",
      "metadata": {
        "id": "f2fa148c"
      },
      "source": [
        "#### Calcular correlaciones"
      ]
    },
    {
      "cell_type": "markdown",
      "id": "b6bb14d2",
      "metadata": {
        "id": "b6bb14d2"
      },
      "source": [
        "Ver https://www.statology.org/correlation-in-python/"
      ]
    },
    {
      "cell_type": "code",
      "execution_count": null,
      "id": "455c9eaf",
      "metadata": {
        "id": "455c9eaf",
        "outputId": "9bfd389d-ae7c-4502-dcb2-798d2df56856"
      },
      "outputs": [
        {
          "data": {
            "text/plain": [
              "array([[1.        , 0.68047624],\n",
              "       [0.68047624, 1.        ]])"
            ]
          },
          "execution_count": 68,
          "metadata": {},
          "output_type": "execute_result"
        }
      ],
      "source": [
        "np.corrcoef(df['Edad'], df['Peso'])"
      ]
    },
    {
      "cell_type": "code",
      "execution_count": null,
      "id": "9e070630",
      "metadata": {
        "id": "9e070630",
        "outputId": "ac82740b-5d82-4100-c0d8-edef135cace4"
      },
      "outputs": [
        {
          "name": "stderr",
          "output_type": "stream",
          "text": [
            "/tmp/ipykernel_11002/2936627198.py:2: FutureWarning: The default value of numeric_only in DataFrame.corr is deprecated. In a future version, it will default to False. Select only valid columns or specify the value of numeric_only to silence this warning.\n",
            "  df.corr()\n"
          ]
        },
        {
          "data": {
            "text/html": [
              "<div>\n",
              "<style scoped>\n",
              "    .dataframe tbody tr th:only-of-type {\n",
              "        vertical-align: middle;\n",
              "    }\n",
              "\n",
              "    .dataframe tbody tr th {\n",
              "        vertical-align: top;\n",
              "    }\n",
              "\n",
              "    .dataframe thead th {\n",
              "        text-align: right;\n",
              "    }\n",
              "</style>\n",
              "<table border=\"1\" class=\"dataframe\">\n",
              "  <thead>\n",
              "    <tr style=\"text-align: right;\">\n",
              "      <th></th>\n",
              "      <th>Edad</th>\n",
              "      <th>Peso</th>\n",
              "      <th>Horas de sueño</th>\n",
              "    </tr>\n",
              "  </thead>\n",
              "  <tbody>\n",
              "    <tr>\n",
              "      <th>Edad</th>\n",
              "      <td>1.000000</td>\n",
              "      <td>0.680476</td>\n",
              "      <td>0.213535</td>\n",
              "    </tr>\n",
              "    <tr>\n",
              "      <th>Peso</th>\n",
              "      <td>0.680476</td>\n",
              "      <td>1.000000</td>\n",
              "      <td>0.423315</td>\n",
              "    </tr>\n",
              "    <tr>\n",
              "      <th>Horas de sueño</th>\n",
              "      <td>0.213535</td>\n",
              "      <td>0.423315</td>\n",
              "      <td>1.000000</td>\n",
              "    </tr>\n",
              "  </tbody>\n",
              "</table>\n",
              "</div>"
            ],
            "text/plain": [
              "                    Edad      Peso  Horas de sueño\n",
              "Edad            1.000000  0.680476        0.213535\n",
              "Peso            0.680476  1.000000        0.423315\n",
              "Horas de sueño  0.213535  0.423315        1.000000"
            ]
          },
          "execution_count": 69,
          "metadata": {},
          "output_type": "execute_result"
        }
      ],
      "source": [
        "# con pandas df\n",
        "df.corr()"
      ]
    },
    {
      "cell_type": "markdown",
      "id": "118e09e0",
      "metadata": {
        "id": "118e09e0"
      },
      "source": [
        "Analizar qué variables se usaron para calcular las correlaciones"
      ]
    },
    {
      "cell_type": "code",
      "execution_count": null,
      "id": "039bbf4a",
      "metadata": {
        "id": "039bbf4a",
        "outputId": "22a72e6c-a327-4c05-d57a-2b2f9544f43d"
      },
      "outputs": [
        {
          "data": {
            "text/plain": [
              "0.6804762399210915"
            ]
          },
          "execution_count": 70,
          "metadata": {},
          "output_type": "execute_result"
        }
      ],
      "source": [
        "df['Edad'].corr(df['Peso']) # a pares"
      ]
    },
    {
      "cell_type": "code",
      "execution_count": null,
      "id": "4321fec5",
      "metadata": {
        "scrolled": true,
        "id": "4321fec5",
        "outputId": "47cc8f17-93bc-4dfa-e763-d05efd3e61bf"
      },
      "outputs": [
        {
          "data": {
            "text/html": [
              "<div>\n",
              "<style scoped>\n",
              "    .dataframe tbody tr th:only-of-type {\n",
              "        vertical-align: middle;\n",
              "    }\n",
              "\n",
              "    .dataframe tbody tr th {\n",
              "        vertical-align: top;\n",
              "    }\n",
              "\n",
              "    .dataframe thead th {\n",
              "        text-align: right;\n",
              "    }\n",
              "</style>\n",
              "<table border=\"1\" class=\"dataframe\">\n",
              "  <thead>\n",
              "    <tr style=\"text-align: right;\">\n",
              "      <th></th>\n",
              "      <th>0</th>\n",
              "      <th>1</th>\n",
              "      <th>2</th>\n",
              "      <th>3</th>\n",
              "    </tr>\n",
              "  </thead>\n",
              "  <tbody>\n",
              "    <tr>\n",
              "      <th>0</th>\n",
              "      <td>1.000000</td>\n",
              "      <td>-0.117570</td>\n",
              "      <td>0.871754</td>\n",
              "      <td>0.817941</td>\n",
              "    </tr>\n",
              "    <tr>\n",
              "      <th>1</th>\n",
              "      <td>-0.117570</td>\n",
              "      <td>1.000000</td>\n",
              "      <td>-0.428440</td>\n",
              "      <td>-0.366126</td>\n",
              "    </tr>\n",
              "    <tr>\n",
              "      <th>2</th>\n",
              "      <td>0.871754</td>\n",
              "      <td>-0.428440</td>\n",
              "      <td>1.000000</td>\n",
              "      <td>0.962865</td>\n",
              "    </tr>\n",
              "    <tr>\n",
              "      <th>3</th>\n",
              "      <td>0.817941</td>\n",
              "      <td>-0.366126</td>\n",
              "      <td>0.962865</td>\n",
              "      <td>1.000000</td>\n",
              "    </tr>\n",
              "  </tbody>\n",
              "</table>\n",
              "</div>"
            ],
            "text/plain": [
              "          0         1         2         3\n",
              "0  1.000000 -0.117570  0.871754  0.817941\n",
              "1 -0.117570  1.000000 -0.428440 -0.366126\n",
              "2  0.871754 -0.428440  1.000000  0.962865\n",
              "3  0.817941 -0.366126  0.962865  1.000000"
            ]
          },
          "execution_count": 71,
          "metadata": {},
          "output_type": "execute_result"
        }
      ],
      "source": [
        "df_iris = pd.DataFrame(X)\n",
        "df_iris.corr()"
      ]
    },
    {
      "cell_type": "markdown",
      "id": "5b342566",
      "metadata": {
        "id": "5b342566"
      },
      "source": [
        "### Categoricas\n",
        "\n",
        "Usando prueba Chi-cuadrada, donde la Hipotesis nula es:\n",
        "\n",
        "H0: Las variables no están correlacionadas una con la otra.\n",
        "\n",
        "Si el P-value es mayor que 0.05, entonces H0 se acepta. Lo cual significaría que las variables no están correlacionadas.Si el valor del P-value es muy cercano a 0, menor a 0.5, las variables sí estarían correlacionadas."
      ]
    },
    {
      "cell_type": "code",
      "execution_count": null,
      "id": "c9f19890",
      "metadata": {
        "id": "c9f19890",
        "outputId": "5305e3ba-6d4e-4e91-c0a7-1914cf4ca802"
      },
      "outputs": [
        {
          "name": "stdout",
          "output_type": "stream",
          "text": [
            "Estado  Hidalgo  México  Puebla  Veracruz\n",
            "Genero                                   \n",
            "F             1       0       2         1\n",
            "M             0       2       0         2\n",
            "The P-Value of the ChiSq Test is: 0.14895400671141978\n"
          ]
        }
      ],
      "source": [
        "# Fuente: https://thinkingneuron.com/how-to-measure-the-correlation-between-two-categorical-variables-in-python/\n",
        "\n",
        "CrosstabResult=pd.crosstab(index=df['Genero'],columns=df['Estado'])\n",
        "\n",
        "print(CrosstabResult)\n",
        "\n",
        "# importing the required function\n",
        "from scipy.stats import chi2_contingency\n",
        "\n",
        "# Performing Chi-sq test\n",
        "ChiSqResult = chi2_contingency(CrosstabResult)\n",
        "\n",
        "# P-Value is the Probability of H0 being True\n",
        "# If P-Value&gt;0.05 then only we Accept the assumption(H0)\n",
        "\n",
        "print('The P-Value of the ChiSq Test is:', ChiSqResult[1])"
      ]
    },
    {
      "cell_type": "markdown",
      "id": "545f1401",
      "metadata": {
        "id": "545f1401"
      },
      "source": [
        "Ver más en: https://scikit-learn.org/stable/modules/feature_selection.html\n",
        "\n",
        "#### Escalamiento y estandarización"
      ]
    },
    {
      "cell_type": "code",
      "execution_count": null,
      "id": "1114c365",
      "metadata": {
        "id": "1114c365",
        "outputId": "6507d78f-42be-4df9-f409-ee5dcdc58032"
      },
      "outputs": [
        {
          "data": {
            "text/html": [
              "<style>#sk-container-id-2 {color: black;background-color: white;}#sk-container-id-2 pre{padding: 0;}#sk-container-id-2 div.sk-toggleable {background-color: white;}#sk-container-id-2 label.sk-toggleable__label {cursor: pointer;display: block;width: 100%;margin-bottom: 0;padding: 0.3em;box-sizing: border-box;text-align: center;}#sk-container-id-2 label.sk-toggleable__label-arrow:before {content: \"▸\";float: left;margin-right: 0.25em;color: #696969;}#sk-container-id-2 label.sk-toggleable__label-arrow:hover:before {color: black;}#sk-container-id-2 div.sk-estimator:hover label.sk-toggleable__label-arrow:before {color: black;}#sk-container-id-2 div.sk-toggleable__content {max-height: 0;max-width: 0;overflow: hidden;text-align: left;background-color: #f0f8ff;}#sk-container-id-2 div.sk-toggleable__content pre {margin: 0.2em;color: black;border-radius: 0.25em;background-color: #f0f8ff;}#sk-container-id-2 input.sk-toggleable__control:checked~div.sk-toggleable__content {max-height: 200px;max-width: 100%;overflow: auto;}#sk-container-id-2 input.sk-toggleable__control:checked~label.sk-toggleable__label-arrow:before {content: \"▾\";}#sk-container-id-2 div.sk-estimator input.sk-toggleable__control:checked~label.sk-toggleable__label {background-color: #d4ebff;}#sk-container-id-2 div.sk-label input.sk-toggleable__control:checked~label.sk-toggleable__label {background-color: #d4ebff;}#sk-container-id-2 input.sk-hidden--visually {border: 0;clip: rect(1px 1px 1px 1px);clip: rect(1px, 1px, 1px, 1px);height: 1px;margin: -1px;overflow: hidden;padding: 0;position: absolute;width: 1px;}#sk-container-id-2 div.sk-estimator {font-family: monospace;background-color: #f0f8ff;border: 1px dotted black;border-radius: 0.25em;box-sizing: border-box;margin-bottom: 0.5em;}#sk-container-id-2 div.sk-estimator:hover {background-color: #d4ebff;}#sk-container-id-2 div.sk-parallel-item::after {content: \"\";width: 100%;border-bottom: 1px solid gray;flex-grow: 1;}#sk-container-id-2 div.sk-label:hover label.sk-toggleable__label {background-color: #d4ebff;}#sk-container-id-2 div.sk-serial::before {content: \"\";position: absolute;border-left: 1px solid gray;box-sizing: border-box;top: 0;bottom: 0;left: 50%;z-index: 0;}#sk-container-id-2 div.sk-serial {display: flex;flex-direction: column;align-items: center;background-color: white;padding-right: 0.2em;padding-left: 0.2em;position: relative;}#sk-container-id-2 div.sk-item {position: relative;z-index: 1;}#sk-container-id-2 div.sk-parallel {display: flex;align-items: stretch;justify-content: center;background-color: white;position: relative;}#sk-container-id-2 div.sk-item::before, #sk-container-id-2 div.sk-parallel-item::before {content: \"\";position: absolute;border-left: 1px solid gray;box-sizing: border-box;top: 0;bottom: 0;left: 50%;z-index: -1;}#sk-container-id-2 div.sk-parallel-item {display: flex;flex-direction: column;z-index: 1;position: relative;background-color: white;}#sk-container-id-2 div.sk-parallel-item:first-child::after {align-self: flex-end;width: 50%;}#sk-container-id-2 div.sk-parallel-item:last-child::after {align-self: flex-start;width: 50%;}#sk-container-id-2 div.sk-parallel-item:only-child::after {width: 0;}#sk-container-id-2 div.sk-dashed-wrapped {border: 1px dashed gray;margin: 0 0.4em 0.5em 0.4em;box-sizing: border-box;padding-bottom: 0.4em;background-color: white;}#sk-container-id-2 div.sk-label label {font-family: monospace;font-weight: bold;display: inline-block;line-height: 1.2em;}#sk-container-id-2 div.sk-label-container {text-align: center;}#sk-container-id-2 div.sk-container {/* jupyter's `normalize.less` sets `[hidden] { display: none; }` but bootstrap.min.css set `[hidden] { display: none !important; }` so we also need the `!important` here to be able to override the default hidden behavior on the sphinx rendered scikit-learn.org. See: https://github.com/scikit-learn/scikit-learn/issues/21755 */display: inline-block !important;position: relative;}#sk-container-id-2 div.sk-text-repr-fallback {display: none;}</style><div id=\"sk-container-id-2\" class=\"sk-top-container\"><div class=\"sk-text-repr-fallback\"><pre>MinMaxScaler()</pre><b>In a Jupyter environment, please rerun this cell to show the HTML representation or trust the notebook. <br />On GitHub, the HTML representation is unable to render, please try loading this page with nbviewer.org.</b></div><div class=\"sk-container\" hidden><div class=\"sk-item\"><div class=\"sk-estimator sk-toggleable\"><input class=\"sk-toggleable__control sk-hidden--visually\" id=\"sk-estimator-id-2\" type=\"checkbox\" checked><label for=\"sk-estimator-id-2\" class=\"sk-toggleable__label sk-toggleable__label-arrow\">MinMaxScaler</label><div class=\"sk-toggleable__content\"><pre>MinMaxScaler()</pre></div></div></div></div></div>"
            ],
            "text/plain": [
              "MinMaxScaler()"
            ]
          },
          "execution_count": 73,
          "metadata": {},
          "output_type": "execute_result"
        }
      ],
      "source": [
        "from sklearn.preprocessing import MinMaxScaler\n",
        "# https://scikit-learn.org/stable/modules/generated/sklearn.preprocessing.MinMaxScaler.html\n",
        "data = [[-1, 2], [-0.5, 6], [0, 10], [1, 18]]\n",
        "scaler = MinMaxScaler()\n",
        "scaler.fit(data)"
      ]
    },
    {
      "cell_type": "code",
      "execution_count": null,
      "id": "c91646a7",
      "metadata": {
        "id": "c91646a7",
        "outputId": "abed9556-3577-4295-dc22-61a0c330637a"
      },
      "outputs": [
        {
          "name": "stdout",
          "output_type": "stream",
          "text": [
            "[ 1. 18.]\n"
          ]
        }
      ],
      "source": [
        "print(scaler.data_max_)"
      ]
    },
    {
      "cell_type": "code",
      "execution_count": null,
      "id": "866384cb",
      "metadata": {
        "id": "866384cb",
        "outputId": "1e85e543-4cb8-4edb-8a37-edd5caeb316a"
      },
      "outputs": [
        {
          "name": "stdout",
          "output_type": "stream",
          "text": [
            "[[0.   0.  ]\n",
            " [0.25 0.25]\n",
            " [0.5  0.5 ]\n",
            " [1.   1.  ]]\n"
          ]
        }
      ],
      "source": [
        "print(scaler.transform(data))"
      ]
    },
    {
      "cell_type": "code",
      "execution_count": null,
      "id": "7b3dc9e7",
      "metadata": {
        "id": "7b3dc9e7",
        "outputId": "ccb93bd7-3b8d-4348-ee60-287150785297"
      },
      "outputs": [
        {
          "data": {
            "text/plain": [
              "array([[1.5, 0. ]])"
            ]
          },
          "execution_count": 76,
          "metadata": {},
          "output_type": "execute_result"
        }
      ],
      "source": [
        "scaler.transform([[2, 2]])"
      ]
    },
    {
      "cell_type": "code",
      "execution_count": null,
      "id": "df54f329",
      "metadata": {
        "id": "df54f329",
        "outputId": "a047ce7a-8c92-4534-8164-28ec56a677c6"
      },
      "outputs": [
        {
          "data": {
            "text/html": [
              "<style>#sk-container-id-3 {color: black;background-color: white;}#sk-container-id-3 pre{padding: 0;}#sk-container-id-3 div.sk-toggleable {background-color: white;}#sk-container-id-3 label.sk-toggleable__label {cursor: pointer;display: block;width: 100%;margin-bottom: 0;padding: 0.3em;box-sizing: border-box;text-align: center;}#sk-container-id-3 label.sk-toggleable__label-arrow:before {content: \"▸\";float: left;margin-right: 0.25em;color: #696969;}#sk-container-id-3 label.sk-toggleable__label-arrow:hover:before {color: black;}#sk-container-id-3 div.sk-estimator:hover label.sk-toggleable__label-arrow:before {color: black;}#sk-container-id-3 div.sk-toggleable__content {max-height: 0;max-width: 0;overflow: hidden;text-align: left;background-color: #f0f8ff;}#sk-container-id-3 div.sk-toggleable__content pre {margin: 0.2em;color: black;border-radius: 0.25em;background-color: #f0f8ff;}#sk-container-id-3 input.sk-toggleable__control:checked~div.sk-toggleable__content {max-height: 200px;max-width: 100%;overflow: auto;}#sk-container-id-3 input.sk-toggleable__control:checked~label.sk-toggleable__label-arrow:before {content: \"▾\";}#sk-container-id-3 div.sk-estimator input.sk-toggleable__control:checked~label.sk-toggleable__label {background-color: #d4ebff;}#sk-container-id-3 div.sk-label input.sk-toggleable__control:checked~label.sk-toggleable__label {background-color: #d4ebff;}#sk-container-id-3 input.sk-hidden--visually {border: 0;clip: rect(1px 1px 1px 1px);clip: rect(1px, 1px, 1px, 1px);height: 1px;margin: -1px;overflow: hidden;padding: 0;position: absolute;width: 1px;}#sk-container-id-3 div.sk-estimator {font-family: monospace;background-color: #f0f8ff;border: 1px dotted black;border-radius: 0.25em;box-sizing: border-box;margin-bottom: 0.5em;}#sk-container-id-3 div.sk-estimator:hover {background-color: #d4ebff;}#sk-container-id-3 div.sk-parallel-item::after {content: \"\";width: 100%;border-bottom: 1px solid gray;flex-grow: 1;}#sk-container-id-3 div.sk-label:hover label.sk-toggleable__label {background-color: #d4ebff;}#sk-container-id-3 div.sk-serial::before {content: \"\";position: absolute;border-left: 1px solid gray;box-sizing: border-box;top: 0;bottom: 0;left: 50%;z-index: 0;}#sk-container-id-3 div.sk-serial {display: flex;flex-direction: column;align-items: center;background-color: white;padding-right: 0.2em;padding-left: 0.2em;position: relative;}#sk-container-id-3 div.sk-item {position: relative;z-index: 1;}#sk-container-id-3 div.sk-parallel {display: flex;align-items: stretch;justify-content: center;background-color: white;position: relative;}#sk-container-id-3 div.sk-item::before, #sk-container-id-3 div.sk-parallel-item::before {content: \"\";position: absolute;border-left: 1px solid gray;box-sizing: border-box;top: 0;bottom: 0;left: 50%;z-index: -1;}#sk-container-id-3 div.sk-parallel-item {display: flex;flex-direction: column;z-index: 1;position: relative;background-color: white;}#sk-container-id-3 div.sk-parallel-item:first-child::after {align-self: flex-end;width: 50%;}#sk-container-id-3 div.sk-parallel-item:last-child::after {align-self: flex-start;width: 50%;}#sk-container-id-3 div.sk-parallel-item:only-child::after {width: 0;}#sk-container-id-3 div.sk-dashed-wrapped {border: 1px dashed gray;margin: 0 0.4em 0.5em 0.4em;box-sizing: border-box;padding-bottom: 0.4em;background-color: white;}#sk-container-id-3 div.sk-label label {font-family: monospace;font-weight: bold;display: inline-block;line-height: 1.2em;}#sk-container-id-3 div.sk-label-container {text-align: center;}#sk-container-id-3 div.sk-container {/* jupyter's `normalize.less` sets `[hidden] { display: none; }` but bootstrap.min.css set `[hidden] { display: none !important; }` so we also need the `!important` here to be able to override the default hidden behavior on the sphinx rendered scikit-learn.org. See: https://github.com/scikit-learn/scikit-learn/issues/21755 */display: inline-block !important;position: relative;}#sk-container-id-3 div.sk-text-repr-fallback {display: none;}</style><div id=\"sk-container-id-3\" class=\"sk-top-container\"><div class=\"sk-text-repr-fallback\"><pre>StandardScaler()</pre><b>In a Jupyter environment, please rerun this cell to show the HTML representation or trust the notebook. <br />On GitHub, the HTML representation is unable to render, please try loading this page with nbviewer.org.</b></div><div class=\"sk-container\" hidden><div class=\"sk-item\"><div class=\"sk-estimator sk-toggleable\"><input class=\"sk-toggleable__control sk-hidden--visually\" id=\"sk-estimator-id-3\" type=\"checkbox\" checked><label for=\"sk-estimator-id-3\" class=\"sk-toggleable__label sk-toggleable__label-arrow\">StandardScaler</label><div class=\"sk-toggleable__content\"><pre>StandardScaler()</pre></div></div></div></div></div>"
            ],
            "text/plain": [
              "StandardScaler()"
            ]
          },
          "execution_count": 77,
          "metadata": {},
          "output_type": "execute_result"
        }
      ],
      "source": [
        "from sklearn.preprocessing import StandardScaler\n",
        "# standard scaler\n",
        "data = [[-1, 2], [-0.5, 6], [0, 10], [1, 18]]\n",
        "scaler2 = StandardScaler()\n",
        "scaler2.fit(data)"
      ]
    },
    {
      "cell_type": "code",
      "execution_count": null,
      "id": "991da7b7",
      "metadata": {
        "id": "991da7b7",
        "outputId": "cbc96ef0-81f0-41fa-e19a-ccc4771877c7"
      },
      "outputs": [
        {
          "name": "stdout",
          "output_type": "stream",
          "text": [
            "[-0.125  9.   ]\n"
          ]
        }
      ],
      "source": [
        "print(scaler2.mean_)"
      ]
    },
    {
      "cell_type": "code",
      "execution_count": null,
      "id": "90d70040",
      "metadata": {
        "id": "90d70040",
        "outputId": "c5b09da6-19fe-407c-c1d4-803fa3b05a8d"
      },
      "outputs": [
        {
          "name": "stdout",
          "output_type": "stream",
          "text": [
            "[[-1.18321596 -1.18321596]\n",
            " [-0.50709255 -0.50709255]\n",
            " [ 0.16903085  0.16903085]\n",
            " [ 1.52127766  1.52127766]]\n"
          ]
        }
      ],
      "source": [
        "print(scaler2.transform(data))"
      ]
    },
    {
      "cell_type": "code",
      "execution_count": null,
      "id": "63b2a3ed",
      "metadata": {
        "id": "63b2a3ed",
        "outputId": "4d7f4778-9ca2-4858-fa5e-39dba0c4f226"
      },
      "outputs": [
        {
          "data": {
            "text/plain": [
              "array([[ 2.87352447, -1.18321596]])"
            ]
          },
          "execution_count": 80,
          "metadata": {},
          "output_type": "execute_result"
        }
      ],
      "source": [
        "scaler2.transform([[2, 2]])"
      ]
    },
    {
      "cell_type": "markdown",
      "id": "16eb8b75",
      "metadata": {
        "id": "16eb8b75"
      },
      "source": [
        "## Práctica\n",
        "\n",
        "Leer el archivo iris_bad.data, quitar valores erroneos, hacer un anális exploratorio y contestar las siguientes preguntas:\n",
        "\n",
        "- ¿Hay alguna correlación fuerte entre las variables numéricas?\n",
        "- ¿Consideras necesario eliminar una variable?\n",
        "- ¿Consideras necesario estandarizar una variable?"
      ]
    },
    {
      "cell_type": "code",
      "execution_count": null,
      "id": "51c289e4",
      "metadata": {
        "id": "51c289e4",
        "outputId": "57ed5a1c-a94c-4b27-98ef-c1a15266cef4"
      },
      "outputs": [
        {
          "data": {
            "text/html": [
              "<div>\n",
              "<style scoped>\n",
              "    .dataframe tbody tr th:only-of-type {\n",
              "        vertical-align: middle;\n",
              "    }\n",
              "\n",
              "    .dataframe tbody tr th {\n",
              "        vertical-align: top;\n",
              "    }\n",
              "\n",
              "    .dataframe thead th {\n",
              "        text-align: right;\n",
              "    }\n",
              "</style>\n",
              "<table border=\"1\" class=\"dataframe\">\n",
              "  <thead>\n",
              "    <tr style=\"text-align: right;\">\n",
              "      <th></th>\n",
              "      <th>sepallength</th>\n",
              "      <th>sepalwidth</th>\n",
              "      <th>petallength</th>\n",
              "      <th>petalwidth</th>\n",
              "      <th>class</th>\n",
              "    </tr>\n",
              "  </thead>\n",
              "  <tbody>\n",
              "    <tr>\n",
              "      <th>0</th>\n",
              "      <td>5.1</td>\n",
              "      <td>3.5</td>\n",
              "      <td>1.4</td>\n",
              "      <td>0.2</td>\n",
              "      <td>Iris-setosa</td>\n",
              "    </tr>\n",
              "    <tr>\n",
              "      <th>1</th>\n",
              "      <td>4.9</td>\n",
              "      <td>3.0</td>\n",
              "      <td>1.4</td>\n",
              "      <td>0.2</td>\n",
              "      <td>Iris-setosa</td>\n",
              "    </tr>\n",
              "    <tr>\n",
              "      <th>2</th>\n",
              "      <td>4.7</td>\n",
              "      <td>3.2</td>\n",
              "      <td>1.3</td>\n",
              "      <td>0.2</td>\n",
              "      <td>Iris-setosa</td>\n",
              "    </tr>\n",
              "    <tr>\n",
              "      <th>3</th>\n",
              "      <td>4.6</td>\n",
              "      <td>3.1</td>\n",
              "      <td>na</td>\n",
              "      <td>0.2</td>\n",
              "      <td>Iris-setosa</td>\n",
              "    </tr>\n",
              "    <tr>\n",
              "      <th>4</th>\n",
              "      <td>5.0</td>\n",
              "      <td>3.6</td>\n",
              "      <td>1.4</td>\n",
              "      <td>0.2</td>\n",
              "      <td>Iris-setosa</td>\n",
              "    </tr>\n",
              "    <tr>\n",
              "      <th>5</th>\n",
              "      <td>5.4</td>\n",
              "      <td>3.9</td>\n",
              "      <td>1.7</td>\n",
              "      <td>0.4</td>\n",
              "      <td>Iris-setosa</td>\n",
              "    </tr>\n",
              "    <tr>\n",
              "      <th>6</th>\n",
              "      <td>4.6</td>\n",
              "      <td>3.4</td>\n",
              "      <td>1.4</td>\n",
              "      <td>0.3</td>\n",
              "      <td>Iris-setosa</td>\n",
              "    </tr>\n",
              "    <tr>\n",
              "      <th>7</th>\n",
              "      <td>5.0</td>\n",
              "      <td>3.4</td>\n",
              "      <td>1.5</td>\n",
              "      <td>0.2</td>\n",
              "      <td>Iris-setosa</td>\n",
              "    </tr>\n",
              "    <tr>\n",
              "      <th>8</th>\n",
              "      <td>4.4</td>\n",
              "      <td>2.9</td>\n",
              "      <td>1.4</td>\n",
              "      <td>0.2</td>\n",
              "      <td>Iris-setosa</td>\n",
              "    </tr>\n",
              "    <tr>\n",
              "      <th>9</th>\n",
              "      <td>4.9</td>\n",
              "      <td>3.1</td>\n",
              "      <td>1.5</td>\n",
              "      <td>0.1</td>\n",
              "      <td>Iris-setosa</td>\n",
              "    </tr>\n",
              "  </tbody>\n",
              "</table>\n",
              "</div>"
            ],
            "text/plain": [
              "  sepallength sepalwidth petallength petalwidth        class\n",
              "0         5.1        3.5         1.4        0.2  Iris-setosa\n",
              "1         4.9        3.0         1.4        0.2  Iris-setosa\n",
              "2         4.7        3.2         1.3        0.2  Iris-setosa\n",
              "3         4.6        3.1          na        0.2  Iris-setosa\n",
              "4         5.0        3.6         1.4        0.2  Iris-setosa\n",
              "5         5.4        3.9         1.7        0.4  Iris-setosa\n",
              "6         4.6        3.4         1.4        0.3  Iris-setosa\n",
              "7         5.0        3.4         1.5        0.2  Iris-setosa\n",
              "8         4.4        2.9         1.4        0.2  Iris-setosa\n",
              "9         4.9        3.1         1.5        0.1  Iris-setosa"
            ]
          },
          "execution_count": 81,
          "metadata": {},
          "output_type": "execute_result"
        }
      ],
      "source": [
        "df = pd.read_csv('https://raw.githubusercontent.com/igomezv/DataScienceIntermedio/main/datasets/iris/iris_bad.data')\n",
        "df.head(10)"
      ]
    },
    {
      "cell_type": "code",
      "execution_count": null,
      "id": "8bcc16d0",
      "metadata": {
        "id": "8bcc16d0"
      },
      "outputs": [],
      "source": []
    }
  ],
  "metadata": {
    "kernelspec": {
      "display_name": "Python 3 (ipykernel)",
      "language": "python",
      "name": "python3"
    },
    "language_info": {
      "codemirror_mode": {
        "name": "ipython",
        "version": 3
      },
      "file_extension": ".py",
      "mimetype": "text/x-python",
      "name": "python",
      "nbconvert_exporter": "python",
      "pygments_lexer": "ipython3",
      "version": "3.10.9"
    },
    "colab": {
      "provenance": [],
      "include_colab_link": true
    }
  },
  "nbformat": 4,
  "nbformat_minor": 5
}