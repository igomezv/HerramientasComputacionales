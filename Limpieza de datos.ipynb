{
 "cells": [
  {
   "cell_type": "markdown",
   "id": "1f49c5db",
   "metadata": {},
   "source": [
    "## Contenido\n",
    "1.1. Problema de calidad de los datos.\n",
    "\n",
    "1.2. Conversiones de datos.\n",
    "\n",
    "1.3. Filtrado de datos.\n",
    "\n",
    "1.4. Selección de variables.\n",
    "\n",
    "## Introducción\n",
    "\n",
    "![](https://raw.githubusercontent.com/igomezv/CienciaDatosIntermedio/main/img/ML_flow1.png)\n",
    "Fuente de la imagen: medium.com\n",
    "\n",
    "## ¿Qué es y por qué es importante el pre-procesamiento?\n",
    "\n",
    "![](https://raw.githubusercontent.com/igomezv/CienciaDatosIntermedio/main/img/kdd.png)\n",
    "Flujo de KDD (Knowledge Discovery in Databases).\n",
    "\n",
    "![](https://raw.githubusercontent.com/igomezv/CienciaDatosIntermedio/main/img/kdd2.png)\n",
    "Fuente: Han, J., & Kamber, M. (2006). \n",
    "\n",
    "![](https://raw.githubusercontent.com/igomezv/CienciaDatosIntermedio/main/img/preprocessing.png)\n",
    "Fuente de la imagen: Herrera, F. (2016). Big Data: Preprocesamiento y calidad de datos. novática, 237, 17.\n",
    "\n",
    "![](https://raw.githubusercontent.com/igomezv/CienciaDatosIntermedio/main/img/pastel.png)\n",
    "Fuente de la imagen: xeridia.com\n",
    "\n",
    "\n",
    "\n",
    "\n",
    "## ¿Qué problemas pueden tener los datos?\n",
    "\n",
    "- Datos nulos\n",
    "- Formatos del archivo, ¿cómo leerlos?\n",
    "- Tipo de datos incorrectos.\n",
    "\n",
    "-------\n",
    "\n",
    "# Problemas en los datos\n",
    "\n",
    "---------"
   ]
  },
  {
   "cell_type": "code",
   "execution_count": 1,
   "id": "af17be76",
   "metadata": {},
   "outputs": [],
   "source": [
    "import numpy as np"
   ]
  },
  {
   "cell_type": "code",
   "execution_count": 2,
   "id": "ab6273d8",
   "metadata": {},
   "outputs": [],
   "source": [
    "lista = [[1,2],[3,4],[5, \"na\"]]"
   ]
  },
  {
   "cell_type": "code",
   "execution_count": 3,
   "id": "92e2ecb2",
   "metadata": {},
   "outputs": [],
   "source": [
    "larray = np.array(lista)"
   ]
  },
  {
   "cell_type": "code",
   "execution_count": 4,
   "id": "70cc2199",
   "metadata": {},
   "outputs": [
    {
     "ename": "UFuncTypeError",
     "evalue": "ufunc 'multiply' did not contain a loop with signature matching types (dtype('<U21'), dtype('<U21')) -> dtype('<U21')",
     "output_type": "error",
     "traceback": [
      "\u001b[0;31m---------------------------------------------------------------------------\u001b[0m",
      "\u001b[0;31mUFuncTypeError\u001b[0m                            Traceback (most recent call last)",
      "\u001b[0;32m<ipython-input-4-fb3a4237bc30>\u001b[0m in \u001b[0;36m<module>\u001b[0;34m\u001b[0m\n\u001b[0;32m----> 1\u001b[0;31m \u001b[0mlarray\u001b[0m \u001b[0;34m*\u001b[0m \u001b[0;36m5\u001b[0m\u001b[0;34m\u001b[0m\u001b[0;34m\u001b[0m\u001b[0m\n\u001b[0m",
      "\u001b[0;31mUFuncTypeError\u001b[0m: ufunc 'multiply' did not contain a loop with signature matching types (dtype('<U21'), dtype('<U21')) -> dtype('<U21')"
     ]
    }
   ],
   "source": [
    "larray * 5"
   ]
  },
  {
   "cell_type": "markdown",
   "id": "d5e3a45e",
   "metadata": {},
   "source": [
    "#### ¿Por qué nos marca error?"
   ]
  },
  {
   "cell_type": "code",
   "execution_count": 11,
   "id": "01bf419f",
   "metadata": {},
   "outputs": [
    {
     "data": {
      "text/plain": [
       "(array([['1', '2'],\n",
       "        ['3', '4'],\n",
       "        ['5', 'na']], dtype='<U21'),\n",
       " (3, 2),\n",
       " numpy.ndarray)"
      ]
     },
     "execution_count": 11,
     "metadata": {},
     "output_type": "execute_result"
    }
   ],
   "source": [
    "larray, np.shape(larray), type(larray)"
   ]
  },
  {
   "cell_type": "markdown",
   "id": "3471c550",
   "metadata": {},
   "source": [
    "#### Investigar dtype=U en https://numpy.org/doc/stable/reference/arrays.dtypes.html "
   ]
  },
  {
   "cell_type": "code",
   "execution_count": 12,
   "id": "1f219cfd",
   "metadata": {},
   "outputs": [
    {
     "ename": "ValueError",
     "evalue": "could not convert string to float: 'na'",
     "output_type": "error",
     "traceback": [
      "\u001b[0;31m---------------------------------------------------------------------------\u001b[0m",
      "\u001b[0;31mValueError\u001b[0m                                Traceback (most recent call last)",
      "\u001b[0;32m<ipython-input-12-d7cc7675ccb4>\u001b[0m in \u001b[0;36m<module>\u001b[0;34m\u001b[0m\n\u001b[0;32m----> 1\u001b[0;31m \u001b[0mlarray\u001b[0m \u001b[0;34m=\u001b[0m \u001b[0mnp\u001b[0m\u001b[0;34m.\u001b[0m\u001b[0marray\u001b[0m\u001b[0;34m(\u001b[0m\u001b[0mlista\u001b[0m\u001b[0;34m,\u001b[0m \u001b[0mdtype\u001b[0m\u001b[0;34m=\u001b[0m\u001b[0;34m'float'\u001b[0m\u001b[0;34m)\u001b[0m\u001b[0;31m#'U21' cambiar tipo de datos.\u001b[0m\u001b[0;34m\u001b[0m\u001b[0;34m\u001b[0m\u001b[0m\n\u001b[0m",
      "\u001b[0;31mValueError\u001b[0m: could not convert string to float: 'na'"
     ]
    }
   ],
   "source": [
    "larray = np.array(lista, dtype='float')#'U21' cambiar tipo de datos."
   ]
  },
  {
   "cell_type": "markdown",
   "id": "16db7b46",
   "metadata": {},
   "source": [
    "Identificar dónde está el error"
   ]
  },
  {
   "cell_type": "code",
   "execution_count": 13,
   "id": "3ba96cc3",
   "metadata": {
    "scrolled": true
   },
   "outputs": [
    {
     "data": {
      "text/plain": [
       "'na'"
      ]
     },
     "execution_count": 13,
     "metadata": {},
     "output_type": "execute_result"
    }
   ],
   "source": [
    "lista[2][1]"
   ]
  },
  {
   "cell_type": "markdown",
   "id": "3932afd1",
   "metadata": {},
   "source": [
    "Cambiarlo por un tipo de dato válido"
   ]
  },
  {
   "cell_type": "code",
   "execution_count": 14,
   "id": "d3307b6b",
   "metadata": {},
   "outputs": [],
   "source": [
    "lista[2][1] = np.nan"
   ]
  },
  {
   "cell_type": "code",
   "execution_count": 15,
   "id": "63269245",
   "metadata": {},
   "outputs": [
    {
     "data": {
      "text/plain": [
       "[[1, 2], [3, 4], [5, nan]]"
      ]
     },
     "execution_count": 15,
     "metadata": {},
     "output_type": "execute_result"
    }
   ],
   "source": [
    "lista"
   ]
  },
  {
   "cell_type": "code",
   "execution_count": 16,
   "id": "33a5425c",
   "metadata": {},
   "outputs": [],
   "source": [
    "larray = np.array(lista)"
   ]
  },
  {
   "cell_type": "code",
   "execution_count": 17,
   "id": "f94d3a10",
   "metadata": {},
   "outputs": [
    {
     "data": {
      "text/plain": [
       "(array([[ 1.,  2.],\n",
       "        [ 3.,  4.],\n",
       "        [ 5., nan]]),\n",
       " (3, 2),\n",
       " numpy.ndarray)"
      ]
     },
     "execution_count": 17,
     "metadata": {},
     "output_type": "execute_result"
    }
   ],
   "source": [
    "larray, np.shape(larray), type(larray)"
   ]
  },
  {
   "cell_type": "markdown",
   "id": "076b183f",
   "metadata": {},
   "source": [
    "Volvamos a multiplicar"
   ]
  },
  {
   "cell_type": "code",
   "execution_count": 18,
   "id": "6efaa746",
   "metadata": {},
   "outputs": [
    {
     "data": {
      "text/plain": [
       "array([[ 5., 10.],\n",
       "       [15., 20.],\n",
       "       [25., nan]])"
      ]
     },
     "execution_count": 18,
     "metadata": {},
     "output_type": "execute_result"
    }
   ],
   "source": [
    "larray * 5"
   ]
  },
  {
   "cell_type": "markdown",
   "id": "8b79c9f2",
   "metadata": {},
   "source": [
    " ### Quitar valores nulos con sklearn.preprocessing https://scikit-learn.org/stable/modules/impute.html#impute"
   ]
  },
  {
   "cell_type": "code",
   "execution_count": 19,
   "id": "2c1af606",
   "metadata": {},
   "outputs": [],
   "source": [
    "from sklearn.impute import SimpleImputer"
   ]
  },
  {
   "cell_type": "code",
   "execution_count": 20,
   "id": "b47b10a8",
   "metadata": {},
   "outputs": [],
   "source": [
    "imp = SimpleImputer(missing_values=np.nan, strategy='mean')"
   ]
  },
  {
   "cell_type": "code",
   "execution_count": 21,
   "id": "ec3c946c",
   "metadata": {},
   "outputs": [
    {
     "data": {
      "text/plain": [
       "SimpleImputer()"
      ]
     },
     "execution_count": 21,
     "metadata": {},
     "output_type": "execute_result"
    }
   ],
   "source": [
    "imp.fit(larray)"
   ]
  },
  {
   "cell_type": "code",
   "execution_count": 22,
   "id": "edf3fa80",
   "metadata": {},
   "outputs": [
    {
     "data": {
      "text/plain": [
       "array([[1., 2.],\n",
       "       [3., 4.],\n",
       "       [5., 3.]])"
      ]
     },
     "execution_count": 22,
     "metadata": {},
     "output_type": "execute_result"
    }
   ],
   "source": [
    "imp.transform(larray)"
   ]
  },
  {
   "cell_type": "markdown",
   "id": "06bc37b3",
   "metadata": {},
   "source": [
    "##### Repetir y probar con diferentes estrategias\n",
    "#### Leer y quitar valores nulos con pandas"
   ]
  },
  {
   "cell_type": "code",
   "execution_count": 23,
   "id": "4449a07c",
   "metadata": {},
   "outputs": [],
   "source": [
    "import pandas as pd"
   ]
  },
  {
   "cell_type": "code",
   "execution_count": 24,
   "id": "095cfa8d",
   "metadata": {},
   "outputs": [
    {
     "data": {
      "text/plain": [
       "[[1, 2], [3, 'cualquiercosa'], [5, 10]]"
      ]
     },
     "execution_count": 24,
     "metadata": {},
     "output_type": "execute_result"
    }
   ],
   "source": [
    "# lista = [[1,2],[3,4],[5, \"na\"]]\n",
    "lista = [[1,2],[3,\"cualquiercosa\"],[5, 10]]\n",
    "lista"
   ]
  },
  {
   "cell_type": "code",
   "execution_count": 25,
   "id": "539b301e",
   "metadata": {},
   "outputs": [],
   "source": [
    "df = pd.DataFrame(lista)"
   ]
  },
  {
   "cell_type": "code",
   "execution_count": 26,
   "id": "d217a5f7",
   "metadata": {},
   "outputs": [
    {
     "name": "stdout",
     "output_type": "stream",
     "text": [
      "0    1\n",
      "1    3\n",
      "2    5\n",
      "Name: 0, dtype: int64\n",
      "0                2\n",
      "1    cualquiercosa\n",
      "2               10\n",
      "Name: 1, dtype: object\n"
     ]
    },
    {
     "data": {
      "text/plain": [
       "0                2\n",
       "1    cualquiercosa\n",
       "2               10\n",
       "Name: 1, dtype: object"
      ]
     },
     "execution_count": 26,
     "metadata": {},
     "output_type": "execute_result"
    }
   ],
   "source": [
    "# repasando dataframes de pandas \n",
    "# https://www.analyticslane.com/2019/06/21/seleccionar-filas-y-columnas-en-pandas-con-iloc-y-loc/\n",
    "print(df.iloc[:, 0]) # Primera columna\n",
    "print(df.iloc[:, 1]) # Segunda columna\n",
    "df.iloc[:, -1] # Última columna"
   ]
  },
  {
   "cell_type": "markdown",
   "id": "b2949328",
   "metadata": {},
   "source": [
    "Convertir a NAN valores erroneos"
   ]
  },
  {
   "cell_type": "code",
   "execution_count": 27,
   "id": "3a78ccb5",
   "metadata": {},
   "outputs": [
    {
     "data": {
      "text/plain": [
       "0     2.0\n",
       "1     NaN\n",
       "2    10.0\n",
       "Name: 1, dtype: float64"
      ]
     },
     "execution_count": 27,
     "metadata": {},
     "output_type": "execute_result"
    }
   ],
   "source": [
    "df2 = pd.to_numeric(df[1], errors ='coerce')\n",
    "df2"
   ]
  },
  {
   "cell_type": "code",
   "execution_count": 28,
   "id": "0e51998c",
   "metadata": {},
   "outputs": [
    {
     "data": {
      "text/plain": [
       "0     2.0\n",
       "2    10.0\n",
       "Name: 1, dtype: float64"
      ]
     },
     "execution_count": 28,
     "metadata": {},
     "output_type": "execute_result"
    }
   ],
   "source": [
    "df3=df2.dropna()\n",
    "df3"
   ]
  },
  {
   "cell_type": "code",
   "execution_count": 29,
   "id": "eabddc26",
   "metadata": {},
   "outputs": [
    {
     "data": {
      "text/plain": [
       "0     2.0\n",
       "2    10.0\n",
       "Name: 1, dtype: float64"
      ]
     },
     "execution_count": 29,
     "metadata": {},
     "output_type": "execute_result"
    }
   ],
   "source": [
    "df3=df2.dropna(how='any')\n",
    "df3"
   ]
  },
  {
   "cell_type": "markdown",
   "id": "83f375e9",
   "metadata": {},
   "source": [
    "En una sola linea y sustituir valor erróneo con 0"
   ]
  },
  {
   "cell_type": "code",
   "execution_count": 30,
   "id": "4f5a0aff",
   "metadata": {},
   "outputs": [
    {
     "data": {
      "text/plain": [
       "0     2.0\n",
       "1     0.0\n",
       "2    10.0\n",
       "Name: 1, dtype: float64"
      ]
     },
     "execution_count": 30,
     "metadata": {},
     "output_type": "execute_result"
    }
   ],
   "source": [
    "df2 = pd.to_numeric(df[1], errors ='coerce').fillna(0)#.astype('int')\n",
    "df2"
   ]
  },
  {
   "cell_type": "markdown",
   "id": "ccfe88c4",
   "metadata": {},
   "source": [
    "Sustituir nueva columna en el df original"
   ]
  },
  {
   "cell_type": "code",
   "execution_count": 31,
   "id": "c10ccfd4",
   "metadata": {},
   "outputs": [
    {
     "data": {
      "text/html": [
       "<div>\n",
       "<style scoped>\n",
       "    .dataframe tbody tr th:only-of-type {\n",
       "        vertical-align: middle;\n",
       "    }\n",
       "\n",
       "    .dataframe tbody tr th {\n",
       "        vertical-align: top;\n",
       "    }\n",
       "\n",
       "    .dataframe thead th {\n",
       "        text-align: right;\n",
       "    }\n",
       "</style>\n",
       "<table border=\"1\" class=\"dataframe\">\n",
       "  <thead>\n",
       "    <tr style=\"text-align: right;\">\n",
       "      <th></th>\n",
       "      <th>0</th>\n",
       "      <th>1</th>\n",
       "    </tr>\n",
       "  </thead>\n",
       "  <tbody>\n",
       "    <tr>\n",
       "      <th>0</th>\n",
       "      <td>1</td>\n",
       "      <td>2.0</td>\n",
       "    </tr>\n",
       "    <tr>\n",
       "      <th>1</th>\n",
       "      <td>3</td>\n",
       "      <td>0.0</td>\n",
       "    </tr>\n",
       "    <tr>\n",
       "      <th>2</th>\n",
       "      <td>5</td>\n",
       "      <td>10.0</td>\n",
       "    </tr>\n",
       "  </tbody>\n",
       "</table>\n",
       "</div>"
      ],
      "text/plain": [
       "   0     1\n",
       "0  1   2.0\n",
       "1  3   0.0\n",
       "2  5  10.0"
      ]
     },
     "execution_count": 31,
     "metadata": {},
     "output_type": "execute_result"
    }
   ],
   "source": [
    "df.iloc[:, 1] = df2\n",
    "df"
   ]
  },
  {
   "cell_type": "markdown",
   "id": "50219d78",
   "metadata": {},
   "source": [
    "## Cargar un archivo de texto\n",
    "### Es importante conocer el archivo de texto e inspeccionarlo previamente."
   ]
  },
  {
   "cell_type": "code",
   "execution_count": 32,
   "id": "fc52b3b4",
   "metadata": {},
   "outputs": [
    {
     "data": {
      "text/plain": [
       "array([[45., 70.,  8.],\n",
       "       [40., 60.,  7.],\n",
       "       [44., 55.,  6.],\n",
       "       [30., 50.,  7.],\n",
       "       [60., 85.,  9.],\n",
       "       [55., 65.,  8.],\n",
       "       [50., 73.,  5.],\n",
       "       [33., 70.,  8.]])"
      ]
     },
     "execution_count": 32,
     "metadata": {},
     "output_type": "execute_result"
    }
   ],
   "source": [
    "np.loadtxt('datasets/prueba1.csv', skiprows=1, usecols=[4,5,6])"
   ]
  },
  {
   "cell_type": "code",
   "execution_count": 33,
   "id": "97dd9114",
   "metadata": {},
   "outputs": [
    {
     "ename": "IndexError",
     "evalue": "list index out of range",
     "output_type": "error",
     "traceback": [
      "\u001b[0;31m---------------------------------------------------------------------------\u001b[0m",
      "\u001b[0;31mIndexError\u001b[0m                                Traceback (most recent call last)",
      "\u001b[0;32m<ipython-input-33-9524f2abe949>\u001b[0m in \u001b[0;36m<module>\u001b[0;34m\u001b[0m\n\u001b[0;32m----> 1\u001b[0;31m \u001b[0mnp\u001b[0m\u001b[0;34m.\u001b[0m\u001b[0mloadtxt\u001b[0m\u001b[0;34m(\u001b[0m\u001b[0;34m'datasets/prueba2.csv'\u001b[0m\u001b[0;34m,\u001b[0m \u001b[0mskiprows\u001b[0m\u001b[0;34m=\u001b[0m\u001b[0;36m1\u001b[0m\u001b[0;34m,\u001b[0m \u001b[0musecols\u001b[0m\u001b[0;34m=\u001b[0m\u001b[0;34m[\u001b[0m\u001b[0;36m4\u001b[0m\u001b[0;34m,\u001b[0m\u001b[0;36m5\u001b[0m\u001b[0;34m,\u001b[0m\u001b[0;36m6\u001b[0m\u001b[0;34m]\u001b[0m\u001b[0;34m)\u001b[0m \u001b[0;31m#, delimiter=',')\u001b[0m\u001b[0;34m\u001b[0m\u001b[0;34m\u001b[0m\u001b[0m\n\u001b[0m",
      "\u001b[0;32m~/.local/lib/python3.8/site-packages/numpy/lib/npyio.py\u001b[0m in \u001b[0;36mloadtxt\u001b[0;34m(fname, dtype, comments, delimiter, converters, skiprows, usecols, unpack, ndmin, encoding, max_rows)\u001b[0m\n\u001b[1;32m   1137\u001b[0m         \u001b[0;31m# converting the data\u001b[0m\u001b[0;34m\u001b[0m\u001b[0;34m\u001b[0m\u001b[0;34m\u001b[0m\u001b[0m\n\u001b[1;32m   1138\u001b[0m         \u001b[0mX\u001b[0m \u001b[0;34m=\u001b[0m \u001b[0;32mNone\u001b[0m\u001b[0;34m\u001b[0m\u001b[0;34m\u001b[0m\u001b[0m\n\u001b[0;32m-> 1139\u001b[0;31m         \u001b[0;32mfor\u001b[0m \u001b[0mx\u001b[0m \u001b[0;32min\u001b[0m \u001b[0mread_data\u001b[0m\u001b[0;34m(\u001b[0m\u001b[0m_loadtxt_chunksize\u001b[0m\u001b[0;34m)\u001b[0m\u001b[0;34m:\u001b[0m\u001b[0;34m\u001b[0m\u001b[0;34m\u001b[0m\u001b[0m\n\u001b[0m\u001b[1;32m   1140\u001b[0m             \u001b[0;32mif\u001b[0m \u001b[0mX\u001b[0m \u001b[0;32mis\u001b[0m \u001b[0;32mNone\u001b[0m\u001b[0;34m:\u001b[0m\u001b[0;34m\u001b[0m\u001b[0;34m\u001b[0m\u001b[0m\n\u001b[1;32m   1141\u001b[0m                 \u001b[0mX\u001b[0m \u001b[0;34m=\u001b[0m \u001b[0mnp\u001b[0m\u001b[0;34m.\u001b[0m\u001b[0marray\u001b[0m\u001b[0;34m(\u001b[0m\u001b[0mx\u001b[0m\u001b[0;34m,\u001b[0m \u001b[0mdtype\u001b[0m\u001b[0;34m)\u001b[0m\u001b[0;34m\u001b[0m\u001b[0;34m\u001b[0m\u001b[0m\n",
      "\u001b[0;32m~/.local/lib/python3.8/site-packages/numpy/lib/npyio.py\u001b[0m in \u001b[0;36mread_data\u001b[0;34m(chunk_size)\u001b[0m\n\u001b[1;32m   1058\u001b[0m                 \u001b[0;32mcontinue\u001b[0m\u001b[0;34m\u001b[0m\u001b[0;34m\u001b[0m\u001b[0m\n\u001b[1;32m   1059\u001b[0m             \u001b[0;32mif\u001b[0m \u001b[0musecols\u001b[0m\u001b[0;34m:\u001b[0m\u001b[0;34m\u001b[0m\u001b[0;34m\u001b[0m\u001b[0m\n\u001b[0;32m-> 1060\u001b[0;31m                 \u001b[0mvals\u001b[0m \u001b[0;34m=\u001b[0m \u001b[0;34m[\u001b[0m\u001b[0mvals\u001b[0m\u001b[0;34m[\u001b[0m\u001b[0mj\u001b[0m\u001b[0;34m]\u001b[0m \u001b[0;32mfor\u001b[0m \u001b[0mj\u001b[0m \u001b[0;32min\u001b[0m \u001b[0musecols\u001b[0m\u001b[0;34m]\u001b[0m\u001b[0;34m\u001b[0m\u001b[0;34m\u001b[0m\u001b[0m\n\u001b[0m\u001b[1;32m   1061\u001b[0m             \u001b[0;32mif\u001b[0m \u001b[0mlen\u001b[0m\u001b[0;34m(\u001b[0m\u001b[0mvals\u001b[0m\u001b[0;34m)\u001b[0m \u001b[0;34m!=\u001b[0m \u001b[0mN\u001b[0m\u001b[0;34m:\u001b[0m\u001b[0;34m\u001b[0m\u001b[0;34m\u001b[0m\u001b[0m\n\u001b[1;32m   1062\u001b[0m                 \u001b[0mline_num\u001b[0m \u001b[0;34m=\u001b[0m \u001b[0mi\u001b[0m \u001b[0;34m+\u001b[0m \u001b[0mskiprows\u001b[0m \u001b[0;34m+\u001b[0m \u001b[0;36m1\u001b[0m\u001b[0;34m\u001b[0m\u001b[0;34m\u001b[0m\u001b[0m\n",
      "\u001b[0;32m~/.local/lib/python3.8/site-packages/numpy/lib/npyio.py\u001b[0m in \u001b[0;36m<listcomp>\u001b[0;34m(.0)\u001b[0m\n\u001b[1;32m   1058\u001b[0m                 \u001b[0;32mcontinue\u001b[0m\u001b[0;34m\u001b[0m\u001b[0;34m\u001b[0m\u001b[0m\n\u001b[1;32m   1059\u001b[0m             \u001b[0;32mif\u001b[0m \u001b[0musecols\u001b[0m\u001b[0;34m:\u001b[0m\u001b[0;34m\u001b[0m\u001b[0;34m\u001b[0m\u001b[0m\n\u001b[0;32m-> 1060\u001b[0;31m                 \u001b[0mvals\u001b[0m \u001b[0;34m=\u001b[0m \u001b[0;34m[\u001b[0m\u001b[0mvals\u001b[0m\u001b[0;34m[\u001b[0m\u001b[0mj\u001b[0m\u001b[0;34m]\u001b[0m \u001b[0;32mfor\u001b[0m \u001b[0mj\u001b[0m \u001b[0;32min\u001b[0m \u001b[0musecols\u001b[0m\u001b[0;34m]\u001b[0m\u001b[0;34m\u001b[0m\u001b[0;34m\u001b[0m\u001b[0m\n\u001b[0m\u001b[1;32m   1061\u001b[0m             \u001b[0;32mif\u001b[0m \u001b[0mlen\u001b[0m\u001b[0;34m(\u001b[0m\u001b[0mvals\u001b[0m\u001b[0;34m)\u001b[0m \u001b[0;34m!=\u001b[0m \u001b[0mN\u001b[0m\u001b[0;34m:\u001b[0m\u001b[0;34m\u001b[0m\u001b[0;34m\u001b[0m\u001b[0m\n\u001b[1;32m   1062\u001b[0m                 \u001b[0mline_num\u001b[0m \u001b[0;34m=\u001b[0m \u001b[0mi\u001b[0m \u001b[0;34m+\u001b[0m \u001b[0mskiprows\u001b[0m \u001b[0;34m+\u001b[0m \u001b[0;36m1\u001b[0m\u001b[0;34m\u001b[0m\u001b[0;34m\u001b[0m\u001b[0m\n",
      "\u001b[0;31mIndexError\u001b[0m: list index out of range"
     ]
    }
   ],
   "source": [
    "np.loadtxt('datasets/prueba2.csv', skiprows=1, usecols=[4,5,6]) #, delimiter=',')"
   ]
  },
  {
   "cell_type": "markdown",
   "id": "02695f1a",
   "metadata": {},
   "source": [
    "¿Por qué marca error?\n",
    "\n",
    "Enfatizar en la importancia de conocer el tipo de archivo que se está leyendo. Comentar sobre editores de texto."
   ]
  },
  {
   "cell_type": "code",
   "execution_count": 34,
   "id": "2cccffb4",
   "metadata": {},
   "outputs": [
    {
     "data": {
      "text/html": [
       "<div>\n",
       "<style scoped>\n",
       "    .dataframe tbody tr th:only-of-type {\n",
       "        vertical-align: middle;\n",
       "    }\n",
       "\n",
       "    .dataframe tbody tr th {\n",
       "        vertical-align: top;\n",
       "    }\n",
       "\n",
       "    .dataframe thead th {\n",
       "        text-align: right;\n",
       "    }\n",
       "</style>\n",
       "<table border=\"1\" class=\"dataframe\">\n",
       "  <thead>\n",
       "    <tr style=\"text-align: right;\">\n",
       "      <th></th>\n",
       "      <th>Nombre</th>\n",
       "      <th>Apellido</th>\n",
       "      <th>Estado</th>\n",
       "      <th>Genero</th>\n",
       "      <th>Edad</th>\n",
       "      <th>Peso</th>\n",
       "      <th>Horas de sueño</th>\n",
       "    </tr>\n",
       "  </thead>\n",
       "  <tbody>\n",
       "    <tr>\n",
       "      <th>0</th>\n",
       "      <td>Juan</td>\n",
       "      <td>Perez</td>\n",
       "      <td>Veracruz</td>\n",
       "      <td>M</td>\n",
       "      <td>45</td>\n",
       "      <td>70</td>\n",
       "      <td>8</td>\n",
       "    </tr>\n",
       "    <tr>\n",
       "      <th>1</th>\n",
       "      <td>María</td>\n",
       "      <td>Gómez</td>\n",
       "      <td>Puebla</td>\n",
       "      <td>F</td>\n",
       "      <td>40</td>\n",
       "      <td>60</td>\n",
       "      <td>7</td>\n",
       "    </tr>\n",
       "    <tr>\n",
       "      <th>2</th>\n",
       "      <td>Jimena</td>\n",
       "      <td>Rodríguez</td>\n",
       "      <td>Veracruz</td>\n",
       "      <td>F</td>\n",
       "      <td>44</td>\n",
       "      <td>55</td>\n",
       "      <td>6</td>\n",
       "    </tr>\n",
       "    <tr>\n",
       "      <th>3</th>\n",
       "      <td>Alfredo</td>\n",
       "      <td>Hernández</td>\n",
       "      <td>México</td>\n",
       "      <td>M</td>\n",
       "      <td>30</td>\n",
       "      <td>50</td>\n",
       "      <td>7</td>\n",
       "    </tr>\n",
       "    <tr>\n",
       "      <th>4</th>\n",
       "      <td>Luis</td>\n",
       "      <td>hernandez</td>\n",
       "      <td>México</td>\n",
       "      <td>M</td>\n",
       "      <td>60</td>\n",
       "      <td>85</td>\n",
       "      <td>9</td>\n",
       "    </tr>\n",
       "    <tr>\n",
       "      <th>5</th>\n",
       "      <td>Gabriela</td>\n",
       "      <td>perez</td>\n",
       "      <td>Hidalgo</td>\n",
       "      <td>F</td>\n",
       "      <td>55</td>\n",
       "      <td>65</td>\n",
       "      <td>8</td>\n",
       "    </tr>\n",
       "    <tr>\n",
       "      <th>6</th>\n",
       "      <td>Enrique</td>\n",
       "      <td>García</td>\n",
       "      <td>Veracruz</td>\n",
       "      <td>M</td>\n",
       "      <td>50</td>\n",
       "      <td>73</td>\n",
       "      <td>5</td>\n",
       "    </tr>\n",
       "    <tr>\n",
       "      <th>7</th>\n",
       "      <td>Laura</td>\n",
       "      <td>Zamora</td>\n",
       "      <td>Puebla</td>\n",
       "      <td>F</td>\n",
       "      <td>33</td>\n",
       "      <td>70</td>\n",
       "      <td>8</td>\n",
       "    </tr>\n",
       "  </tbody>\n",
       "</table>\n",
       "</div>"
      ],
      "text/plain": [
       "     Nombre   Apellido    Estado Genero  Edad  Peso  Horas de sueño\n",
       "0      Juan      Perez  Veracruz      M    45    70               8\n",
       "1     María      Gómez    Puebla      F    40    60               7\n",
       "2    Jimena  Rodríguez  Veracruz      F    44    55               6\n",
       "3   Alfredo  Hernández    México      M    30    50               7\n",
       "4      Luis  hernandez    México      M    60    85               9\n",
       "5  Gabriela      perez   Hidalgo      F    55    65               8\n",
       "6   Enrique     García  Veracruz      M    50    73               5\n",
       "7     Laura     Zamora    Puebla      F    33    70               8"
      ]
     },
     "execution_count": 34,
     "metadata": {},
     "output_type": "execute_result"
    }
   ],
   "source": [
    "pd.read_csv('datasets/prueba2.csv')"
   ]
  },
  {
   "cell_type": "markdown",
   "id": "063b4b72",
   "metadata": {},
   "source": [
    "## Conversión de datos\n",
    "Referencia: https://www.programiz.com/python-programming/type-conversion-and-casting "
   ]
  },
  {
   "cell_type": "code",
   "execution_count": 35,
   "id": "b4e266a8",
   "metadata": {},
   "outputs": [
    {
     "name": "stdout",
     "output_type": "stream",
     "text": [
      "Tipo de datos de num_int: <class 'int'>\n",
      "Tipo de datos de num_flo: <class 'float'>\n",
      "Valor de num_new: 124.23\n",
      "Tipo de datos de num_new: <class 'float'>\n"
     ]
    }
   ],
   "source": [
    "# Ejemplo 1\n",
    "num_int = 123\n",
    "num_flo = 1.23\n",
    "\n",
    "num_new = num_int + num_flo\n",
    "\n",
    "print(\"Tipo de datos de num_int:\",type(num_int))\n",
    "print(\"Tipo de datos de num_flo:\",type(num_flo))\n",
    "\n",
    "print(\"Valor de num_new:\",num_new)\n",
    "print(\"Tipo de datos de num_new:\",type(num_new))"
   ]
  },
  {
   "cell_type": "code",
   "execution_count": 36,
   "id": "69e33822",
   "metadata": {},
   "outputs": [
    {
     "name": "stdout",
     "output_type": "stream",
     "text": [
      "Tipo de datos de num_int: <class 'int'>\n",
      "Tipo de datos de num_str: <class 'str'>\n"
     ]
    },
    {
     "ename": "TypeError",
     "evalue": "unsupported operand type(s) for +: 'int' and 'str'",
     "output_type": "error",
     "traceback": [
      "\u001b[0;31m---------------------------------------------------------------------------\u001b[0m",
      "\u001b[0;31mTypeError\u001b[0m                                 Traceback (most recent call last)",
      "\u001b[0;32m<ipython-input-36-ce2d83639357>\u001b[0m in \u001b[0;36m<module>\u001b[0;34m\u001b[0m\n\u001b[1;32m      6\u001b[0m \u001b[0mprint\u001b[0m\u001b[0;34m(\u001b[0m\u001b[0;34m\"Tipo de datos de num_str:\"\u001b[0m\u001b[0;34m,\u001b[0m\u001b[0mtype\u001b[0m\u001b[0;34m(\u001b[0m\u001b[0mnum_str\u001b[0m\u001b[0;34m)\u001b[0m\u001b[0;34m)\u001b[0m\u001b[0;34m\u001b[0m\u001b[0;34m\u001b[0m\u001b[0m\n\u001b[1;32m      7\u001b[0m \u001b[0;34m\u001b[0m\u001b[0m\n\u001b[0;32m----> 8\u001b[0;31m \u001b[0mprint\u001b[0m\u001b[0;34m(\u001b[0m\u001b[0mnum_int\u001b[0m\u001b[0;34m+\u001b[0m\u001b[0mnum_str\u001b[0m\u001b[0;34m)\u001b[0m\u001b[0;34m\u001b[0m\u001b[0;34m\u001b[0m\u001b[0m\n\u001b[0m",
      "\u001b[0;31mTypeError\u001b[0m: unsupported operand type(s) for +: 'int' and 'str'"
     ]
    }
   ],
   "source": [
    "# Ejemplo 2\n",
    "num_int = 123\n",
    "num_str = \"456\"\n",
    "\n",
    "print(\"Tipo de datos de num_int:\",type(num_int))\n",
    "print(\"Tipo de datos de num_str:\",type(num_str))\n",
    "\n",
    "print(num_int+num_str)"
   ]
  },
  {
   "cell_type": "code",
   "execution_count": 37,
   "id": "699ec95a",
   "metadata": {},
   "outputs": [
    {
     "name": "stdout",
     "output_type": "stream",
     "text": [
      "Tipo de dato de num_int: <class 'int'>\n",
      "Tipo de dato de num_str antes del Type Casting: <class 'str'>\n",
      "Tipo de dato de num_str después del Type Casting: <class 'int'>\n",
      "Suma de num_int y num_str: 579\n",
      "Tipo de dato de la suma: <class 'int'>\n"
     ]
    }
   ],
   "source": [
    "# Ejemplo 3\n",
    "num_int = 123\n",
    "num_str = \"456\"\n",
    "\n",
    "print(\"Tipo de dato de num_int:\",type(num_int))\n",
    "print(\"Tipo de dato de num_str antes del Type Casting:\",type(num_str))\n",
    "\n",
    "num_str = int(num_str)\n",
    "print(\"Tipo de dato de num_str después del Type Casting:\",type(num_str))\n",
    "\n",
    "num_sum = num_int + num_str\n",
    "\n",
    "print(\"Suma de num_int y num_str:\",num_sum)\n",
    "print(\"Tipo de dato de la suma:\",type(num_sum))"
   ]
  },
  {
   "cell_type": "code",
   "execution_count": 38,
   "id": "c353c134",
   "metadata": {},
   "outputs": [
    {
     "data": {
      "text/plain": [
       "(list, numpy.ndarray, pandas.core.frame.DataFrame)"
      ]
     },
     "execution_count": 38,
     "metadata": {},
     "output_type": "execute_result"
    }
   ],
   "source": [
    "# Ejemplo 4\n",
    "lista = [10,22,33,44,55]\n",
    "nparray = np.array(lista)\n",
    "df = pd.DataFrame(lista)\n",
    "type(lista), type(nparray), type(df)"
   ]
  },
  {
   "cell_type": "code",
   "execution_count": 39,
   "id": "b4d5d3bf",
   "metadata": {},
   "outputs": [
    {
     "data": {
      "text/plain": [
       "([10, 22, 33, 44, 55], list)"
      ]
     },
     "execution_count": 39,
     "metadata": {},
     "output_type": "execute_result"
    }
   ],
   "source": [
    "lista2 = list(nparray)\n",
    "lista2, type(lista2)"
   ]
  },
  {
   "cell_type": "code",
   "execution_count": 40,
   "id": "49529620",
   "metadata": {},
   "outputs": [
    {
     "data": {
      "text/plain": [
       "([0], list, int)"
      ]
     },
     "execution_count": 40,
     "metadata": {},
     "output_type": "execute_result"
    }
   ],
   "source": [
    "lista3 = list(df)\n",
    "lista3, type(lista3), type(lista3[0])"
   ]
  },
  {
   "cell_type": "code",
   "execution_count": 41,
   "id": "f431c9ed",
   "metadata": {},
   "outputs": [
    {
     "data": {
      "text/plain": [
       "([array([10]), array([22]), array([33]), array([44]), array([55])], list)"
      ]
     },
     "execution_count": 41,
     "metadata": {},
     "output_type": "execute_result"
    }
   ],
   "source": [
    "lista4 = list(df.values)\n",
    "lista4, type(lista4)"
   ]
  },
  {
   "cell_type": "markdown",
   "id": "8efee61d",
   "metadata": {},
   "source": [
    "### Filtrado de datos\n",
    "https://numpy.org/doc/stable/reference/routines.sort.html"
   ]
  },
  {
   "cell_type": "code",
   "execution_count": 42,
   "id": "7f6b0899",
   "metadata": {},
   "outputs": [
    {
     "data": {
      "text/plain": [
       "array([ 1,  4,  7, 10, 13, 16, 19, 22, 25, 28])"
      ]
     },
     "execution_count": 42,
     "metadata": {},
     "output_type": "execute_result"
    }
   ],
   "source": [
    "import numpy as np\n",
    "array = np.arange(1, 29, 3)\n",
    "array"
   ]
  },
  {
   "cell_type": "markdown",
   "id": "18601082",
   "metadata": {},
   "source": [
    "#### Seleccionar por índice un elemento"
   ]
  },
  {
   "cell_type": "code",
   "execution_count": 43,
   "id": "5f2e4d22",
   "metadata": {},
   "outputs": [
    {
     "data": {
      "text/plain": [
       "4"
      ]
     },
     "execution_count": 43,
     "metadata": {},
     "output_type": "execute_result"
    }
   ],
   "source": [
    "array[1]"
   ]
  },
  {
   "cell_type": "markdown",
   "id": "1bc7bbdd",
   "metadata": {},
   "source": [
    "#### Seleccionar un rango de elementos"
   ]
  },
  {
   "cell_type": "code",
   "execution_count": 44,
   "id": "9829cf55",
   "metadata": {},
   "outputs": [
    {
     "data": {
      "text/plain": [
       "array([ 7, 10, 13, 16])"
      ]
     },
     "execution_count": 44,
     "metadata": {},
     "output_type": "execute_result"
    }
   ],
   "source": [
    "array[2:6]"
   ]
  },
  {
   "cell_type": "markdown",
   "id": "02ad2cc7",
   "metadata": {},
   "source": [
    "#### Seleccionar los primeros 5 elementos"
   ]
  },
  {
   "cell_type": "code",
   "execution_count": 45,
   "id": "885d8e24",
   "metadata": {},
   "outputs": [
    {
     "data": {
      "text/plain": [
       "array([ 1,  4,  7, 10, 13])"
      ]
     },
     "execution_count": 45,
     "metadata": {},
     "output_type": "execute_result"
    }
   ],
   "source": [
    "array[:5]"
   ]
  },
  {
   "cell_type": "markdown",
   "id": "14a55e01",
   "metadata": {},
   "source": [
    "### Arreglos 2D"
   ]
  },
  {
   "cell_type": "code",
   "execution_count": 46,
   "id": "b0e6fef1",
   "metadata": {},
   "outputs": [
    {
     "data": {
      "text/plain": [
       "array([[11,  6,  4],\n",
       "       [ 2,  9,  9],\n",
       "       [10, 11, 12]])"
      ]
     },
     "execution_count": 46,
     "metadata": {},
     "output_type": "execute_result"
    }
   ],
   "source": [
    "## Matrices\n",
    "array = np.random.randint(1, 15, (3,3))\n",
    "array"
   ]
  },
  {
   "cell_type": "code",
   "execution_count": 47,
   "id": "25cd81cd",
   "metadata": {},
   "outputs": [
    {
     "data": {
      "text/plain": [
       "6"
      ]
     },
     "execution_count": 47,
     "metadata": {},
     "output_type": "execute_result"
    }
   ],
   "source": [
    "array[0, 1]"
   ]
  },
  {
   "cell_type": "code",
   "execution_count": 48,
   "id": "71c43977",
   "metadata": {},
   "outputs": [
    {
     "data": {
      "text/plain": [
       "array([2, 9, 9])"
      ]
     },
     "execution_count": 48,
     "metadata": {},
     "output_type": "execute_result"
    }
   ],
   "source": [
    "array[1, :]"
   ]
  },
  {
   "cell_type": "markdown",
   "id": "b3eac294",
   "metadata": {},
   "source": [
    "#### Con condiciones"
   ]
  },
  {
   "cell_type": "code",
   "execution_count": 49,
   "id": "8d37cb8c",
   "metadata": {},
   "outputs": [
    {
     "data": {
      "text/plain": [
       "array([4, 2])"
      ]
     },
     "execution_count": 49,
     "metadata": {},
     "output_type": "execute_result"
    }
   ],
   "source": [
    "array[array < 5]"
   ]
  },
  {
   "cell_type": "code",
   "execution_count": 50,
   "id": "f1175544",
   "metadata": {},
   "outputs": [
    {
     "data": {
      "text/plain": [
       "array([11,  4,  2, 10, 11, 12])"
      ]
     },
     "execution_count": 50,
     "metadata": {},
     "output_type": "execute_result"
    }
   ],
   "source": [
    "# OR\n",
    "array[(array < 5) | (array > 9)]"
   ]
  },
  {
   "cell_type": "code",
   "execution_count": 51,
   "id": "9cd74388",
   "metadata": {},
   "outputs": [
    {
     "data": {
      "text/plain": [
       "array([6])"
      ]
     },
     "execution_count": 51,
     "metadata": {},
     "output_type": "execute_result"
    }
   ],
   "source": [
    "#filter for values greater than 5 and less than 9\n",
    "array[(array > 5) & (array < 9)]"
   ]
  },
  {
   "cell_type": "code",
   "execution_count": 52,
   "id": "2c24b028",
   "metadata": {},
   "outputs": [
    {
     "data": {
      "text/plain": [
       "array([], shape=(0, 3), dtype=int64)"
      ]
     },
     "execution_count": 52,
     "metadata": {},
     "output_type": "execute_result"
    }
   ],
   "source": [
    "#filtrar filas to 2, 3, 5\n",
    "filtro = np.asarray([2,3,5])\n",
    "mask = np.in1d(array[:, 1], filtro)\n",
    "array[mask]\n",
    "# "
   ]
  },
  {
   "cell_type": "code",
   "execution_count": 53,
   "id": "d7dac73a",
   "metadata": {},
   "outputs": [
    {
     "data": {
      "text/plain": [
       "(array([ 6,  4,  2, 10, 12]), (5,))"
      ]
     },
     "execution_count": 53,
     "metadata": {},
     "output_type": "execute_result"
    }
   ],
   "source": [
    "# Condiciones más complejas\n",
    "array2 = array[np.where(array % 2 == 0)]\n",
    "array2, np.shape(array2)"
   ]
  },
  {
   "cell_type": "code",
   "execution_count": 54,
   "id": "675e86b0",
   "metadata": {},
   "outputs": [
    {
     "data": {
      "text/plain": [
       "array([[False,  True, False],\n",
       "       [False,  True,  True],\n",
       "       [False, False,  True]])"
      ]
     },
     "execution_count": 54,
     "metadata": {},
     "output_type": "execute_result"
    }
   ],
   "source": [
    "## Con mascara\n",
    "condition = np.mod(array, 3)==0\n",
    "condition"
   ]
  },
  {
   "cell_type": "code",
   "execution_count": 55,
   "id": "99efd58e",
   "metadata": {},
   "outputs": [
    {
     "data": {
      "text/plain": [
       "array([ 6,  9,  9, 12])"
      ]
     },
     "execution_count": 55,
     "metadata": {},
     "output_type": "execute_result"
    }
   ],
   "source": [
    "np.extract(condition, array)"
   ]
  },
  {
   "cell_type": "code",
   "execution_count": 56,
   "id": "f9ba83da",
   "metadata": {},
   "outputs": [
    {
     "data": {
      "text/plain": [
       "array([ 6,  9,  9, 12])"
      ]
     },
     "execution_count": 56,
     "metadata": {},
     "output_type": "execute_result"
    }
   ],
   "source": [
    "array[condition]"
   ]
  },
  {
   "cell_type": "code",
   "execution_count": 57,
   "id": "3bf77cea",
   "metadata": {},
   "outputs": [
    {
     "data": {
      "text/plain": [
       "array([[9, 4, 2],\n",
       "       [3, 5, 3]])"
      ]
     },
     "execution_count": 57,
     "metadata": {},
     "output_type": "execute_result"
    }
   ],
   "source": [
    "arr = np.random.randint(1, 10, (2,3))\n",
    "arr\n"
   ]
  },
  {
   "cell_type": "code",
   "execution_count": 58,
   "id": "50f7f47d",
   "metadata": {},
   "outputs": [
    {
     "data": {
      "text/plain": [
       "array([[44,  4,  2],\n",
       "       [ 3,  5,  3]])"
      ]
     },
     "execution_count": 58,
     "metadata": {},
     "output_type": "execute_result"
    }
   ],
   "source": [
    "np.place(arr, arr>5, [44, 55])\n",
    "arr"
   ]
  },
  {
   "cell_type": "markdown",
   "id": "ea4c91ac",
   "metadata": {},
   "source": [
    "### Filtros de datos con pandas"
   ]
  },
  {
   "cell_type": "code",
   "execution_count": 59,
   "id": "6c67d573",
   "metadata": {},
   "outputs": [
    {
     "data": {
      "text/html": [
       "<div>\n",
       "<style scoped>\n",
       "    .dataframe tbody tr th:only-of-type {\n",
       "        vertical-align: middle;\n",
       "    }\n",
       "\n",
       "    .dataframe tbody tr th {\n",
       "        vertical-align: top;\n",
       "    }\n",
       "\n",
       "    .dataframe thead th {\n",
       "        text-align: right;\n",
       "    }\n",
       "</style>\n",
       "<table border=\"1\" class=\"dataframe\">\n",
       "  <thead>\n",
       "    <tr style=\"text-align: right;\">\n",
       "      <th></th>\n",
       "      <th>Nombre</th>\n",
       "      <th>Apellido</th>\n",
       "      <th>Estado</th>\n",
       "      <th>Genero</th>\n",
       "      <th>Edad</th>\n",
       "      <th>Peso</th>\n",
       "      <th>Horas de sueño</th>\n",
       "    </tr>\n",
       "  </thead>\n",
       "  <tbody>\n",
       "    <tr>\n",
       "      <th>0</th>\n",
       "      <td>Juan</td>\n",
       "      <td>Perez</td>\n",
       "      <td>Veracruz</td>\n",
       "      <td>M</td>\n",
       "      <td>45.0</td>\n",
       "      <td>70.0</td>\n",
       "      <td>8.0</td>\n",
       "    </tr>\n",
       "    <tr>\n",
       "      <th>1</th>\n",
       "      <td>María</td>\n",
       "      <td>Gómez</td>\n",
       "      <td>Puebla</td>\n",
       "      <td>F</td>\n",
       "      <td>40.0</td>\n",
       "      <td>60.0</td>\n",
       "      <td>7.0</td>\n",
       "    </tr>\n",
       "    <tr>\n",
       "      <th>2</th>\n",
       "      <td>Jimena</td>\n",
       "      <td>Rodríguez</td>\n",
       "      <td>Veracruz</td>\n",
       "      <td>F</td>\n",
       "      <td>NaN</td>\n",
       "      <td>55.0</td>\n",
       "      <td>6.0</td>\n",
       "    </tr>\n",
       "    <tr>\n",
       "      <th>3</th>\n",
       "      <td>Alfredo</td>\n",
       "      <td>Hernández</td>\n",
       "      <td>México</td>\n",
       "      <td>M</td>\n",
       "      <td>30.0</td>\n",
       "      <td>NaN</td>\n",
       "      <td>NaN</td>\n",
       "    </tr>\n",
       "    <tr>\n",
       "      <th>4</th>\n",
       "      <td>Luis</td>\n",
       "      <td>hernandez</td>\n",
       "      <td>México</td>\n",
       "      <td>M</td>\n",
       "      <td>60.0</td>\n",
       "      <td>85.0</td>\n",
       "      <td>9.0</td>\n",
       "    </tr>\n",
       "    <tr>\n",
       "      <th>5</th>\n",
       "      <td>Gabriela</td>\n",
       "      <td>perez</td>\n",
       "      <td>Hidalgo</td>\n",
       "      <td>F</td>\n",
       "      <td>55.0</td>\n",
       "      <td>65.0</td>\n",
       "      <td>NaN</td>\n",
       "    </tr>\n",
       "    <tr>\n",
       "      <th>6</th>\n",
       "      <td>Enrique</td>\n",
       "      <td>García</td>\n",
       "      <td>Veracruz</td>\n",
       "      <td>M</td>\n",
       "      <td>50.0</td>\n",
       "      <td>73.0</td>\n",
       "      <td>5.0</td>\n",
       "    </tr>\n",
       "    <tr>\n",
       "      <th>7</th>\n",
       "      <td>Laura</td>\n",
       "      <td>Zamora</td>\n",
       "      <td>Puebla</td>\n",
       "      <td>F</td>\n",
       "      <td>33.0</td>\n",
       "      <td>70.0</td>\n",
       "      <td>8.0</td>\n",
       "    </tr>\n",
       "  </tbody>\n",
       "</table>\n",
       "</div>"
      ],
      "text/plain": [
       "     Nombre   Apellido    Estado Genero  Edad  Peso  Horas de sueño\n",
       "0      Juan      Perez  Veracruz      M  45.0  70.0             8.0\n",
       "1     María      Gómez    Puebla      F  40.0  60.0             7.0\n",
       "2    Jimena  Rodríguez  Veracruz      F   NaN  55.0             6.0\n",
       "3   Alfredo  Hernández    México      M  30.0   NaN             NaN\n",
       "4      Luis  hernandez    México      M  60.0  85.0             9.0\n",
       "5  Gabriela      perez   Hidalgo      F  55.0  65.0             NaN\n",
       "6   Enrique     García  Veracruz      M  50.0  73.0             5.0\n",
       "7     Laura     Zamora    Puebla      F  33.0  70.0             8.0"
      ]
     },
     "execution_count": 59,
     "metadata": {},
     "output_type": "execute_result"
    }
   ],
   "source": [
    "df = pd.read_csv('datasets/faltantes.csv')\n",
    "df"
   ]
  },
  {
   "cell_type": "code",
   "execution_count": 60,
   "id": "ca832a0f",
   "metadata": {},
   "outputs": [
    {
     "data": {
      "text/plain": [
       "0    False\n",
       "1     True\n",
       "2     True\n",
       "3    False\n",
       "4    False\n",
       "Name: Genero, dtype: bool"
      ]
     },
     "execution_count": 60,
     "metadata": {},
     "output_type": "execute_result"
    }
   ],
   "source": [
    "femenino = df['Genero'] == 'F'\n",
    "femenino.head()"
   ]
  },
  {
   "cell_type": "code",
   "execution_count": 61,
   "id": "70b557f0",
   "metadata": {},
   "outputs": [
    {
     "data": {
      "text/html": [
       "<div>\n",
       "<style scoped>\n",
       "    .dataframe tbody tr th:only-of-type {\n",
       "        vertical-align: middle;\n",
       "    }\n",
       "\n",
       "    .dataframe tbody tr th {\n",
       "        vertical-align: top;\n",
       "    }\n",
       "\n",
       "    .dataframe thead th {\n",
       "        text-align: right;\n",
       "    }\n",
       "</style>\n",
       "<table border=\"1\" class=\"dataframe\">\n",
       "  <thead>\n",
       "    <tr style=\"text-align: right;\">\n",
       "      <th></th>\n",
       "      <th>Nombre</th>\n",
       "      <th>Apellido</th>\n",
       "      <th>Estado</th>\n",
       "      <th>Genero</th>\n",
       "      <th>Edad</th>\n",
       "      <th>Peso</th>\n",
       "      <th>Horas de sueño</th>\n",
       "    </tr>\n",
       "  </thead>\n",
       "  <tbody>\n",
       "    <tr>\n",
       "      <th>1</th>\n",
       "      <td>María</td>\n",
       "      <td>Gómez</td>\n",
       "      <td>Puebla</td>\n",
       "      <td>F</td>\n",
       "      <td>40.0</td>\n",
       "      <td>60.0</td>\n",
       "      <td>7.0</td>\n",
       "    </tr>\n",
       "    <tr>\n",
       "      <th>2</th>\n",
       "      <td>Jimena</td>\n",
       "      <td>Rodríguez</td>\n",
       "      <td>Veracruz</td>\n",
       "      <td>F</td>\n",
       "      <td>NaN</td>\n",
       "      <td>55.0</td>\n",
       "      <td>6.0</td>\n",
       "    </tr>\n",
       "    <tr>\n",
       "      <th>5</th>\n",
       "      <td>Gabriela</td>\n",
       "      <td>perez</td>\n",
       "      <td>Hidalgo</td>\n",
       "      <td>F</td>\n",
       "      <td>55.0</td>\n",
       "      <td>65.0</td>\n",
       "      <td>NaN</td>\n",
       "    </tr>\n",
       "    <tr>\n",
       "      <th>7</th>\n",
       "      <td>Laura</td>\n",
       "      <td>Zamora</td>\n",
       "      <td>Puebla</td>\n",
       "      <td>F</td>\n",
       "      <td>33.0</td>\n",
       "      <td>70.0</td>\n",
       "      <td>8.0</td>\n",
       "    </tr>\n",
       "  </tbody>\n",
       "</table>\n",
       "</div>"
      ],
      "text/plain": [
       "     Nombre   Apellido    Estado Genero  Edad  Peso  Horas de sueño\n",
       "1     María      Gómez    Puebla      F  40.0  60.0             7.0\n",
       "2    Jimena  Rodríguez  Veracruz      F   NaN  55.0             6.0\n",
       "5  Gabriela      perez   Hidalgo      F  55.0  65.0             NaN\n",
       "7     Laura     Zamora    Puebla      F  33.0  70.0             8.0"
      ]
     },
     "execution_count": 61,
     "metadata": {},
     "output_type": "execute_result"
    }
   ],
   "source": [
    "df_fem = df[femenino]\n",
    "df_fem.head()"
   ]
  },
  {
   "cell_type": "code",
   "execution_count": 62,
   "id": "5885b361",
   "metadata": {},
   "outputs": [
    {
     "data": {
      "text/html": [
       "<div>\n",
       "<style scoped>\n",
       "    .dataframe tbody tr th:only-of-type {\n",
       "        vertical-align: middle;\n",
       "    }\n",
       "\n",
       "    .dataframe tbody tr th {\n",
       "        vertical-align: top;\n",
       "    }\n",
       "\n",
       "    .dataframe thead th {\n",
       "        text-align: right;\n",
       "    }\n",
       "</style>\n",
       "<table border=\"1\" class=\"dataframe\">\n",
       "  <thead>\n",
       "    <tr style=\"text-align: right;\">\n",
       "      <th></th>\n",
       "      <th>Nombre</th>\n",
       "      <th>Apellido</th>\n",
       "      <th>Estado</th>\n",
       "      <th>Genero</th>\n",
       "      <th>Edad</th>\n",
       "      <th>Peso</th>\n",
       "      <th>Horas de sueño</th>\n",
       "    </tr>\n",
       "  </thead>\n",
       "  <tbody>\n",
       "    <tr>\n",
       "      <th>1</th>\n",
       "      <td>María</td>\n",
       "      <td>Gómez</td>\n",
       "      <td>Puebla</td>\n",
       "      <td>F</td>\n",
       "      <td>40.0</td>\n",
       "      <td>60.0</td>\n",
       "      <td>7.0</td>\n",
       "    </tr>\n",
       "    <tr>\n",
       "      <th>2</th>\n",
       "      <td>Jimena</td>\n",
       "      <td>Rodríguez</td>\n",
       "      <td>Veracruz</td>\n",
       "      <td>F</td>\n",
       "      <td>NaN</td>\n",
       "      <td>55.0</td>\n",
       "      <td>6.0</td>\n",
       "    </tr>\n",
       "    <tr>\n",
       "      <th>5</th>\n",
       "      <td>Gabriela</td>\n",
       "      <td>perez</td>\n",
       "      <td>Hidalgo</td>\n",
       "      <td>F</td>\n",
       "      <td>55.0</td>\n",
       "      <td>65.0</td>\n",
       "      <td>NaN</td>\n",
       "    </tr>\n",
       "    <tr>\n",
       "      <th>7</th>\n",
       "      <td>Laura</td>\n",
       "      <td>Zamora</td>\n",
       "      <td>Puebla</td>\n",
       "      <td>F</td>\n",
       "      <td>33.0</td>\n",
       "      <td>70.0</td>\n",
       "      <td>8.0</td>\n",
       "    </tr>\n",
       "  </tbody>\n",
       "</table>\n",
       "</div>"
      ],
      "text/plain": [
       "     Nombre   Apellido    Estado Genero  Edad  Peso  Horas de sueño\n",
       "1     María      Gómez    Puebla      F  40.0  60.0             7.0\n",
       "2    Jimena  Rodríguez  Veracruz      F   NaN  55.0             6.0\n",
       "5  Gabriela      perez   Hidalgo      F  55.0  65.0             NaN\n",
       "7     Laura     Zamora    Puebla      F  33.0  70.0             8.0"
      ]
     },
     "execution_count": 62,
     "metadata": {},
     "output_type": "execute_result"
    }
   ],
   "source": [
    "# mas directo\n",
    "df_fem = df[df['Genero'] == \"F\"]\n",
    "df_fem"
   ]
  },
  {
   "cell_type": "code",
   "execution_count": 63,
   "id": "13aa2885",
   "metadata": {},
   "outputs": [
    {
     "data": {
      "text/html": [
       "<div>\n",
       "<style scoped>\n",
       "    .dataframe tbody tr th:only-of-type {\n",
       "        vertical-align: middle;\n",
       "    }\n",
       "\n",
       "    .dataframe tbody tr th {\n",
       "        vertical-align: top;\n",
       "    }\n",
       "\n",
       "    .dataframe thead th {\n",
       "        text-align: right;\n",
       "    }\n",
       "</style>\n",
       "<table border=\"1\" class=\"dataframe\">\n",
       "  <thead>\n",
       "    <tr style=\"text-align: right;\">\n",
       "      <th></th>\n",
       "      <th>Nombre</th>\n",
       "      <th>Apellido</th>\n",
       "      <th>Estado</th>\n",
       "      <th>Genero</th>\n",
       "      <th>Edad</th>\n",
       "      <th>Peso</th>\n",
       "      <th>Horas de sueño</th>\n",
       "    </tr>\n",
       "  </thead>\n",
       "  <tbody>\n",
       "    <tr>\n",
       "      <th>2</th>\n",
       "      <td>Jimena</td>\n",
       "      <td>Rodríguez</td>\n",
       "      <td>Veracruz</td>\n",
       "      <td>F</td>\n",
       "      <td>NaN</td>\n",
       "      <td>55.0</td>\n",
       "      <td>6.0</td>\n",
       "    </tr>\n",
       "  </tbody>\n",
       "</table>\n",
       "</div>"
      ],
      "text/plain": [
       "   Nombre   Apellido    Estado Genero  Edad  Peso  Horas de sueño\n",
       "2  Jimena  Rodríguez  Veracruz      F   NaN  55.0             6.0"
      ]
     },
     "execution_count": 63,
     "metadata": {},
     "output_type": "execute_result"
    }
   ],
   "source": [
    "df_null = df[df.Edad.isnull()] \n",
    "df_null.head()\n",
    "# Probar con horas de sueño"
   ]
  },
  {
   "cell_type": "code",
   "execution_count": 64,
   "id": "1ae882ba",
   "metadata": {},
   "outputs": [
    {
     "data": {
      "text/html": [
       "<div>\n",
       "<style scoped>\n",
       "    .dataframe tbody tr th:only-of-type {\n",
       "        vertical-align: middle;\n",
       "    }\n",
       "\n",
       "    .dataframe tbody tr th {\n",
       "        vertical-align: top;\n",
       "    }\n",
       "\n",
       "    .dataframe thead th {\n",
       "        text-align: right;\n",
       "    }\n",
       "</style>\n",
       "<table border=\"1\" class=\"dataframe\">\n",
       "  <thead>\n",
       "    <tr style=\"text-align: right;\">\n",
       "      <th></th>\n",
       "      <th>Nombre</th>\n",
       "      <th>Apellido</th>\n",
       "      <th>Estado</th>\n",
       "      <th>Genero</th>\n",
       "      <th>Edad</th>\n",
       "      <th>Peso</th>\n",
       "      <th>Horas de sueño</th>\n",
       "    </tr>\n",
       "  </thead>\n",
       "  <tbody>\n",
       "    <tr>\n",
       "      <th>0</th>\n",
       "      <td>Juan</td>\n",
       "      <td>Perez</td>\n",
       "      <td>Veracruz</td>\n",
       "      <td>M</td>\n",
       "      <td>45.0</td>\n",
       "      <td>70.0</td>\n",
       "      <td>8.0</td>\n",
       "    </tr>\n",
       "    <tr>\n",
       "      <th>1</th>\n",
       "      <td>María</td>\n",
       "      <td>Gómez</td>\n",
       "      <td>Puebla</td>\n",
       "      <td>F</td>\n",
       "      <td>40.0</td>\n",
       "      <td>60.0</td>\n",
       "      <td>7.0</td>\n",
       "    </tr>\n",
       "    <tr>\n",
       "      <th>3</th>\n",
       "      <td>Alfredo</td>\n",
       "      <td>Hernández</td>\n",
       "      <td>México</td>\n",
       "      <td>M</td>\n",
       "      <td>30.0</td>\n",
       "      <td>NaN</td>\n",
       "      <td>NaN</td>\n",
       "    </tr>\n",
       "    <tr>\n",
       "      <th>4</th>\n",
       "      <td>Luis</td>\n",
       "      <td>hernandez</td>\n",
       "      <td>México</td>\n",
       "      <td>M</td>\n",
       "      <td>60.0</td>\n",
       "      <td>85.0</td>\n",
       "      <td>9.0</td>\n",
       "    </tr>\n",
       "    <tr>\n",
       "      <th>5</th>\n",
       "      <td>Gabriela</td>\n",
       "      <td>perez</td>\n",
       "      <td>Hidalgo</td>\n",
       "      <td>F</td>\n",
       "      <td>55.0</td>\n",
       "      <td>65.0</td>\n",
       "      <td>NaN</td>\n",
       "    </tr>\n",
       "  </tbody>\n",
       "</table>\n",
       "</div>"
      ],
      "text/plain": [
       "     Nombre   Apellido    Estado Genero  Edad  Peso  Horas de sueño\n",
       "0      Juan      Perez  Veracruz      M  45.0  70.0             8.0\n",
       "1     María      Gómez    Puebla      F  40.0  60.0             7.0\n",
       "3   Alfredo  Hernández    México      M  30.0   NaN             NaN\n",
       "4      Luis  hernandez    México      M  60.0  85.0             9.0\n",
       "5  Gabriela      perez   Hidalgo      F  55.0  65.0             NaN"
      ]
     },
     "execution_count": 64,
     "metadata": {},
     "output_type": "execute_result"
    }
   ],
   "source": [
    "df_notnull = df[df.Edad.notnull()] \n",
    "df_notnull.head()"
   ]
  },
  {
   "cell_type": "code",
   "execution_count": 65,
   "id": "32026246",
   "metadata": {},
   "outputs": [
    {
     "data": {
      "text/html": [
       "<div>\n",
       "<style scoped>\n",
       "    .dataframe tbody tr th:only-of-type {\n",
       "        vertical-align: middle;\n",
       "    }\n",
       "\n",
       "    .dataframe tbody tr th {\n",
       "        vertical-align: top;\n",
       "    }\n",
       "\n",
       "    .dataframe thead th {\n",
       "        text-align: right;\n",
       "    }\n",
       "</style>\n",
       "<table border=\"1\" class=\"dataframe\">\n",
       "  <thead>\n",
       "    <tr style=\"text-align: right;\">\n",
       "      <th></th>\n",
       "      <th>Nombre</th>\n",
       "      <th>Apellido</th>\n",
       "      <th>Estado</th>\n",
       "      <th>Genero</th>\n",
       "      <th>Edad</th>\n",
       "      <th>Peso</th>\n",
       "      <th>Horas de sueño</th>\n",
       "    </tr>\n",
       "  </thead>\n",
       "  <tbody>\n",
       "    <tr>\n",
       "      <th>0</th>\n",
       "      <td>Juan</td>\n",
       "      <td>Perez</td>\n",
       "      <td>Veracruz</td>\n",
       "      <td>M</td>\n",
       "      <td>45.0</td>\n",
       "      <td>70.0</td>\n",
       "      <td>8.0</td>\n",
       "    </tr>\n",
       "    <tr>\n",
       "      <th>1</th>\n",
       "      <td>María</td>\n",
       "      <td>Gómez</td>\n",
       "      <td>Puebla</td>\n",
       "      <td>F</td>\n",
       "      <td>40.0</td>\n",
       "      <td>60.0</td>\n",
       "      <td>7.0</td>\n",
       "    </tr>\n",
       "  </tbody>\n",
       "</table>\n",
       "</div>"
      ],
      "text/plain": [
       "  Nombre Apellido    Estado Genero  Edad  Peso  Horas de sueño\n",
       "0   Juan    Perez  Veracruz      M  45.0  70.0             8.0\n",
       "1  María    Gómez    Puebla      F  40.0  60.0             7.0"
      ]
     },
     "execution_count": 65,
     "metadata": {},
     "output_type": "execute_result"
    }
   ],
   "source": [
    "# Filtrar por condicion\n",
    "df_filtered = df[df.Edad.isin([40, 45])]\n",
    "df_filtered\n"
   ]
  },
  {
   "cell_type": "code",
   "execution_count": 66,
   "id": "279f35aa",
   "metadata": {},
   "outputs": [
    {
     "data": {
      "text/html": [
       "<div>\n",
       "<style scoped>\n",
       "    .dataframe tbody tr th:only-of-type {\n",
       "        vertical-align: middle;\n",
       "    }\n",
       "\n",
       "    .dataframe tbody tr th {\n",
       "        vertical-align: top;\n",
       "    }\n",
       "\n",
       "    .dataframe thead th {\n",
       "        text-align: right;\n",
       "    }\n",
       "</style>\n",
       "<table border=\"1\" class=\"dataframe\">\n",
       "  <thead>\n",
       "    <tr style=\"text-align: right;\">\n",
       "      <th></th>\n",
       "      <th>Nombre</th>\n",
       "      <th>Apellido</th>\n",
       "      <th>Estado</th>\n",
       "      <th>Genero</th>\n",
       "      <th>Edad</th>\n",
       "      <th>Peso</th>\n",
       "      <th>Horas de sueño</th>\n",
       "    </tr>\n",
       "  </thead>\n",
       "  <tbody>\n",
       "    <tr>\n",
       "      <th>2</th>\n",
       "      <td>Jimena</td>\n",
       "      <td>Rodríguez</td>\n",
       "      <td>Veracruz</td>\n",
       "      <td>F</td>\n",
       "      <td>NaN</td>\n",
       "      <td>55.0</td>\n",
       "      <td>6.0</td>\n",
       "    </tr>\n",
       "    <tr>\n",
       "      <th>3</th>\n",
       "      <td>Alfredo</td>\n",
       "      <td>Hernández</td>\n",
       "      <td>México</td>\n",
       "      <td>M</td>\n",
       "      <td>30.0</td>\n",
       "      <td>NaN</td>\n",
       "      <td>NaN</td>\n",
       "    </tr>\n",
       "    <tr>\n",
       "      <th>4</th>\n",
       "      <td>Luis</td>\n",
       "      <td>hernandez</td>\n",
       "      <td>México</td>\n",
       "      <td>M</td>\n",
       "      <td>60.0</td>\n",
       "      <td>85.0</td>\n",
       "      <td>9.0</td>\n",
       "    </tr>\n",
       "    <tr>\n",
       "      <th>5</th>\n",
       "      <td>Gabriela</td>\n",
       "      <td>perez</td>\n",
       "      <td>Hidalgo</td>\n",
       "      <td>F</td>\n",
       "      <td>55.0</td>\n",
       "      <td>65.0</td>\n",
       "      <td>NaN</td>\n",
       "    </tr>\n",
       "    <tr>\n",
       "      <th>6</th>\n",
       "      <td>Enrique</td>\n",
       "      <td>García</td>\n",
       "      <td>Veracruz</td>\n",
       "      <td>M</td>\n",
       "      <td>50.0</td>\n",
       "      <td>73.0</td>\n",
       "      <td>5.0</td>\n",
       "    </tr>\n",
       "    <tr>\n",
       "      <th>7</th>\n",
       "      <td>Laura</td>\n",
       "      <td>Zamora</td>\n",
       "      <td>Puebla</td>\n",
       "      <td>F</td>\n",
       "      <td>33.0</td>\n",
       "      <td>70.0</td>\n",
       "      <td>8.0</td>\n",
       "    </tr>\n",
       "  </tbody>\n",
       "</table>\n",
       "</div>"
      ],
      "text/plain": [
       "     Nombre   Apellido    Estado Genero  Edad  Peso  Horas de sueño\n",
       "2    Jimena  Rodríguez  Veracruz      F   NaN  55.0             6.0\n",
       "3   Alfredo  Hernández    México      M  30.0   NaN             NaN\n",
       "4      Luis  hernandez    México      M  60.0  85.0             9.0\n",
       "5  Gabriela      perez   Hidalgo      F  55.0  65.0             NaN\n",
       "6   Enrique     García  Veracruz      M  50.0  73.0             5.0\n",
       "7     Laura     Zamora    Puebla      F  33.0  70.0             8.0"
      ]
     },
     "execution_count": 66,
     "metadata": {},
     "output_type": "execute_result"
    }
   ],
   "source": [
    "df_filtered = df[~df.Edad.isin([40, 45])]\n",
    "df_filtered\n",
    "        "
   ]
  },
  {
   "cell_type": "code",
   "execution_count": 67,
   "id": "ca493ed8",
   "metadata": {},
   "outputs": [
    {
     "data": {
      "text/html": [
       "<div>\n",
       "<style scoped>\n",
       "    .dataframe tbody tr th:only-of-type {\n",
       "        vertical-align: middle;\n",
       "    }\n",
       "\n",
       "    .dataframe tbody tr th {\n",
       "        vertical-align: top;\n",
       "    }\n",
       "\n",
       "    .dataframe thead th {\n",
       "        text-align: right;\n",
       "    }\n",
       "</style>\n",
       "<table border=\"1\" class=\"dataframe\">\n",
       "  <thead>\n",
       "    <tr style=\"text-align: right;\">\n",
       "      <th></th>\n",
       "      <th>Nombre</th>\n",
       "      <th>Apellido</th>\n",
       "      <th>Estado</th>\n",
       "      <th>Genero</th>\n",
       "      <th>Edad</th>\n",
       "      <th>Peso</th>\n",
       "      <th>Horas de sueño</th>\n",
       "    </tr>\n",
       "  </thead>\n",
       "  <tbody>\n",
       "    <tr>\n",
       "      <th>0</th>\n",
       "      <td>Juan</td>\n",
       "      <td>Perez</td>\n",
       "      <td>Veracruz</td>\n",
       "      <td>M</td>\n",
       "      <td>45.0</td>\n",
       "      <td>70.0</td>\n",
       "      <td>8.0</td>\n",
       "    </tr>\n",
       "    <tr>\n",
       "      <th>1</th>\n",
       "      <td>María</td>\n",
       "      <td>Gómez</td>\n",
       "      <td>Puebla</td>\n",
       "      <td>F</td>\n",
       "      <td>40.0</td>\n",
       "      <td>60.0</td>\n",
       "      <td>7.0</td>\n",
       "    </tr>\n",
       "  </tbody>\n",
       "</table>\n",
       "</div>"
      ],
      "text/plain": [
       "  Nombre Apellido    Estado Genero  Edad  Peso  Horas de sueño\n",
       "0   Juan    Perez  Veracruz      M  45.0  70.0             8.0\n",
       "1  María    Gómez    Puebla      F  40.0  60.0             7.0"
      ]
     },
     "execution_count": 67,
     "metadata": {},
     "output_type": "execute_result"
    }
   ],
   "source": [
    "### union de varias condiciones\n",
    "df_combined = df[df.Edad.isin([40, 45]) & df.Edad.notnull()]\n",
    "df_combined"
   ]
  },
  {
   "cell_type": "markdown",
   "id": "6a573e9f",
   "metadata": {},
   "source": [
    "## Selección de variables\n",
    "\n",
    "- ¿Qué variables no aportan información?\n",
    "\n",
    "- ¿Hay variables muy correlacionadas?, ¿Se pueden reducir variables?\n",
    "\n"
   ]
  },
  {
   "cell_type": "code",
   "execution_count": 68,
   "id": "59dc128a",
   "metadata": {},
   "outputs": [
    {
     "data": {
      "text/html": [
       "<div>\n",
       "<style scoped>\n",
       "    .dataframe tbody tr th:only-of-type {\n",
       "        vertical-align: middle;\n",
       "    }\n",
       "\n",
       "    .dataframe tbody tr th {\n",
       "        vertical-align: top;\n",
       "    }\n",
       "\n",
       "    .dataframe thead th {\n",
       "        text-align: right;\n",
       "    }\n",
       "</style>\n",
       "<table border=\"1\" class=\"dataframe\">\n",
       "  <thead>\n",
       "    <tr style=\"text-align: right;\">\n",
       "      <th></th>\n",
       "      <th>Nombre</th>\n",
       "      <th>Apellido</th>\n",
       "      <th>Estado</th>\n",
       "      <th>Genero</th>\n",
       "      <th>Edad</th>\n",
       "      <th>Peso</th>\n",
       "      <th>Horas de sueño</th>\n",
       "    </tr>\n",
       "  </thead>\n",
       "  <tbody>\n",
       "    <tr>\n",
       "      <th>0</th>\n",
       "      <td>Juan</td>\n",
       "      <td>Perez</td>\n",
       "      <td>Veracruz</td>\n",
       "      <td>M</td>\n",
       "      <td>45</td>\n",
       "      <td>70</td>\n",
       "      <td>8</td>\n",
       "    </tr>\n",
       "    <tr>\n",
       "      <th>1</th>\n",
       "      <td>María</td>\n",
       "      <td>Gómez</td>\n",
       "      <td>Puebla</td>\n",
       "      <td>F</td>\n",
       "      <td>40</td>\n",
       "      <td>60</td>\n",
       "      <td>7</td>\n",
       "    </tr>\n",
       "    <tr>\n",
       "      <th>2</th>\n",
       "      <td>Jimena</td>\n",
       "      <td>Rodríguez</td>\n",
       "      <td>Veracruz</td>\n",
       "      <td>F</td>\n",
       "      <td>44</td>\n",
       "      <td>55</td>\n",
       "      <td>6</td>\n",
       "    </tr>\n",
       "    <tr>\n",
       "      <th>3</th>\n",
       "      <td>Alfredo</td>\n",
       "      <td>Hernández</td>\n",
       "      <td>México</td>\n",
       "      <td>M</td>\n",
       "      <td>30</td>\n",
       "      <td>50</td>\n",
       "      <td>7</td>\n",
       "    </tr>\n",
       "    <tr>\n",
       "      <th>4</th>\n",
       "      <td>Luis</td>\n",
       "      <td>hernandez</td>\n",
       "      <td>México</td>\n",
       "      <td>M</td>\n",
       "      <td>60</td>\n",
       "      <td>85</td>\n",
       "      <td>9</td>\n",
       "    </tr>\n",
       "    <tr>\n",
       "      <th>5</th>\n",
       "      <td>Gabriela</td>\n",
       "      <td>perez</td>\n",
       "      <td>Hidalgo</td>\n",
       "      <td>F</td>\n",
       "      <td>55</td>\n",
       "      <td>65</td>\n",
       "      <td>8</td>\n",
       "    </tr>\n",
       "    <tr>\n",
       "      <th>6</th>\n",
       "      <td>Enrique</td>\n",
       "      <td>García</td>\n",
       "      <td>Veracruz</td>\n",
       "      <td>M</td>\n",
       "      <td>50</td>\n",
       "      <td>73</td>\n",
       "      <td>5</td>\n",
       "    </tr>\n",
       "    <tr>\n",
       "      <th>7</th>\n",
       "      <td>Laura</td>\n",
       "      <td>Zamora</td>\n",
       "      <td>Puebla</td>\n",
       "      <td>F</td>\n",
       "      <td>33</td>\n",
       "      <td>70</td>\n",
       "      <td>8</td>\n",
       "    </tr>\n",
       "  </tbody>\n",
       "</table>\n",
       "</div>"
      ],
      "text/plain": [
       "     Nombre   Apellido    Estado Genero  Edad  Peso  Horas de sueño\n",
       "0      Juan      Perez  Veracruz      M    45    70               8\n",
       "1     María      Gómez    Puebla      F    40    60               7\n",
       "2    Jimena  Rodríguez  Veracruz      F    44    55               6\n",
       "3   Alfredo  Hernández    México      M    30    50               7\n",
       "4      Luis  hernandez    México      M    60    85               9\n",
       "5  Gabriela      perez   Hidalgo      F    55    65               8\n",
       "6   Enrique     García  Veracruz      M    50    73               5\n",
       "7     Laura     Zamora    Puebla      F    33    70               8"
      ]
     },
     "execution_count": 68,
     "metadata": {},
     "output_type": "execute_result"
    }
   ],
   "source": [
    "df = pd.read_csv('datasets/prueba2.csv')\n",
    "df"
   ]
  },
  {
   "cell_type": "markdown",
   "id": "61bbdc83",
   "metadata": {},
   "source": [
    "#### Explorar visualmente"
   ]
  },
  {
   "cell_type": "code",
   "execution_count": 69,
   "id": "d4e092b4",
   "metadata": {},
   "outputs": [],
   "source": [
    "import seaborn as sns"
   ]
  },
  {
   "cell_type": "code",
   "execution_count": 70,
   "id": "e3d8e0dc",
   "metadata": {},
   "outputs": [
    {
     "data": {
      "text/plain": [
       "<seaborn.axisgrid.PairGrid at 0x7fcccb81aac0>"
      ]
     },
     "execution_count": 70,
     "metadata": {},
     "output_type": "execute_result"
    },
    {
     "data": {
      "image/png": "[encoded data removed]",
      "text/plain": [
       "<Figure size 540x540 with 12 Axes>"
      ]
     },
     "metadata": {
      "needs_background": "light"
     },
     "output_type": "display_data"
    }
   ],
   "source": [
    "sns.pairplot(df, diag_kind=\"kde\")"
   ]
  },
  {
   "cell_type": "code",
   "execution_count": 71,
   "id": "8175c75a",
   "metadata": {},
   "outputs": [
    {
     "data": {
      "text/plain": [
       "(150, 4)"
      ]
     },
     "execution_count": 71,
     "metadata": {},
     "output_type": "execute_result"
    }
   ],
   "source": [
    "from sklearn.datasets import load_iris\n",
    "from sklearn.feature_selection import SelectKBest\n",
    "from sklearn.feature_selection import chi2\n",
    "X, y = load_iris(return_X_y=True)\n",
    "X.shape"
   ]
  },
  {
   "cell_type": "code",
   "execution_count": 72,
   "id": "87c37598",
   "metadata": {
    "scrolled": true
   },
   "outputs": [
    {
     "data": {
      "text/plain": [
       "<seaborn.axisgrid.PairGrid at 0x7fccc0827f40>"
      ]
     },
     "execution_count": 72,
     "metadata": {},
     "output_type": "execute_result"
    },
    {
     "data": {
      "image/png": "[encoded data removed]",
      "text/plain": [
       "<Figure size 720x720 with 20 Axes>"
      ]
     },
     "metadata": {
      "needs_background": "light"
     },
     "output_type": "display_data"
    }
   ],
   "source": [
    "sns.pairplot(pd.DataFrame(X))"
   ]
  },
  {
   "cell_type": "markdown",
   "id": "f2fa148c",
   "metadata": {},
   "source": [
    "#### Calcular correlaciones"
   ]
  },
  {
   "cell_type": "markdown",
   "id": "b6bb14d2",
   "metadata": {},
   "source": [
    "Ver https://www.statology.org/correlation-in-python/ "
   ]
  },
  {
   "cell_type": "code",
   "execution_count": 73,
   "id": "455c9eaf",
   "metadata": {},
   "outputs": [
    {
     "data": {
      "text/plain": [
       "array([[1.        , 0.68047624],\n",
       "       [0.68047624, 1.        ]])"
      ]
     },
     "execution_count": 73,
     "metadata": {},
     "output_type": "execute_result"
    }
   ],
   "source": [
    "np.corrcoef(df['Edad'], df['Peso'])"
   ]
  },
  {
   "cell_type": "code",
   "execution_count": 74,
   "id": "9e070630",
   "metadata": {},
   "outputs": [
    {
     "data": {
      "text/html": [
       "<div>\n",
       "<style scoped>\n",
       "    .dataframe tbody tr th:only-of-type {\n",
       "        vertical-align: middle;\n",
       "    }\n",
       "\n",
       "    .dataframe tbody tr th {\n",
       "        vertical-align: top;\n",
       "    }\n",
       "\n",
       "    .dataframe thead th {\n",
       "        text-align: right;\n",
       "    }\n",
       "</style>\n",
       "<table border=\"1\" class=\"dataframe\">\n",
       "  <thead>\n",
       "    <tr style=\"text-align: right;\">\n",
       "      <th></th>\n",
       "      <th>Edad</th>\n",
       "      <th>Peso</th>\n",
       "      <th>Horas de sueño</th>\n",
       "    </tr>\n",
       "  </thead>\n",
       "  <tbody>\n",
       "    <tr>\n",
       "      <th>Edad</th>\n",
       "      <td>1.000000</td>\n",
       "      <td>0.680476</td>\n",
       "      <td>0.213535</td>\n",
       "    </tr>\n",
       "    <tr>\n",
       "      <th>Peso</th>\n",
       "      <td>0.680476</td>\n",
       "      <td>1.000000</td>\n",
       "      <td>0.423315</td>\n",
       "    </tr>\n",
       "    <tr>\n",
       "      <th>Horas de sueño</th>\n",
       "      <td>0.213535</td>\n",
       "      <td>0.423315</td>\n",
       "      <td>1.000000</td>\n",
       "    </tr>\n",
       "  </tbody>\n",
       "</table>\n",
       "</div>"
      ],
      "text/plain": [
       "                    Edad      Peso  Horas de sueño\n",
       "Edad            1.000000  0.680476        0.213535\n",
       "Peso            0.680476  1.000000        0.423315\n",
       "Horas de sueño  0.213535  0.423315        1.000000"
      ]
     },
     "execution_count": 74,
     "metadata": {},
     "output_type": "execute_result"
    }
   ],
   "source": [
    "# con pandas df\n",
    "df.corr()"
   ]
  },
  {
   "cell_type": "markdown",
   "id": "118e09e0",
   "metadata": {},
   "source": [
    "Analizar qué variables se usaron para calcular las correlaciones"
   ]
  },
  {
   "cell_type": "code",
   "execution_count": 75,
   "id": "039bbf4a",
   "metadata": {},
   "outputs": [
    {
     "data": {
      "text/plain": [
       "0.6804762399210915"
      ]
     },
     "execution_count": 75,
     "metadata": {},
     "output_type": "execute_result"
    }
   ],
   "source": [
    "df['Edad'].corr(df['Peso']) # a pares"
   ]
  },
  {
   "cell_type": "code",
   "execution_count": 76,
   "id": "4321fec5",
   "metadata": {
    "scrolled": true
   },
   "outputs": [
    {
     "data": {
      "text/html": [
       "<div>\n",
       "<style scoped>\n",
       "    .dataframe tbody tr th:only-of-type {\n",
       "        vertical-align: middle;\n",
       "    }\n",
       "\n",
       "    .dataframe tbody tr th {\n",
       "        vertical-align: top;\n",
       "    }\n",
       "\n",
       "    .dataframe thead th {\n",
       "        text-align: right;\n",
       "    }\n",
       "</style>\n",
       "<table border=\"1\" class=\"dataframe\">\n",
       "  <thead>\n",
       "    <tr style=\"text-align: right;\">\n",
       "      <th></th>\n",
       "      <th>0</th>\n",
       "      <th>1</th>\n",
       "      <th>2</th>\n",
       "      <th>3</th>\n",
       "    </tr>\n",
       "  </thead>\n",
       "  <tbody>\n",
       "    <tr>\n",
       "      <th>0</th>\n",
       "      <td>1.000000</td>\n",
       "      <td>-0.117570</td>\n",
       "      <td>0.871754</td>\n",
       "      <td>0.817941</td>\n",
       "    </tr>\n",
       "    <tr>\n",
       "      <th>1</th>\n",
       "      <td>-0.117570</td>\n",
       "      <td>1.000000</td>\n",
       "      <td>-0.428440</td>\n",
       "      <td>-0.366126</td>\n",
       "    </tr>\n",
       "    <tr>\n",
       "      <th>2</th>\n",
       "      <td>0.871754</td>\n",
       "      <td>-0.428440</td>\n",
       "      <td>1.000000</td>\n",
       "      <td>0.962865</td>\n",
       "    </tr>\n",
       "    <tr>\n",
       "      <th>3</th>\n",
       "      <td>0.817941</td>\n",
       "      <td>-0.366126</td>\n",
       "      <td>0.962865</td>\n",
       "      <td>1.000000</td>\n",
       "    </tr>\n",
       "  </tbody>\n",
       "</table>\n",
       "</div>"
      ],
      "text/plain": [
       "          0         1         2         3\n",
       "0  1.000000 -0.117570  0.871754  0.817941\n",
       "1 -0.117570  1.000000 -0.428440 -0.366126\n",
       "2  0.871754 -0.428440  1.000000  0.962865\n",
       "3  0.817941 -0.366126  0.962865  1.000000"
      ]
     },
     "execution_count": 76,
     "metadata": {},
     "output_type": "execute_result"
    }
   ],
   "source": [
    "df_iris = pd.DataFrame(X)\n",
    "df_iris.corr()"
   ]
  },
  {
   "cell_type": "markdown",
   "id": "5b342566",
   "metadata": {},
   "source": [
    "### Categoricas\n",
    "\n",
    "Usando prueba Chi-cuadrada, donde la Hipotesis nula es:\n",
    "\n",
    "H0: Las variables no están correlacionadas una con la otra.\n",
    "\n",
    "Si el P-value es mayor que 0.05, entonces H0 se acepta. Lo cual significaría que las variables no están correlacionadas.Si el valor del P-value es muy cercano a 0, menor a 0.5, las variables sí estarían correlacionadas."
   ]
  },
  {
   "cell_type": "code",
   "execution_count": 77,
   "id": "c9f19890",
   "metadata": {},
   "outputs": [
    {
     "name": "stdout",
     "output_type": "stream",
     "text": [
      "Estado  Hidalgo  México  Puebla  Veracruz\n",
      "Genero                                   \n",
      "F             1       0       2         1\n",
      "M             0       2       0         2\n",
      "The P-Value of the ChiSq Test is: 0.14895400671141978\n"
     ]
    }
   ],
   "source": [
    "# Fuente: https://thinkingneuron.com/how-to-measure-the-correlation-between-two-categorical-variables-in-python/\n",
    "\n",
    "CrosstabResult=pd.crosstab(index=df['Genero'],columns=df['Estado'])\n",
    "\n",
    "print(CrosstabResult)\n",
    " \n",
    "# importing the required function\n",
    "from scipy.stats import chi2_contingency\n",
    " \n",
    "# Performing Chi-sq test\n",
    "ChiSqResult = chi2_contingency(CrosstabResult)\n",
    " \n",
    "# P-Value is the Probability of H0 being True\n",
    "# If P-Value&gt;0.05 then only we Accept the assumption(H0)\n",
    " \n",
    "print('The P-Value of the ChiSq Test is:', ChiSqResult[1])"
   ]
  },
  {
   "cell_type": "markdown",
   "id": "545f1401",
   "metadata": {},
   "source": [
    "Ver más en: https://scikit-learn.org/stable/modules/feature_selection.html\n",
    "\n",
    "#### Escalamiento y estandarización"
   ]
  },
  {
   "cell_type": "code",
   "execution_count": 78,
   "id": "1114c365",
   "metadata": {},
   "outputs": [
    {
     "data": {
      "text/plain": [
       "MinMaxScaler()"
      ]
     },
     "execution_count": 78,
     "metadata": {},
     "output_type": "execute_result"
    }
   ],
   "source": [
    "from sklearn.preprocessing import MinMaxScaler\n",
    "# https://scikit-learn.org/stable/modules/generated/sklearn.preprocessing.MinMaxScaler.html\n",
    "data = [[-1, 2], [-0.5, 6], [0, 10], [1, 18]]\n",
    "scaler = MinMaxScaler()\n",
    "scaler.fit(data)"
   ]
  },
  {
   "cell_type": "code",
   "execution_count": 79,
   "id": "c91646a7",
   "metadata": {},
   "outputs": [
    {
     "name": "stdout",
     "output_type": "stream",
     "text": [
      "[ 1. 18.]\n"
     ]
    }
   ],
   "source": [
    "print(scaler.data_max_)"
   ]
  },
  {
   "cell_type": "code",
   "execution_count": 80,
   "id": "866384cb",
   "metadata": {},
   "outputs": [
    {
     "name": "stdout",
     "output_type": "stream",
     "text": [
      "[[0.   0.  ]\n",
      " [0.25 0.25]\n",
      " [0.5  0.5 ]\n",
      " [1.   1.  ]]\n"
     ]
    }
   ],
   "source": [
    "print(scaler.transform(data))"
   ]
  },
  {
   "cell_type": "code",
   "execution_count": 81,
   "id": "7b3dc9e7",
   "metadata": {},
   "outputs": [
    {
     "data": {
      "text/plain": [
       "array([[1.5, 0. ]])"
      ]
     },
     "execution_count": 81,
     "metadata": {},
     "output_type": "execute_result"
    }
   ],
   "source": [
    "scaler.transform([[2, 2]])"
   ]
  },
  {
   "cell_type": "code",
   "execution_count": 82,
   "id": "df54f329",
   "metadata": {},
   "outputs": [
    {
     "data": {
      "text/plain": [
       "StandardScaler()"
      ]
     },
     "execution_count": 82,
     "metadata": {},
     "output_type": "execute_result"
    }
   ],
   "source": [
    "from sklearn.preprocessing import StandardScaler\n",
    "# standard scaler\n",
    "data = [[-1, 2], [-0.5, 6], [0, 10], [1, 18]]\n",
    "scaler2 = StandardScaler()\n",
    "scaler2.fit(data)"
   ]
  },
  {
   "cell_type": "code",
   "execution_count": 83,
   "id": "991da7b7",
   "metadata": {},
   "outputs": [
    {
     "name": "stdout",
     "output_type": "stream",
     "text": [
      "[-0.125  9.   ]\n"
     ]
    }
   ],
   "source": [
    "print(scaler2.mean_)"
   ]
  },
  {
   "cell_type": "code",
   "execution_count": 84,
   "id": "90d70040",
   "metadata": {},
   "outputs": [
    {
     "name": "stdout",
     "output_type": "stream",
     "text": [
      "[[-1.18321596 -1.18321596]\n",
      " [-0.50709255 -0.50709255]\n",
      " [ 0.16903085  0.16903085]\n",
      " [ 1.52127766  1.52127766]]\n"
     ]
    }
   ],
   "source": [
    "print(scaler2.transform(data))"
   ]
  },
  {
   "cell_type": "code",
   "execution_count": 85,
   "id": "63b2a3ed",
   "metadata": {},
   "outputs": [
    {
     "data": {
      "text/plain": [
       "array([[ 2.87352447, -1.18321596]])"
      ]
     },
     "execution_count": 85,
     "metadata": {},
     "output_type": "execute_result"
    }
   ],
   "source": [
    "scaler2.transform([[2, 2]])"
   ]
  },
  {
   "cell_type": "markdown",
   "id": "16eb8b75",
   "metadata": {},
   "source": [
    "## Práctica\n",
    "\n",
    "Leer el archivo iris_bad.data, quitar valores erroneos, hacer un anális exploratorio y contestar las siguientes preguntas:\n",
    "\n",
    "- ¿Hay alguna correlación fuerte entre las variables numéricas?\n",
    "- ¿Consideras necesario eliminar una variable?\n",
    "- ¿Consideras necesario estandarizar una variable?"
   ]
  },
  {
   "cell_type": "code",
   "execution_count": 86,
   "id": "51c289e4",
   "metadata": {},
   "outputs": [
    {
     "data": {
      "text/html": [
       "<div>\n",
       "<style scoped>\n",
       "    .dataframe tbody tr th:only-of-type {\n",
       "        vertical-align: middle;\n",
       "    }\n",
       "\n",
       "    .dataframe tbody tr th {\n",
       "        vertical-align: top;\n",
       "    }\n",
       "\n",
       "    .dataframe thead th {\n",
       "        text-align: right;\n",
       "    }\n",
       "</style>\n",
       "<table border=\"1\" class=\"dataframe\">\n",
       "  <thead>\n",
       "    <tr style=\"text-align: right;\">\n",
       "      <th></th>\n",
       "      <th>sepallength</th>\n",
       "      <th>sepalwidth</th>\n",
       "      <th>petallength</th>\n",
       "      <th>petalwidth</th>\n",
       "      <th>class</th>\n",
       "    </tr>\n",
       "  </thead>\n",
       "  <tbody>\n",
       "    <tr>\n",
       "      <th>0</th>\n",
       "      <td>5.1</td>\n",
       "      <td>3.5</td>\n",
       "      <td>1.4</td>\n",
       "      <td>0.2</td>\n",
       "      <td>Iris-setosa</td>\n",
       "    </tr>\n",
       "    <tr>\n",
       "      <th>1</th>\n",
       "      <td>4.9</td>\n",
       "      <td>3.0</td>\n",
       "      <td>1.4</td>\n",
       "      <td>0.2</td>\n",
       "      <td>Iris-setosa</td>\n",
       "    </tr>\n",
       "    <tr>\n",
       "      <th>2</th>\n",
       "      <td>4.7</td>\n",
       "      <td>3.2</td>\n",
       "      <td>1.3</td>\n",
       "      <td>0.2</td>\n",
       "      <td>Iris-setosa</td>\n",
       "    </tr>\n",
       "    <tr>\n",
       "      <th>3</th>\n",
       "      <td>4.6</td>\n",
       "      <td>3.1</td>\n",
       "      <td>na</td>\n",
       "      <td>0.2</td>\n",
       "      <td>Iris-setosa</td>\n",
       "    </tr>\n",
       "    <tr>\n",
       "      <th>4</th>\n",
       "      <td>5.0</td>\n",
       "      <td>3.6</td>\n",
       "      <td>1.4</td>\n",
       "      <td>0.2</td>\n",
       "      <td>Iris-setosa</td>\n",
       "    </tr>\n",
       "    <tr>\n",
       "      <th>5</th>\n",
       "      <td>5.4</td>\n",
       "      <td>3.9</td>\n",
       "      <td>1.7</td>\n",
       "      <td>0.4</td>\n",
       "      <td>Iris-setosa</td>\n",
       "    </tr>\n",
       "    <tr>\n",
       "      <th>6</th>\n",
       "      <td>4.6</td>\n",
       "      <td>3.4</td>\n",
       "      <td>1.4</td>\n",
       "      <td>0.3</td>\n",
       "      <td>Iris-setosa</td>\n",
       "    </tr>\n",
       "    <tr>\n",
       "      <th>7</th>\n",
       "      <td>5.0</td>\n",
       "      <td>3.4</td>\n",
       "      <td>1.5</td>\n",
       "      <td>0.2</td>\n",
       "      <td>Iris-setosa</td>\n",
       "    </tr>\n",
       "    <tr>\n",
       "      <th>8</th>\n",
       "      <td>4.4</td>\n",
       "      <td>2.9</td>\n",
       "      <td>1.4</td>\n",
       "      <td>0.2</td>\n",
       "      <td>Iris-setosa</td>\n",
       "    </tr>\n",
       "    <tr>\n",
       "      <th>9</th>\n",
       "      <td>4.9</td>\n",
       "      <td>3.1</td>\n",
       "      <td>1.5</td>\n",
       "      <td>0.1</td>\n",
       "      <td>Iris-setosa</td>\n",
       "    </tr>\n",
       "  </tbody>\n",
       "</table>\n",
       "</div>"
      ],
      "text/plain": [
       "  sepallength sepalwidth petallength petalwidth        class\n",
       "0         5.1        3.5         1.4        0.2  Iris-setosa\n",
       "1         4.9        3.0         1.4        0.2  Iris-setosa\n",
       "2         4.7        3.2         1.3        0.2  Iris-setosa\n",
       "3         4.6        3.1          na        0.2  Iris-setosa\n",
       "4         5.0        3.6         1.4        0.2  Iris-setosa\n",
       "5         5.4        3.9         1.7        0.4  Iris-setosa\n",
       "6         4.6        3.4         1.4        0.3  Iris-setosa\n",
       "7         5.0        3.4         1.5        0.2  Iris-setosa\n",
       "8         4.4        2.9         1.4        0.2  Iris-setosa\n",
       "9         4.9        3.1         1.5        0.1  Iris-setosa"
      ]
     },
     "execution_count": 86,
     "metadata": {},
     "output_type": "execute_result"
    }
   ],
   "source": [
    "df = pd.read_csv('datasets/iris/iris_bad.data')\n",
    "df.head(10)"
   ]
  },
  {
   "cell_type": "code",
   "execution_count": null,
   "id": "8bcc16d0",
   "metadata": {},
   "outputs": [],
   "source": []
  }
 ],
 "metadata": {
  "kernelspec": {
   "display_name": "Python 3 (ipykernel)",
   "language": "python",
   "name": "python3"
  },
  "language_info": {
   "codemirror_mode": {
    "name": "ipython",
    "version": 3
   },
   "file_extension": ".py",
   "mimetype": "text/x-python",
   "name": "python",
   "nbconvert_exporter": "python",
   "pygments_lexer": "ipython3",
   "version": "3.9.13"
  }
 },
 "nbformat": 4,
 "nbformat_minor": 5
}
